{
  "nbformat": 4,
  "nbformat_minor": 0,
  "metadata": {
    "colab": {
      "name": "04_regresja_liniowa.ipynb",
      "provenance": [],
      "collapsed_sections": [],
      "include_colab_link": true
    },
    "kernelspec": {
      "name": "python3",
      "display_name": "Python 3"
    },
    "accelerator": "GPU"
  },
  "cells": [
    {
      "cell_type": "markdown",
      "metadata": {
        "id": "view-in-github",
        "colab_type": "text"
      },
      "source": [
        "<a href=\"https://colab.research.google.com/github/Sylwiaes/machine-learning-bootcamp/blob/main/06_uczenie_maszynowe/04_regresja_liniowa.ipynb\" target=\"_parent\"><img src=\"https://colab.research.google.com/assets/colab-badge.svg\" alt=\"Open In Colab\"/></a>"
      ]
    },
    {
      "cell_type": "markdown",
      "metadata": {
        "id": "dh1af8wsKEz5"
      },
      "source": [
        "* @author: krakowiakpawel9@gmail.com  \n",
        "* @site: e-smartdata.org"
      ]
    },
    {
      "cell_type": "markdown",
      "metadata": {
        "id": "xM27VDgTlXdO"
      },
      "source": [
        "### scikit-learn\n",
        "Strona biblioteki: [https://scikit-learn.org](https://scikit-learn.org)  \n",
        "\n",
        "Dokumentacja/User Guide: [https://scikit-learn.org/stable/user_guide.html](https://scikit-learn.org/stable/user_guide.html)\n",
        "\n",
        "Podstawowa biblioteka do uczenia maszynowego w języku Python.\n",
        "\n",
        "Aby zainstalować bibliotekę scikit-learn, użyj polecenia poniżej:\n",
        "```\n",
        "pip install scikit-learn\n",
        "```\n",
        "\n",
        "### Spis treści:\n",
        "1. [Regresja liniowa - wprowadzenie](#a1)\n",
        "2. [Wygenerowanie danych](#a2)\n",
        "3. [Podział danych na zbiór treningowy i testowy](#a3)\n",
        "4. [Wizualizacja](#a4)\n",
        "5. [Regresja liniowa](#a5)\n",
        "6. [Wizualizacja zbioru treningowego i dopasowanego modelu](#a6)\n",
        "7. [Wizualizacja zbioru testowego i dopasowanego modelu](#a7)\n",
        "8. [Ocena modelu](#a8)\n",
        "9. [Przykład złego zastosowania regresji liniowej](#a9)"
      ]
    },
    {
      "cell_type": "code",
      "metadata": {
        "id": "T5xUlwcVlYg4",
        "colab": {
          "base_uri": "https://localhost:8080/",
          "height": 35
        },
        "outputId": "37991915-a8b5-4e7b-d50e-98c0f191773f"
      },
      "source": [
        "import sklearn\n",
        "sklearn.__version__"
      ],
      "execution_count": null,
      "outputs": [
        {
          "output_type": "execute_result",
          "data": {
            "application/vnd.google.colaboratory.intrinsic+json": {
              "type": "string"
            },
            "text/plain": [
              "'0.22.2.post1'"
            ]
          },
          "metadata": {
            "tags": []
          },
          "execution_count": 1
        }
      ]
    },
    {
      "cell_type": "markdown",
      "metadata": {
        "id": "O0beFDfiWD97"
      },
      "source": [
        "### <a name='a1'></a> Regresja Liniowa - wprowadzenie\n",
        "\n",
        "Zdefiniujmy:\n",
        "- $X_1, X_2, ..., X_n$ - zmienne niezależne (nasze dane do modelu)\n",
        "- $Y$ - zmienna docelowa, którą będziemy przewidywać\n",
        "- $y_{true}$ - wartość rzeczywista\n",
        "- $y_{pred}$ - wartość przewidziana przez model\n",
        "- $w_0, w_1,...,w_n$ - wagi do modelu (podlegaja uczeniu)\n",
        "\n",
        "W tym modelu zakłada się. ze wartość przewidywana $y_{pred}$ może być liniową kombinacją zmiennych niezależnych. Ogólna postac modelu:\n",
        "\n",
        ">  $$y_{pred}(W, X) = w_0 + w_1X_1 + ... + w_nX_n$$\n",
        ">  $$Y = XW$$\n",
        "\n",
        "gdzie:\n",
        ">  $X = \\begin{pmatrix} 1 & X_1 & X_2 & \\dots & X_n\\end{pmatrix}$,  $W = \\begin{pmatrix} w_{0} \\\\  w_{1}  \\\\ \\dots \\\\ w_{n}\\end{pmatrix}$\n",
        "\n",
        "Wprowadźmy oznaczenia:\n",
        "- $w = (w_1,...w_n)$ jako `coef_`\n",
        "- $w_0$ jako `intercept_`\n",
        "\n",
        "Regresja Liniowa polega na takim dopasowaniu wag $w_0, w_1,...,w_n$ by zminimalizować funkcję kosztu(cost function):\n",
        ">$$||XW-Y||_{2}^{2} \\rightarrow min$$  \n",
        "\n",
        "Przykład w $R^2$:  \n",
        "$Y=w_0 + w_1X_1$\n",
        "\n",
        "Przykład w $R^3$:  \n",
        "$Y=w_0 + w_1X_1 + w_2X_2$\n",
        "\n",
        "\n"
      ]
    },
    {
      "cell_type": "markdown",
      "metadata": {
        "id": "g9TFJqBl6zsj"
      },
      "source": [
        "### Podstawowe założenia regresji liniowej\n",
        "\n",
        "* mamy zależność liniową\n",
        "* wariancja reszt jest taka sama dla wszystkich obserwacji\n",
        "* brak współliniowości (żaden z predyktorów nie stanowi kombinacji liniowej innych predyktorów)"
      ]
    },
    {
      "cell_type": "markdown",
      "metadata": {
        "id": "peQ6zK3Vf6bL"
      },
      "source": [
        "### <a name='a2'></a> Wygenerowanie danych\n",
        "\n",
        "Przykład w $R^2$:  \n",
        "$Y=w_0 + w_1X_1$"
      ]
    },
    {
      "cell_type": "code",
      "metadata": {
        "id": "hkcj5Yb_VhrK",
        "colab": {
          "base_uri": "https://localhost:8080/"
        },
        "outputId": "926a74f6-baff-437b-c062-dd6e5759a6ea"
      },
      "source": [
        "import numpy as np\n",
        "np.random.seed(10)\n",
        "\n",
        "X = np.arange(0, 50, 0.5)\n",
        "noise = 10 * np.random.randn(100) #dodajemy szum do danych\n",
        "y = 2 * X + 100 + noise\n",
        "X = X.reshape(-1, 1)\n",
        "\n",
        "print('Rozmiar X:',X.shape)\n",
        "print('Rozmiar y:', y.shape)"
      ],
      "execution_count": null,
      "outputs": [
        {
          "output_type": "stream",
          "text": [
            "Rozmiar X: (100, 1)\n",
            "Rozmiar y: (100,)\n"
          ],
          "name": "stdout"
        }
      ]
    },
    {
      "cell_type": "markdown",
      "metadata": {
        "id": "mFgAtdiUknXb"
      },
      "source": [
        "### <a name='a3'></a> Podział danych na zbiór treningowy i testowy"
      ]
    },
    {
      "cell_type": "code",
      "metadata": {
        "id": "dOEYo3hCkq_z",
        "colab": {
          "base_uri": "https://localhost:8080/"
        },
        "outputId": "aa76e26c-e26e-4f29-f72e-a172ab9e6290"
      },
      "source": [
        "from sklearn.model_selection import train_test_split\n",
        "\n",
        "X_train, X_test, y_train, y_test = train_test_split(X, y, test_size=0.25) #dzielimy na zbiór treningowy i testowy\n",
        "\n",
        "print('X_train shape:', X_train.shape)\n",
        "print('X_test shape:', X_test.shape)\n",
        "print('y_train_shape', y_train.shape)\n",
        "print('y_test shape', y_test.shape)"
      ],
      "execution_count": null,
      "outputs": [
        {
          "output_type": "stream",
          "text": [
            "X_train shape: (75, 1)\n",
            "X_test shape: (25, 1)\n",
            "y_train_shape (75,)\n",
            "y_test shape (25,)\n"
          ],
          "name": "stdout"
        }
      ]
    },
    {
      "cell_type": "markdown",
      "metadata": {
        "id": "oopABUY3f93i"
      },
      "source": [
        "### <a name='a4'></a> Wizualizacja"
      ]
    },
    {
      "cell_type": "code",
      "metadata": {
        "id": "c74espDVe-Wj",
        "colab": {
          "base_uri": "https://localhost:8080/",
          "height": 356
        },
        "outputId": "ed64ccde-2e50-4178-fd6c-0730a46047c7"
      },
      "source": [
        "import matplotlib.pyplot as plt\n",
        "import seaborn as sns\n",
        "sns.set()\n",
        "\n",
        "plt.figure(figsize=(7, 5))\n",
        "plt.scatter(X_train, y_train, c='b', label='Zbiór treningowy')\n",
        "plt.scatter(X_test, y_test, c='g', label='Zbiór testowy')\n",
        "plt.xlabel('X')\n",
        "plt.ylabel('y')\n",
        "plt.legend()\n",
        "#dane sa dzielone losowo"
      ],
      "execution_count": null,
      "outputs": [
        {
          "output_type": "execute_result",
          "data": {
            "text/plain": [
              "<matplotlib.legend.Legend at 0x7fbf4522dfd0>"
            ]
          },
          "metadata": {
            "tags": []
          },
          "execution_count": 7
        },
        {
          "output_type": "display_data",
          "data": {
            "image/png": "[encoded data removed]",
            "text/plain": [
              "<Figure size 504x360 with 1 Axes>"
            ]
          },
          "metadata": {
            "tags": []
          }
        }
      ]
    },
    {
      "cell_type": "markdown",
      "metadata": {
        "id": "sNdzJ6cRpu6T"
      },
      "source": [
        "### <a name='a5'></a> Regresja liniowa"
      ]
    },
    {
      "cell_type": "code",
      "metadata": {
        "id": "CxMuN3E4fTWJ",
        "colab": {
          "base_uri": "https://localhost:8080/"
        },
        "outputId": "58d91329-42a0-4837-d9e5-7ca3dbc18f99"
      },
      "source": [
        "from sklearn.linear_model import LinearRegression\n",
        "\n",
        "lin_reg = LinearRegression()\n",
        "lin_reg.fit(X_train, y_train)\n",
        "\n",
        "print(lin_reg.coef_)\n",
        "print(lin_reg.intercept_)"
      ],
      "execution_count": null,
      "outputs": [
        {
          "output_type": "stream",
          "text": [
            "[1.93429284]\n",
            "102.91692388965171\n"
          ],
          "name": "stdout"
        }
      ]
    },
    {
      "cell_type": "markdown",
      "metadata": {
        "id": "aFC7wSpmmbT1"
      },
      "source": [
        "Rozwiązaniem jest prosta o postaci:\n",
        "$Y=101.86 + 1.93\\cdot X_1$   \n",
        "### <a name='a6'></a>  Wizualizacja zbioru treningowego i dopasowanego modelu"
      ]
    },
    {
      "cell_type": "code",
      "metadata": {
        "id": "Lsaj34safVTY",
        "colab": {
          "base_uri": "https://localhost:8080/",
          "height": 372
        },
        "outputId": "cddae877-b13f-4c9c-aaa1-6d2fe52f956f"
      },
      "source": [
        "plt.figure(figsize=(7, 5))\n",
        "plt.title('Regresja Liniowa - jedna zmienna')\n",
        "plt.scatter(X_train, y_train, c='b', label='Zbiór treningowy')\n",
        "plt.plot(X, lin_reg.intercept_ + lin_reg.coef_[0] * X, c='red')\n",
        "plt.xlabel('X')\n",
        "plt.ylabel('y')\n",
        "plt.legend()\n",
        "#wykres ze zbiorem treningowym i prosta, której nauczył sie nasz model, najlepsze dopasowanie jakie mógł znaleźć nasz model"
      ],
      "execution_count": null,
      "outputs": [
        {
          "output_type": "execute_result",
          "data": {
            "text/plain": [
              "<matplotlib.legend.Legend at 0x7fbf43ea5d90>"
            ]
          },
          "metadata": {
            "tags": []
          },
          "execution_count": 9
        },
        {
          "output_type": "display_data",
          "data": {
            "image/png": "[encoded data removed]",
            "text/plain": [
              "<Figure size 504x360 with 1 Axes>"
            ]
          },
          "metadata": {
            "tags": []
          }
        }
      ]
    },
    {
      "cell_type": "markdown",
      "metadata": {
        "id": "EpmSbc4Xm92m"
      },
      "source": [
        "### <a name='a7'></a>  Wizualizacja zbioru testowego i dopasowanego modelu"
      ]
    },
    {
      "cell_type": "code",
      "metadata": {
        "id": "N00QTIDtnFCV",
        "colab": {
          "base_uri": "https://localhost:8080/",
          "height": 372
        },
        "outputId": "5193aa92-2bec-4f1d-ec72-b7375b790dd8"
      },
      "source": [
        "y_pred = lin_reg.predict(X_test)\n",
        "plt.figure(figsize=(7, 5))\n",
        "plt.title('Regresja Liniowa - jedna zmienna')\n",
        "plt.scatter(X_test, y_test, c='g', label='Zbiór testowy')\n",
        "plt.plot(X, lin_reg.intercept_ + lin_reg.coef_[0] * X, c='red')\n",
        "plt.xlabel('X')\n",
        "plt.ylabel('y')\n",
        "plt.legend()"
      ],
      "execution_count": null,
      "outputs": [
        {
          "output_type": "execute_result",
          "data": {
            "text/plain": [
              "<matplotlib.legend.Legend at 0x7fbf44c81e90>"
            ]
          },
          "metadata": {
            "tags": []
          },
          "execution_count": 10
        },
        {
          "output_type": "display_data",
          "data": {
            "image/png": "[encoded data removed]",
            "text/plain": [
              "<Figure size 504x360 with 1 Axes>"
            ]
          },
          "metadata": {
            "tags": []
          }
        }
      ]
    },
    {
      "cell_type": "markdown",
      "metadata": {
        "id": "xVT9rxbRj8za"
      },
      "source": [
        "### <a name='a8'></a> Ocena modelu\n",
        "Metoda `score()` zwraca współczynnik determinacji $R^2$  naszej predykcji.\n",
        "\n",
        "Współczynnik determinacji jest zdefiniowany jako:\n",
        "\n",
        "### $R^{2} =1 - \\frac{\\sum_{t=1}^{n}(y_{pred, t} - \\bar{y}_{true} )^2}{\\sum_{t=1}^{n}(y_{true, t} - \\bar{y}_{true} )^2}$\n",
        "\n",
        "Współczynnik determinacji jest miarą stopnia dopasowania modelu do próby. Dopasowanie modelu jest tym lepsze im wartość $R^2$ jest bliżej 1."
      ]
    },
    {
      "cell_type": "code",
      "metadata": {
        "id": "Bhxx8bLgj_0S",
        "colab": {
          "base_uri": "https://localhost:8080/"
        },
        "outputId": "8a5b9978-b0f7-4830-ea75-712cce7bd4f3"
      },
      "source": [
        "lin_reg.score(X_test, y_test)"
      ],
      "execution_count": null,
      "outputs": [
        {
          "output_type": "execute_result",
          "data": {
            "text/plain": [
              "0.9390376396747567"
            ]
          },
          "metadata": {
            "tags": []
          },
          "execution_count": 11
        }
      ]
    },
    {
      "cell_type": "code",
      "metadata": {
        "id": "IQvG16titmEF"
      },
      "source": [
        "lin_reg.score?"
      ],
      "execution_count": null,
      "outputs": []
    },
    {
      "cell_type": "markdown",
      "metadata": {
        "id": "d0uNxKGUjQlv"
      },
      "source": [
        "### <a name='a9'></a> Przykład złego zastosowania regresji liniowej"
      ]
    },
    {
      "cell_type": "code",
      "metadata": {
        "id": "ooqDZvsXiGkq",
        "colab": {
          "base_uri": "https://localhost:8080/",
          "height": 406
        },
        "outputId": "76fdea82-f7ac-42fd-dcec-a3fb0483a7e8"
      },
      "source": [
        "X = np.arange(-5, 5, 0.5)\n",
        "noise = 10 * np.random.randn(20)\n",
        "y = 2 * (X ** 2) + 4 + noise\n",
        "X = X.reshape(-1, 1)\n",
        "\n",
        "lin_reg = LinearRegression()\n",
        "lin_reg.fit(X, y)\n",
        "\n",
        "print(lin_reg.coef_)\n",
        "print(lin_reg.intercept_)\n",
        "\n",
        "plt.figure(figsize=(7, 5))\n",
        "plt.title('Regresja Liniowa - jedna zmienna')\n",
        "plt.plot(X, lin_reg.intercept_ + lin_reg.coef_[0] * X, c='red')\n",
        "plt.scatter(X, y)\n",
        "plt.xlabel('X')\n",
        "plt.ylabel('y')\n",
        "#dane mocno porozrzucane, nie są liniowe, model słabo się dopasuje do danych\n",
        "#lepszą opcją dla takiego modelu będzie regresja wielomianowa"
      ],
      "execution_count": null,
      "outputs": [
        {
          "output_type": "stream",
          "text": [
            "[-1.07101433]\n",
            "20.584143845895625\n"
          ],
          "name": "stdout"
        },
        {
          "output_type": "execute_result",
          "data": {
            "text/plain": [
              "Text(0, 0.5, 'y')"
            ]
          },
          "metadata": {
            "tags": []
          },
          "execution_count": 13
        },
        {
          "output_type": "display_data",
          "data": {
            "image/png": "[encoded data removed]",
            "text/plain": [
              "<Figure size 504x360 with 1 Axes>"
            ]
          },
          "metadata": {
            "tags": []
          }
        }
      ]
    },
    {
      "cell_type": "code",
      "metadata": {
        "id": "OGb55kFe6MhN"
      },
      "source": [
        ""
      ],
      "execution_count": null,
      "outputs": []
    }
  ]
}