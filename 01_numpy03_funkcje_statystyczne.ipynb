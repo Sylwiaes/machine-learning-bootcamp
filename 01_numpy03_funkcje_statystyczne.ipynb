{
  "nbformat": 4,
  "nbformat_minor": 0,
  "metadata": {
    "colab": {
      "name": "03_funkcje_statystyczne.ipynb",
      "provenance": [],
      "collapsed_sections": [],
      "include_colab_link": true
    },
    "kernelspec": {
      "name": "python3",
      "display_name": "Python 3"
    }
  },
  "cells": [
    {
      "cell_type": "markdown",
      "metadata": {
        "id": "view-in-github",
        "colab_type": "text"
      },
      "source": [
        "<a href=\"https://colab.research.google.com/github/Sylwiaes/machine-learning-bootcamp/blob/main/01_numpy03_funkcje_statystyczne.ipynb\" target=\"_parent\"><img src=\"https://colab.research.google.com/assets/colab-badge.svg\" alt=\"Open In Colab\"/></a>"
      ]
    },
    {
      "cell_type": "markdown",
      "metadata": {
        "id": "eMtaN-_iIC7l"
      },
      "source": [
        "* @author: krakowiakpawel9@gmail.com  \n",
        "* @site: e-smartdata.org"
      ]
    },
    {
      "cell_type": "markdown",
      "metadata": {
        "id": "ZlL4HqNannLQ"
      },
      "source": [
        "### NumPy\n",
        ">Strona biblioteki: [https://numpy.org/](https://numpy.org/)  \n",
        ">Dokumentacja: [https://numpy.org/doc/](https://numpy.org/doc/)  \n",
        ">\n",
        ">Podstawowa biblioteka do obliczeń numerycznych w języku Python.\n",
        ">\n",
        ">Aby zainstalować bibliotekę NumPy, użyj polecenia poniżej:\n",
        "```\n",
        "pip install numpy\n",
        "```\n",
        "\n"
      ]
    },
    {
      "cell_type": "markdown",
      "metadata": {
        "id": "3DO3_fjpXtOW"
      },
      "source": [
        "### Funkcje statystyczne"
      ]
    },
    {
      "cell_type": "code",
      "metadata": {
        "id": "AEE5ZeP_mtQo",
        "colab": {
          "base_uri": "https://localhost:8080/",
          "height": 35
        },
        "outputId": "3971d588-43ed-4248-92bf-8202dbc8396e"
      },
      "source": [
        "import numpy as np\n",
        "np.__version__"
      ],
      "execution_count": 1,
      "outputs": [
        {
          "output_type": "execute_result",
          "data": {
            "application/vnd.google.colaboratory.intrinsic+json": {
              "type": "string"
            },
            "text/plain": [
              "'1.19.5'"
            ]
          },
          "metadata": {
            "tags": []
          },
          "execution_count": 1
        }
      ]
    },
    {
      "cell_type": "code",
      "metadata": {
        "id": "N1R4uP6jVku7",
        "colab": {
          "base_uri": "https://localhost:8080/"
        },
        "outputId": "c44e54e6-cc51-453b-e694-9e3b22b21afa"
      },
      "source": [
        "price = np.array([[12.40, 12.80, 11.90, 12.60, 1000],\n",
        "                  [12.50, 13.00, 11.70, 12.20, 2000],\n",
        "                  [12.20, 13.40, 12.20, 13.20, 1500]])\n",
        "print(price)"
      ],
      "execution_count": 2,
      "outputs": [
        {
          "output_type": "stream",
          "text": [
            "[[  12.4   12.8   11.9   12.6 1000. ]\n",
            " [  12.5   13.    11.7   12.2 2000. ]\n",
            " [  12.2   13.4   12.2   13.2 1500. ]]\n"
          ],
          "name": "stdout"
        }
      ]
    },
    {
      "cell_type": "markdown",
      "metadata": {
        "id": "vCJjQJztWooi"
      },
      "source": [
        "sum()"
      ]
    },
    {
      "cell_type": "code",
      "metadata": {
        "id": "OUCjXdtTiA8s",
        "colab": {
          "base_uri": "https://localhost:8080/"
        },
        "outputId": "f75614c5-5120-47e2-f54b-82e1626cf771"
      },
      "source": [
        "price.sum() #suma wszystkich elementów znajdujących się w tablicy"
      ],
      "execution_count": 3,
      "outputs": [
        {
          "output_type": "execute_result",
          "data": {
            "text/plain": [
              "4650.1"
            ]
          },
          "metadata": {
            "tags": []
          },
          "execution_count": 3
        }
      ]
    },
    {
      "cell_type": "code",
      "metadata": {
        "id": "RdSoTov1iHPd",
        "colab": {
          "base_uri": "https://localhost:8080/"
        },
        "outputId": "18e1c420-9f30-452d-c408-8665458e7bb7"
      },
      "source": [
        "price.sum(axis=0) #suma kolumn"
      ],
      "execution_count": 4,
      "outputs": [
        {
          "output_type": "execute_result",
          "data": {
            "text/plain": [
              "array([  37.1,   39.2,   35.8,   38. , 4500. ])"
            ]
          },
          "metadata": {
            "tags": []
          },
          "execution_count": 4
        }
      ]
    },
    {
      "cell_type": "code",
      "metadata": {
        "id": "cjsnnHX0iP6i",
        "colab": {
          "base_uri": "https://localhost:8080/",
          "height": 35
        },
        "outputId": "734fede7-5249-48ed-a2ef-4c055358e8da"
      },
      "source": [
        "price.sum(axis=1) #suma wierszy"
      ],
      "execution_count": null,
      "outputs": [
        {
          "output_type": "execute_result",
          "data": {
            "text/plain": [
              "array([1049.7, 2049.4, 1551. ])"
            ]
          },
          "metadata": {
            "tags": []
          },
          "execution_count": 12
        }
      ]
    },
    {
      "cell_type": "code",
      "metadata": {
        "id": "C5AZkjUjiVeE",
        "colab": {
          "base_uri": "https://localhost:8080/"
        },
        "outputId": "6de57b82-e6f1-4c72-e0c9-94471f923349"
      },
      "source": [
        "np.sum(price)"
      ],
      "execution_count": 5,
      "outputs": [
        {
          "output_type": "execute_result",
          "data": {
            "text/plain": [
              "4650.1"
            ]
          },
          "metadata": {
            "tags": []
          },
          "execution_count": 5
        }
      ]
    },
    {
      "cell_type": "markdown",
      "metadata": {
        "id": "84O-LhuMWqIS"
      },
      "source": [
        "min()"
      ]
    },
    {
      "cell_type": "code",
      "metadata": {
        "id": "yo8lDGXpia0y",
        "colab": {
          "base_uri": "https://localhost:8080/"
        },
        "outputId": "5ef1cc28-b202-4102-e759-e661d40a7b7f"
      },
      "source": [
        "np.min(price, axis=0)"
      ],
      "execution_count": 6,
      "outputs": [
        {
          "output_type": "execute_result",
          "data": {
            "text/plain": [
              "array([  12.2,   12.8,   11.7,   12.2, 1000. ])"
            ]
          },
          "metadata": {
            "tags": []
          },
          "execution_count": 6
        }
      ]
    },
    {
      "cell_type": "markdown",
      "metadata": {
        "id": "48B6AF5FWrxh"
      },
      "source": [
        "max()"
      ]
    },
    {
      "cell_type": "code",
      "metadata": {
        "id": "4YBi85cYiiEG",
        "colab": {
          "base_uri": "https://localhost:8080/"
        },
        "outputId": "4322020b-76bb-40ce-9830-a56f4fb3d559"
      },
      "source": [
        "np.max(price, axis=0)"
      ],
      "execution_count": 7,
      "outputs": [
        {
          "output_type": "execute_result",
          "data": {
            "text/plain": [
              "array([  12.5,   13.4,   12.2,   13.2, 2000. ])"
            ]
          },
          "metadata": {
            "tags": []
          },
          "execution_count": 7
        }
      ]
    },
    {
      "cell_type": "markdown",
      "metadata": {
        "id": "CyMEQi3_W0Nl"
      },
      "source": [
        "median()"
      ]
    },
    {
      "cell_type": "code",
      "metadata": {
        "id": "sSQaSlz3ikH4",
        "colab": {
          "base_uri": "https://localhost:8080/"
        },
        "outputId": "3e7534cc-5735-4ab5-f0ea-ee65a5aa11e1"
      },
      "source": [
        "np.median(price)"
      ],
      "execution_count": 8,
      "outputs": [
        {
          "output_type": "execute_result",
          "data": {
            "text/plain": [
              "12.6"
            ]
          },
          "metadata": {
            "tags": []
          },
          "execution_count": 8
        }
      ]
    },
    {
      "cell_type": "markdown",
      "metadata": {
        "id": "KYmzsM9CXFjq"
      },
      "source": [
        "mean()"
      ]
    },
    {
      "cell_type": "code",
      "metadata": {
        "id": "db493A1dioDI",
        "colab": {
          "base_uri": "https://localhost:8080/"
        },
        "outputId": "f6e9d4c5-4693-43f5-f761-83e01e0ec22b"
      },
      "source": [
        "np.mean(price, axis=0)"
      ],
      "execution_count": 9,
      "outputs": [
        {
          "output_type": "execute_result",
          "data": {
            "text/plain": [
              "array([  12.36666667,   13.06666667,   11.93333333,   12.66666667,\n",
              "       1500.        ])"
            ]
          },
          "metadata": {
            "tags": []
          },
          "execution_count": 9
        }
      ]
    },
    {
      "cell_type": "markdown",
      "metadata": {
        "id": "CVv4qN47XRHv"
      },
      "source": [
        "std()"
      ]
    },
    {
      "cell_type": "code",
      "metadata": {
        "id": "Q5WXZ-tNit1V",
        "colab": {
          "base_uri": "https://localhost:8080/"
        },
        "outputId": "b777e0d7-bdef-4362-d1e9-2763008e9db9"
      },
      "source": [
        "np.std(price, axis=0)"
      ],
      "execution_count": 10,
      "outputs": [
        {
          "output_type": "execute_result",
          "data": {
            "text/plain": [
              "array([1.24721913e-01, 2.49443826e-01, 2.05480467e-01, 4.10960934e-01,\n",
              "       4.08248290e+02])"
            ]
          },
          "metadata": {
            "tags": []
          },
          "execution_count": 10
        }
      ]
    },
    {
      "cell_type": "markdown",
      "metadata": {
        "id": "WOM40cVnXXyw"
      },
      "source": [
        "var()"
      ]
    },
    {
      "cell_type": "code",
      "metadata": {
        "id": "2I2ktUNjix6o",
        "colab": {
          "base_uri": "https://localhost:8080/",
          "height": 52
        },
        "outputId": "694585b6-0aa2-43bc-a19a-909c54d8a3d6"
      },
      "source": [
        "np.var(price, axis=0)"
      ],
      "execution_count": null,
      "outputs": [
        {
          "output_type": "execute_result",
          "data": {
            "text/plain": [
              "array([1.55555556e-02, 6.22222222e-02, 4.22222222e-02, 1.68888889e-01,\n",
              "       1.66666667e+05])"
            ]
          },
          "metadata": {
            "tags": []
          },
          "execution_count": 22
        }
      ]
    }
  ]
}