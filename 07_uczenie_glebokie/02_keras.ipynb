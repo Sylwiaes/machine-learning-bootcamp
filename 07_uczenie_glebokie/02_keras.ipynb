{
  "nbformat": 4,
  "nbformat_minor": 0,
  "metadata": {
    "colab": {
      "name": "02_keras.ipynb",
      "provenance": [],
      "collapsed_sections": [],
      "include_colab_link": true
    },
    "kernelspec": {
      "name": "python3",
      "display_name": "Python 3"
    }
  },
  "cells": [
    {
      "cell_type": "markdown",
      "metadata": {
        "id": "view-in-github",
        "colab_type": "text"
      },
      "source": [
        "<a href=\"https://colab.research.google.com/github/Sylwiaes/machine-learning-bootcamp/blob/main/07_uczenie_glebokie/02_keras.ipynb\" target=\"_parent\"><img src=\"https://colab.research.google.com/assets/colab-badge.svg\" alt=\"Open In Colab\"/></a>"
      ]
    },
    {
      "cell_type": "markdown",
      "metadata": {
        "id": "XPMv3wSNK3BU"
      },
      "source": [
        "* @author: krakowiakpawel9@gmail.com  \n",
        "* @site: e-smartdata.org"
      ]
    },
    {
      "cell_type": "markdown",
      "metadata": {
        "id": "zjlb736M2lS_"
      },
      "source": [
        "### Tensorflow\n",
        ">Strona biblioteki: [https://www.tensorflow.org/](https://www.tensorflow.org/)  \n",
        ">Dokumentacja: [https://www.tensorflow.org/api_docs](https://www.tensorflow.org/api_docs)  \n",
        ">\n",
        ">Szybko rozwijająca się biblioteka do uczenia maszynowego i uczenia głębokiego rozwijana przez Google.\n",
        ">\n",
        ">Aby zainstalować bibliotekę tensorflow, użyj polecenia poniżej:\n",
        "```\n",
        "pip install tensorflow\n",
        "```\n",
        "\n",
        "### Keras\n",
        ">Strona biblioteki: [https://keras.io/](https://keras.io/)  \n",
        ">\n",
        ">Wysokopoziomowy interfejs do budowy sieci neuronowych. Działa zarówno na Tensorflow, Theano oraz CNTK.\n",
        ">\n",
        ">Aby zainstalować bibliotekę keras, użyj polecenia poniżej:\n",
        "```\n",
        "pip install keras\n",
        "```"
      ]
    },
    {
      "cell_type": "markdown",
      "metadata": {
        "id": "tC7wD4aySZKb"
      },
      "source": [
        "### Model sekwencjny (Sequential Model):\n",
        "1. [Wprowadzenie - pierwszy model](#a0)\n",
        "2. [Funkcje aktywacji](#a1)\n",
        "3. [Kompilacja modelu](#a2)\n",
        "4. [Trenowanie modelu](#a3)\n",
        "5. [Przykład - klasyfikacja binarna](#a4)\n",
        "6. [Przykład - klasyfikacja wieloklasowa](#a5)\n",
        "7. [Przykład - regresja](#a6)\n",
        "\n",
        "\n",
        "\n",
        "Załadowanie biblioteki tensorflow\n"
      ]
    },
    {
      "cell_type": "code",
      "metadata": {
        "id": "3SPURJyPQOpj",
        "colab": {
          "base_uri": "https://localhost:8080/",
          "height": 35
        },
        "outputId": "6ba99f8b-8aac-4456-c5ae-52796e38ce5f"
      },
      "source": [
        "%tensorflow_version 2.x\n",
        "import tensorflow as tf\n",
        "import numpy as np\n",
        "import pandas as pd\n",
        "import plotly.express as px\n",
        "tf.__version__"
      ],
      "execution_count": null,
      "outputs": [
        {
          "output_type": "execute_result",
          "data": {
            "application/vnd.google.colaboratory.intrinsic+json": {
              "type": "string"
            },
            "text/plain": [
              "'2.5.0'"
            ]
          },
          "metadata": {
            "tags": []
          },
          "execution_count": 2
        }
      ]
    },
    {
      "cell_type": "markdown",
      "metadata": {
        "id": "x0HF8UIRTBmC"
      },
      "source": [
        "### <a name='a0'></a>Wprowadzenie - pierwszy model\n",
        "Model sekwencyjny to nic innego jak liniowy stos warstw."
      ]
    },
    {
      "cell_type": "code",
      "metadata": {
        "id": "y5qY8AQsTeGX",
        "colab": {
          "base_uri": "https://localhost:8080/"
        },
        "outputId": "774fc0d5-e826-4938-dd90-ebac1fd0dd8f"
      },
      "source": [
        "# utworzenie instancji klasy Sequential; klasa polega na budowaniu kolejnych warstw\n",
        "from tensorflow.keras.models import Sequential\n",
        "\n",
        "model = Sequential()\n",
        "print(model)"
      ],
      "execution_count": null,
      "outputs": [
        {
          "output_type": "stream",
          "text": [
            "<tensorflow.python.keras.engine.sequential.Sequential object at 0x7f4dc1fe3310>\n"
          ],
          "name": "stdout"
        }
      ]
    },
    {
      "cell_type": "markdown",
      "metadata": {
        "id": "yqtUKjKaTyxQ"
      },
      "source": [
        "Podstawowym elementem składowym modelu są warstwy. Aby dodać najbardziej standardową warstwę - warstwę gęsto połączoną należy użyć warstwy **Dense**. Aby dodać warstwę do modelu należy użyć metody *.add()*"
      ]
    },
    {
      "cell_type": "code",
      "metadata": {
        "id": "CiMQRZUMTv8f"
      },
      "source": [
        "from tensorflow.keras.layers import Dense\n",
        "\n",
        "model.add(Dense(units=4, input_shape=(10,))) #w 1 warstwie dodajemy parametr input_shape z wartością zmiennych opisujących naszą zmienną docelową "
      ],
      "execution_count": null,
      "outputs": []
    },
    {
      "cell_type": "markdown",
      "metadata": {
        "id": "s4q14zW-XOU4"
      },
      "source": [
        "Wyświetlenie podsumowania modelu: metoda *.summary()*"
      ]
    },
    {
      "cell_type": "code",
      "metadata": {
        "id": "HAReYZ98UXtC",
        "colab": {
          "base_uri": "https://localhost:8080/"
        },
        "outputId": "9e9ca4d5-7cbc-4732-8af8-94be51c4f778"
      },
      "source": [
        "model.summary() #wyswietlamy informacje o modelu"
      ],
      "execution_count": null,
      "outputs": [
        {
          "output_type": "stream",
          "text": [
            "Model: \"sequential\"\n",
            "_________________________________________________________________\n",
            "Layer (type)                 Output Shape              Param #   \n",
            "=================================================================\n",
            "dense (Dense)                (None, 4)                 44        \n",
            "=================================================================\n",
            "Total params: 44\n",
            "Trainable params: 44\n",
            "Non-trainable params: 0\n",
            "_________________________________________________________________\n"
          ],
          "name": "stdout"
        }
      ]
    },
    {
      "cell_type": "markdown",
      "metadata": {
        "id": "izZi_Eu2Xjcl"
      },
      "source": [
        "Dodanie kolejnej warstwy"
      ]
    },
    {
      "cell_type": "code",
      "metadata": {
        "id": "HD17lS82Uk7Y",
        "colab": {
          "base_uri": "https://localhost:8080/"
        },
        "outputId": "2bf86f72-69bb-470e-b764-a4ada5156a58"
      },
      "source": [
        "model.add(Dense(units=2))\n",
        "\n",
        "model.summary()\n",
        "#obliczenie Param-bierzemy kształt wyjściowej 1 warstwy=4, dodajemy 1 i mnożymy przez kształt warstwy 2"
      ],
      "execution_count": null,
      "outputs": [
        {
          "output_type": "stream",
          "text": [
            "Model: \"sequential\"\n",
            "_________________________________________________________________\n",
            "Layer (type)                 Output Shape              Param #   \n",
            "=================================================================\n",
            "dense (Dense)                (None, 4)                 44        \n",
            "_________________________________________________________________\n",
            "dense_1 (Dense)              (None, 2)                 10        \n",
            "=================================================================\n",
            "Total params: 54\n",
            "Trainable params: 54\n",
            "Non-trainable params: 0\n",
            "_________________________________________________________________\n"
          ],
          "name": "stdout"
        }
      ]
    },
    {
      "cell_type": "markdown",
      "metadata": {
        "id": "yh_gui1wZCH2"
      },
      "source": [
        "### <a name='a1'></a>Funkcje aktywacji\n",
        "Istotnym elemenem sieci neuronowych jest dobór odpowiednich funkcji aktywacji. Funkcje aktywacji jak sama nazwa wskazuje są odpowiedzialne za aktywowanie odpowiednich neuronów podczas procesu uczenia.\n",
        "\n",
        "Jeżeli nie określimy podczas dodawania warstwy funkcji aktywacji, domyślnie stosowana jest liniowa funkcja aktywacji, tzn. $a(x)=x$\n",
        "\n",
        "Warstwa z liniową funkcją aktywacji może uczyć się tylko liniowych przekształceń danych wejściowych. Dlatego stosuje się różne funkcje aktywacji aby rozwiazywać problemy nieliniowe.\n",
        "\n",
        "[Keras: Funkcje aktywacji](https://keras.io/activations/)"
      ]
    },
    {
      "cell_type": "code",
      "metadata": {
        "id": "obfM5ho7ZmMy",
        "colab": {
          "base_uri": "https://localhost:8080/",
          "height": 204
        },
        "outputId": "93c6dd10-c63e-45ab-87bf-cc5e628d56ca"
      },
      "source": [
        "from tensorflow.keras.activations import linear #jesli nie stosujemy żadnej warstwy, to będzie stosowana domyślnie funkcja liniowa\n",
        "\n",
        "random_data = np.linspace(start=-3, stop=3, num=300)\n",
        "data = pd.DataFrame({'data': random_data, 'linear': linear(random_data)})\n",
        "data.head()"
      ],
      "execution_count": null,
      "outputs": [
        {
          "output_type": "execute_result",
          "data": {
            "text/html": [
              "<div>\n",
              "<style scoped>\n",
              "    .dataframe tbody tr th:only-of-type {\n",
              "        vertical-align: middle;\n",
              "    }\n",
              "\n",
              "    .dataframe tbody tr th {\n",
              "        vertical-align: top;\n",
              "    }\n",
              "\n",
              "    .dataframe thead th {\n",
              "        text-align: right;\n",
              "    }\n",
              "</style>\n",
              "<table border=\"1\" class=\"dataframe\">\n",
              "  <thead>\n",
              "    <tr style=\"text-align: right;\">\n",
              "      <th></th>\n",
              "      <th>data</th>\n",
              "      <th>linear</th>\n",
              "    </tr>\n",
              "  </thead>\n",
              "  <tbody>\n",
              "    <tr>\n",
              "      <th>0</th>\n",
              "      <td>-3.000000</td>\n",
              "      <td>-3.000000</td>\n",
              "    </tr>\n",
              "    <tr>\n",
              "      <th>1</th>\n",
              "      <td>-2.979933</td>\n",
              "      <td>-2.979933</td>\n",
              "    </tr>\n",
              "    <tr>\n",
              "      <th>2</th>\n",
              "      <td>-2.959866</td>\n",
              "      <td>-2.959866</td>\n",
              "    </tr>\n",
              "    <tr>\n",
              "      <th>3</th>\n",
              "      <td>-2.939799</td>\n",
              "      <td>-2.939799</td>\n",
              "    </tr>\n",
              "    <tr>\n",
              "      <th>4</th>\n",
              "      <td>-2.919732</td>\n",
              "      <td>-2.919732</td>\n",
              "    </tr>\n",
              "  </tbody>\n",
              "</table>\n",
              "</div>"
            ],
            "text/plain": [
              "       data    linear\n",
              "0 -3.000000 -3.000000\n",
              "1 -2.979933 -2.979933\n",
              "2 -2.959866 -2.959866\n",
              "3 -2.939799 -2.939799\n",
              "4 -2.919732 -2.919732"
            ]
          },
          "metadata": {
            "tags": []
          },
          "execution_count": 7
        }
      ]
    },
    {
      "cell_type": "code",
      "metadata": {
        "id": "SsbhlfGgesjV",
        "colab": {
          "base_uri": "https://localhost:8080/",
          "height": 417
        },
        "outputId": "7a0adaa8-e99d-409e-e08a-8039f8635451"
      },
      "source": [
        "px.line(data, x='data', y='linear', width=500, height=400, range_y=[-3, 3])"
      ],
      "execution_count": null,
      "outputs": [
        {
          "output_type": "display_data",
          "data": {
            "text/html": [
              "<html>\n",
              "<head><meta charset=\"utf-8\" /></head>\n",
              "<body>\n",
              "    <div>\n",
              "            <script src=\"https://cdnjs.cloudflare.com/ajax/libs/mathjax/2.7.5/MathJax.js?config=TeX-AMS-MML_SVG\"></script><script type=\"text/javascript\">if (window.MathJax) {MathJax.Hub.Config({SVG: {font: \"STIX-Web\"}});}</script>\n",
              "                <script type=\"text/javascript\">window.PlotlyConfig = {MathJaxConfig: 'local'};</script>\n",
              "        <script src=\"https://cdn.plot.ly/plotly-latest.min.js\"></script>    \n",
              "            <div id=\"aa877602-5c8e-4ed0-a16c-d4e25f841305\" class=\"plotly-graph-div\" style=\"height:400px; width:500px;\"></div>\n",
              "            <script type=\"text/javascript\">\n",
              "                \n",
              "                    window.PLOTLYENV=window.PLOTLYENV || {};\n",
              "                    \n",
              "                if (document.getElementById(\"aa877602-5c8e-4ed0-a16c-d4e25f841305\")) {\n",
              "                    Plotly.newPlot(\n",
              "                        'aa877602-5c8e-4ed0-a16c-d4e25f841305',\n",
              "                        [{\"hoverlabel\": {\"namelength\": 0}, \"hovertemplate\": \"data=%{x}<br>linear=%{y}\", \"legendgroup\": \"\", \"line\": {\"color\": \"#636efa\", \"dash\": \"solid\"}, \"mode\": \"lines\", \"name\": \"\", \"showlegend\": false, \"type\": \"scatter\", \"x\": [-3.0, -2.979933110367893, -2.959866220735786, -2.939799331103679, -2.919732441471572, -2.899665551839465, -2.879598662207358, -2.859531772575251, -2.839464882943144, -2.819397993311037, -2.79933110367893, -2.779264214046823, -2.759197324414716, -2.739130434782609, -2.719063545150502, -2.6989966555183944, -2.678929765886288, -2.6588628762541804, -2.638795986622074, -2.6187290969899664, -2.5986622073578594, -2.5785953177257523, -2.5585284280936453, -2.5384615384615383, -2.5183946488294313, -2.4983277591973243, -2.4782608695652173, -2.4581939799331103, -2.4381270903010033, -2.4180602006688963, -2.3979933110367893, -2.3779264214046822, -2.3578595317725752, -2.3377926421404682, -2.317725752508361, -2.297658862876254, -2.277591973244147, -2.25752508361204, -2.237458193979933, -2.217391304347826, -2.197324414715719, -2.177257525083612, -2.157190635451505, -2.137123745819398, -2.1170568561872907, -2.096989966555184, -2.0769230769230766, -2.05685618729097, -2.0367892976588626, -2.016722408026756, -1.9966555183946488, -1.9765886287625418, -1.9565217391304348, -1.9364548494983278, -1.9163879598662208, -1.8963210702341138, -1.8762541806020065, -1.8561872909698995, -1.8361204013377925, -1.8160535117056855, -1.7959866220735785, -1.7759197324414715, -1.7558528428093645, -1.7357859531772575, -1.7157190635451505, -1.6956521739130435, -1.6755852842809364, -1.6555183946488294, -1.6354515050167224, -1.6153846153846154, -1.5953177257525084, -1.5752508361204014, -1.5551839464882944, -1.5351170568561872, -1.5150501672240801, -1.4949832775919731, -1.4749163879598661, -1.4548494983277591, -1.434782608695652, -1.414715719063545, -1.394648829431438, -1.374581939799331, -1.354515050167224, -1.334448160535117, -1.31438127090301, -1.294314381270903, -1.274247491638796, -1.254180602006689, -1.2341137123745818, -1.2140468227424748, -1.1939799331103678, -1.1739130434782608, -1.1538461538461537, -1.1337792642140467, -1.1137123745819397, -1.0936454849498327, -1.0735785953177257, -1.0535117056856187, -1.0334448160535117, -1.0133779264214047, -0.9933110367892977, -0.9732441471571907, -0.9531772575250836, -0.9331103678929766, -0.9130434782608696, -0.8929765886287626, -0.8729096989966556, -0.8528428093645486, -0.8327759197324416, -0.8127090301003346, -0.7926421404682276, -0.7725752508361206, -0.7525083612040131, -0.7324414715719061, -0.7123745819397991, -0.6923076923076921, -0.6722408026755851, -0.652173913043478, -0.632107023411371, -0.612040133779264, -0.591973244147157, -0.57190635451505, -0.551839464882943, -0.531772575250836, -0.511705685618729, -0.49163879598662197, -0.47157190635451496, -0.45150501672240795, -0.43143812709030094, -0.41137123745819393, -0.3913043478260869, -0.3712374581939799, -0.3511705685618729, -0.3311036789297659, -0.3110367892976589, -0.29096989966555187, -0.27090301003344486, -0.25083612040133785, -0.23076923076923084, -0.21070234113712383, -0.19063545150501682, -0.1705685618729098, -0.1505016722408028, -0.1304347826086958, -0.11036789297658878, -0.09030100334448132, -0.07023411371237431, -0.0501672240802673, -0.030100334448160293, -0.010033444816053283, 0.010033444816053727, 0.030100334448160737, 0.05016722408026775, 0.07023411371237476, 0.09030100334448177, 0.11036789297658878, 0.1304347826086958, 0.1505016722408028, 0.1705685618729098, 0.19063545150501682, 0.21070234113712383, 0.23076923076923084, 0.25083612040133785, 0.27090301003344486, 0.29096989966555187, 0.3110367892976589, 0.3311036789297659, 0.3511705685618729, 0.3712374581939799, 0.3913043478260869, 0.41137123745819393, 0.43143812709030094, 0.45150501672240795, 0.47157190635451496, 0.49163879598662197, 0.511705685618729, 0.5317725752508364, 0.5518394648829434, 0.5719063545150505, 0.5919732441471575, 0.6120401337792645, 0.6321070234113715, 0.6521739130434785, 0.6722408026755855, 0.6923076923076925, 0.7123745819397995, 0.7324414715719065, 0.7525083612040135, 0.7725752508361206, 0.7926421404682276, 0.8127090301003346, 0.8327759197324416, 0.8528428093645486, 0.8729096989966556, 0.8929765886287626, 0.9130434782608696, 0.9331103678929766, 0.9531772575250836, 0.9732441471571907, 0.9933110367892977, 1.0133779264214047, 1.0334448160535121, 1.0535117056856187, 1.0735785953177261, 1.0936454849498327, 1.1137123745819402, 1.1337792642140467, 1.1538461538461542, 1.1739130434782608, 1.1939799331103682, 1.2140468227424748, 1.2341137123745822, 1.2541806020066888, 1.2742474916387962, 1.2943143812709028, 1.3143812709030103, 1.3344481605351168, 1.3545150501672243, 1.3745819397993309, 1.3946488294314383, 1.4147157190635449, 1.4347826086956523, 1.454849498327759, 1.4749163879598663, 1.4949832775919738, 1.5150501672240804, 1.5351170568561878, 1.5551839464882944, 1.5752508361204018, 1.5953177257525084, 1.6153846153846159, 1.6354515050167224, 1.6555183946488299, 1.6755852842809364, 1.695652173913044, 1.7157190635451505, 1.735785953177258, 1.7558528428093645, 1.775919732441472, 1.7959866220735785, 1.816053511705686, 1.8361204013377925, 1.8561872909699, 1.8762541806020065, 1.896321070234114, 1.9163879598662206, 1.936454849498328, 1.9565217391304346, 1.976588628762542, 1.9966555183946486, 2.016722408026756, 2.0367892976588626, 2.05685618729097, 2.0769230769230766, 2.096989966555184, 2.1170568561872907, 2.137123745819398, 2.1571906354515056, 2.177257525083612, 2.1973244147157196, 2.217391304347826, 2.2374581939799336, 2.25752508361204, 2.2775919732441476, 2.297658862876254, 2.3177257525083617, 2.3377926421404682, 2.3578595317725757, 2.3779264214046822, 2.3979933110367897, 2.4180602006688963, 2.4381270903010037, 2.4581939799331103, 2.4782608695652177, 2.4983277591973243, 2.5183946488294318, 2.5384615384615383, 2.558528428093646, 2.5785953177257523, 2.59866220735786, 2.6187290969899664, 2.638795986622074, 2.6588628762541804, 2.678929765886288, 2.6989966555183944, 2.719063545150502, 2.7391304347826084, 2.759197324414716, 2.7792642140468224, 2.79933110367893, 2.8193979933110374, 2.839464882943144, 2.8595317725752514, 2.879598662207358, 2.8996655518394654, 2.919732441471572, 2.9397993311036794, 2.959866220735786, 2.9799331103678934, 3.0], \"xaxis\": \"x\", \"y\": [-3.0, -2.979933110367893, -2.959866220735786, -2.939799331103679, -2.919732441471572, -2.899665551839465, -2.879598662207358, -2.859531772575251, -2.839464882943144, -2.819397993311037, -2.79933110367893, -2.779264214046823, -2.759197324414716, -2.739130434782609, -2.719063545150502, -2.6989966555183944, -2.678929765886288, -2.6588628762541804, -2.638795986622074, -2.6187290969899664, -2.5986622073578594, -2.5785953177257523, -2.5585284280936453, -2.5384615384615383, -2.5183946488294313, -2.4983277591973243, -2.4782608695652173, -2.4581939799331103, -2.4381270903010033, -2.4180602006688963, -2.3979933110367893, -2.3779264214046822, -2.3578595317725752, -2.3377926421404682, -2.317725752508361, -2.297658862876254, -2.277591973244147, -2.25752508361204, -2.237458193979933, -2.217391304347826, -2.197324414715719, -2.177257525083612, -2.157190635451505, -2.137123745819398, -2.1170568561872907, -2.096989966555184, -2.0769230769230766, -2.05685618729097, -2.0367892976588626, -2.016722408026756, -1.9966555183946488, -1.9765886287625418, -1.9565217391304348, -1.9364548494983278, -1.9163879598662208, -1.8963210702341138, -1.8762541806020065, -1.8561872909698995, -1.8361204013377925, -1.8160535117056855, -1.7959866220735785, -1.7759197324414715, -1.7558528428093645, -1.7357859531772575, -1.7157190635451505, -1.6956521739130435, -1.6755852842809364, -1.6555183946488294, -1.6354515050167224, -1.6153846153846154, -1.5953177257525084, -1.5752508361204014, -1.5551839464882944, -1.5351170568561872, -1.5150501672240801, -1.4949832775919731, -1.4749163879598661, -1.4548494983277591, -1.434782608695652, -1.414715719063545, -1.394648829431438, -1.374581939799331, -1.354515050167224, -1.334448160535117, -1.31438127090301, -1.294314381270903, -1.274247491638796, -1.254180602006689, -1.2341137123745818, -1.2140468227424748, -1.1939799331103678, -1.1739130434782608, -1.1538461538461537, -1.1337792642140467, -1.1137123745819397, -1.0936454849498327, -1.0735785953177257, -1.0535117056856187, -1.0334448160535117, -1.0133779264214047, -0.9933110367892977, -0.9732441471571907, -0.9531772575250836, -0.9331103678929766, -0.9130434782608696, -0.8929765886287626, -0.8729096989966556, -0.8528428093645486, -0.8327759197324416, -0.8127090301003346, -0.7926421404682276, -0.7725752508361206, -0.7525083612040131, -0.7324414715719061, -0.7123745819397991, -0.6923076923076921, -0.6722408026755851, -0.652173913043478, -0.632107023411371, -0.612040133779264, -0.591973244147157, -0.57190635451505, -0.551839464882943, -0.531772575250836, -0.511705685618729, -0.49163879598662197, -0.47157190635451496, -0.45150501672240795, -0.43143812709030094, -0.41137123745819393, -0.3913043478260869, -0.3712374581939799, -0.3511705685618729, -0.3311036789297659, -0.3110367892976589, -0.29096989966555187, -0.27090301003344486, -0.25083612040133785, -0.23076923076923084, -0.21070234113712383, -0.19063545150501682, -0.1705685618729098, -0.1505016722408028, -0.1304347826086958, -0.11036789297658878, -0.09030100334448132, -0.07023411371237431, -0.0501672240802673, -0.030100334448160293, -0.010033444816053283, 0.010033444816053727, 0.030100334448160737, 0.05016722408026775, 0.07023411371237476, 0.09030100334448177, 0.11036789297658878, 0.1304347826086958, 0.1505016722408028, 0.1705685618729098, 0.19063545150501682, 0.21070234113712383, 0.23076923076923084, 0.25083612040133785, 0.27090301003344486, 0.29096989966555187, 0.3110367892976589, 0.3311036789297659, 0.3511705685618729, 0.3712374581939799, 0.3913043478260869, 0.41137123745819393, 0.43143812709030094, 0.45150501672240795, 0.47157190635451496, 0.49163879598662197, 0.511705685618729, 0.5317725752508364, 0.5518394648829434, 0.5719063545150505, 0.5919732441471575, 0.6120401337792645, 0.6321070234113715, 0.6521739130434785, 0.6722408026755855, 0.6923076923076925, 0.7123745819397995, 0.7324414715719065, 0.7525083612040135, 0.7725752508361206, 0.7926421404682276, 0.8127090301003346, 0.8327759197324416, 0.8528428093645486, 0.8729096989966556, 0.8929765886287626, 0.9130434782608696, 0.9331103678929766, 0.9531772575250836, 0.9732441471571907, 0.9933110367892977, 1.0133779264214047, 1.0334448160535121, 1.0535117056856187, 1.0735785953177261, 1.0936454849498327, 1.1137123745819402, 1.1337792642140467, 1.1538461538461542, 1.1739130434782608, 1.1939799331103682, 1.2140468227424748, 1.2341137123745822, 1.2541806020066888, 1.2742474916387962, 1.2943143812709028, 1.3143812709030103, 1.3344481605351168, 1.3545150501672243, 1.3745819397993309, 1.3946488294314383, 1.4147157190635449, 1.4347826086956523, 1.454849498327759, 1.4749163879598663, 1.4949832775919738, 1.5150501672240804, 1.5351170568561878, 1.5551839464882944, 1.5752508361204018, 1.5953177257525084, 1.6153846153846159, 1.6354515050167224, 1.6555183946488299, 1.6755852842809364, 1.695652173913044, 1.7157190635451505, 1.735785953177258, 1.7558528428093645, 1.775919732441472, 1.7959866220735785, 1.816053511705686, 1.8361204013377925, 1.8561872909699, 1.8762541806020065, 1.896321070234114, 1.9163879598662206, 1.936454849498328, 1.9565217391304346, 1.976588628762542, 1.9966555183946486, 2.016722408026756, 2.0367892976588626, 2.05685618729097, 2.0769230769230766, 2.096989966555184, 2.1170568561872907, 2.137123745819398, 2.1571906354515056, 2.177257525083612, 2.1973244147157196, 2.217391304347826, 2.2374581939799336, 2.25752508361204, 2.2775919732441476, 2.297658862876254, 2.3177257525083617, 2.3377926421404682, 2.3578595317725757, 2.3779264214046822, 2.3979933110367897, 2.4180602006688963, 2.4381270903010037, 2.4581939799331103, 2.4782608695652177, 2.4983277591973243, 2.5183946488294318, 2.5384615384615383, 2.558528428093646, 2.5785953177257523, 2.59866220735786, 2.6187290969899664, 2.638795986622074, 2.6588628762541804, 2.678929765886288, 2.6989966555183944, 2.719063545150502, 2.7391304347826084, 2.759197324414716, 2.7792642140468224, 2.79933110367893, 2.8193979933110374, 2.839464882943144, 2.8595317725752514, 2.879598662207358, 2.8996655518394654, 2.919732441471572, 2.9397993311036794, 2.959866220735786, 2.9799331103678934, 3.0], \"yaxis\": \"y\"}],\n",
              "                        {\"height\": 400, \"legend\": {\"tracegroupgap\": 0}, \"margin\": {\"t\": 60}, \"template\": {\"data\": {\"bar\": [{\"error_x\": {\"color\": \"#2a3f5f\"}, \"error_y\": {\"color\": \"#2a3f5f\"}, \"marker\": {\"line\": {\"color\": \"#E5ECF6\", \"width\": 0.5}}, \"type\": \"bar\"}], \"barpolar\": [{\"marker\": {\"line\": {\"color\": \"#E5ECF6\", \"width\": 0.5}}, \"type\": \"barpolar\"}], \"carpet\": [{\"aaxis\": {\"endlinecolor\": \"#2a3f5f\", \"gridcolor\": \"white\", \"linecolor\": \"white\", \"minorgridcolor\": \"white\", \"startlinecolor\": \"#2a3f5f\"}, \"baxis\": {\"endlinecolor\": \"#2a3f5f\", \"gridcolor\": \"white\", \"linecolor\": \"white\", \"minorgridcolor\": \"white\", \"startlinecolor\": \"#2a3f5f\"}, \"type\": \"carpet\"}], \"choropleth\": [{\"colorbar\": {\"outlinewidth\": 0, \"ticks\": \"\"}, \"type\": \"choropleth\"}], \"contour\": [{\"colorbar\": {\"outlinewidth\": 0, \"ticks\": \"\"}, \"colorscale\": [[0.0, \"#0d0887\"], [0.1111111111111111, \"#46039f\"], [0.2222222222222222, \"#7201a8\"], [0.3333333333333333, \"#9c179e\"], [0.4444444444444444, \"#bd3786\"], [0.5555555555555556, \"#d8576b\"], [0.6666666666666666, \"#ed7953\"], [0.7777777777777778, \"#fb9f3a\"], [0.8888888888888888, \"#fdca26\"], [1.0, \"#f0f921\"]], \"type\": \"contour\"}], \"contourcarpet\": [{\"colorbar\": {\"outlinewidth\": 0, \"ticks\": \"\"}, \"type\": \"contourcarpet\"}], \"heatmap\": [{\"colorbar\": {\"outlinewidth\": 0, \"ticks\": \"\"}, \"colorscale\": [[0.0, \"#0d0887\"], [0.1111111111111111, \"#46039f\"], [0.2222222222222222, \"#7201a8\"], [0.3333333333333333, \"#9c179e\"], [0.4444444444444444, \"#bd3786\"], [0.5555555555555556, \"#d8576b\"], [0.6666666666666666, \"#ed7953\"], [0.7777777777777778, \"#fb9f3a\"], [0.8888888888888888, \"#fdca26\"], [1.0, \"#f0f921\"]], \"type\": \"heatmap\"}], \"heatmapgl\": [{\"colorbar\": {\"outlinewidth\": 0, \"ticks\": \"\"}, \"colorscale\": [[0.0, \"#0d0887\"], [0.1111111111111111, \"#46039f\"], [0.2222222222222222, \"#7201a8\"], [0.3333333333333333, \"#9c179e\"], [0.4444444444444444, \"#bd3786\"], [0.5555555555555556, \"#d8576b\"], [0.6666666666666666, \"#ed7953\"], [0.7777777777777778, \"#fb9f3a\"], [0.8888888888888888, \"#fdca26\"], [1.0, \"#f0f921\"]], \"type\": \"heatmapgl\"}], \"histogram\": [{\"marker\": {\"colorbar\": {\"outlinewidth\": 0, \"ticks\": \"\"}}, \"type\": \"histogram\"}], \"histogram2d\": [{\"colorbar\": {\"outlinewidth\": 0, \"ticks\": \"\"}, \"colorscale\": [[0.0, \"#0d0887\"], [0.1111111111111111, \"#46039f\"], [0.2222222222222222, \"#7201a8\"], [0.3333333333333333, \"#9c179e\"], [0.4444444444444444, \"#bd3786\"], [0.5555555555555556, \"#d8576b\"], [0.6666666666666666, \"#ed7953\"], [0.7777777777777778, \"#fb9f3a\"], [0.8888888888888888, \"#fdca26\"], [1.0, \"#f0f921\"]], \"type\": \"histogram2d\"}], \"histogram2dcontour\": [{\"colorbar\": {\"outlinewidth\": 0, \"ticks\": \"\"}, \"colorscale\": [[0.0, \"#0d0887\"], [0.1111111111111111, \"#46039f\"], [0.2222222222222222, \"#7201a8\"], [0.3333333333333333, \"#9c179e\"], [0.4444444444444444, \"#bd3786\"], [0.5555555555555556, \"#d8576b\"], [0.6666666666666666, \"#ed7953\"], [0.7777777777777778, \"#fb9f3a\"], [0.8888888888888888, \"#fdca26\"], [1.0, \"#f0f921\"]], \"type\": \"histogram2dcontour\"}], \"mesh3d\": [{\"colorbar\": {\"outlinewidth\": 0, \"ticks\": \"\"}, \"type\": \"mesh3d\"}], \"parcoords\": [{\"line\": {\"colorbar\": {\"outlinewidth\": 0, \"ticks\": \"\"}}, \"type\": \"parcoords\"}], \"pie\": [{\"automargin\": true, \"type\": \"pie\"}], \"scatter\": [{\"marker\": {\"colorbar\": {\"outlinewidth\": 0, \"ticks\": \"\"}}, \"type\": \"scatter\"}], \"scatter3d\": [{\"line\": {\"colorbar\": {\"outlinewidth\": 0, \"ticks\": \"\"}}, \"marker\": {\"colorbar\": {\"outlinewidth\": 0, \"ticks\": \"\"}}, \"type\": \"scatter3d\"}], \"scattercarpet\": [{\"marker\": {\"colorbar\": {\"outlinewidth\": 0, \"ticks\": \"\"}}, \"type\": \"scattercarpet\"}], \"scattergeo\": [{\"marker\": {\"colorbar\": {\"outlinewidth\": 0, \"ticks\": \"\"}}, \"type\": \"scattergeo\"}], \"scattergl\": [{\"marker\": {\"colorbar\": {\"outlinewidth\": 0, \"ticks\": \"\"}}, \"type\": \"scattergl\"}], \"scattermapbox\": [{\"marker\": {\"colorbar\": {\"outlinewidth\": 0, \"ticks\": \"\"}}, \"type\": \"scattermapbox\"}], \"scatterpolar\": [{\"marker\": {\"colorbar\": {\"outlinewidth\": 0, \"ticks\": \"\"}}, \"type\": \"scatterpolar\"}], \"scatterpolargl\": [{\"marker\": {\"colorbar\": {\"outlinewidth\": 0, \"ticks\": \"\"}}, \"type\": \"scatterpolargl\"}], \"scatterternary\": [{\"marker\": {\"colorbar\": {\"outlinewidth\": 0, \"ticks\": \"\"}}, \"type\": \"scatterternary\"}], \"surface\": [{\"colorbar\": {\"outlinewidth\": 0, \"ticks\": \"\"}, \"colorscale\": [[0.0, \"#0d0887\"], [0.1111111111111111, \"#46039f\"], [0.2222222222222222, \"#7201a8\"], [0.3333333333333333, \"#9c179e\"], [0.4444444444444444, \"#bd3786\"], [0.5555555555555556, \"#d8576b\"], [0.6666666666666666, \"#ed7953\"], [0.7777777777777778, \"#fb9f3a\"], [0.8888888888888888, \"#fdca26\"], [1.0, \"#f0f921\"]], \"type\": \"surface\"}], \"table\": [{\"cells\": {\"fill\": {\"color\": \"#EBF0F8\"}, \"line\": {\"color\": \"white\"}}, \"header\": {\"fill\": {\"color\": \"#C8D4E3\"}, \"line\": {\"color\": \"white\"}}, \"type\": \"table\"}]}, \"layout\": {\"annotationdefaults\": {\"arrowcolor\": \"#2a3f5f\", \"arrowhead\": 0, \"arrowwidth\": 1}, \"coloraxis\": {\"colorbar\": {\"outlinewidth\": 0, \"ticks\": \"\"}}, \"colorscale\": {\"diverging\": [[0, \"#8e0152\"], [0.1, \"#c51b7d\"], [0.2, \"#de77ae\"], [0.3, \"#f1b6da\"], [0.4, \"#fde0ef\"], [0.5, \"#f7f7f7\"], [0.6, \"#e6f5d0\"], [0.7, \"#b8e186\"], [0.8, \"#7fbc41\"], [0.9, \"#4d9221\"], [1, \"#276419\"]], \"sequential\": [[0.0, \"#0d0887\"], [0.1111111111111111, \"#46039f\"], [0.2222222222222222, \"#7201a8\"], [0.3333333333333333, \"#9c179e\"], [0.4444444444444444, \"#bd3786\"], [0.5555555555555556, \"#d8576b\"], [0.6666666666666666, \"#ed7953\"], [0.7777777777777778, \"#fb9f3a\"], [0.8888888888888888, \"#fdca26\"], [1.0, \"#f0f921\"]], \"sequentialminus\": [[0.0, \"#0d0887\"], [0.1111111111111111, \"#46039f\"], [0.2222222222222222, \"#7201a8\"], [0.3333333333333333, \"#9c179e\"], [0.4444444444444444, \"#bd3786\"], [0.5555555555555556, \"#d8576b\"], [0.6666666666666666, \"#ed7953\"], [0.7777777777777778, \"#fb9f3a\"], [0.8888888888888888, \"#fdca26\"], [1.0, \"#f0f921\"]]}, \"colorway\": [\"#636efa\", \"#EF553B\", \"#00cc96\", \"#ab63fa\", \"#FFA15A\", \"#19d3f3\", \"#FF6692\", \"#B6E880\", \"#FF97FF\", \"#FECB52\"], \"font\": {\"color\": \"#2a3f5f\"}, \"geo\": {\"bgcolor\": \"white\", \"lakecolor\": \"white\", \"landcolor\": \"#E5ECF6\", \"showlakes\": true, \"showland\": true, \"subunitcolor\": \"white\"}, \"hoverlabel\": {\"align\": \"left\"}, \"hovermode\": \"closest\", \"mapbox\": {\"style\": \"light\"}, \"paper_bgcolor\": \"white\", \"plot_bgcolor\": \"#E5ECF6\", \"polar\": {\"angularaxis\": {\"gridcolor\": \"white\", \"linecolor\": \"white\", \"ticks\": \"\"}, \"bgcolor\": \"#E5ECF6\", \"radialaxis\": {\"gridcolor\": \"white\", \"linecolor\": \"white\", \"ticks\": \"\"}}, \"scene\": {\"xaxis\": {\"backgroundcolor\": \"#E5ECF6\", \"gridcolor\": \"white\", \"gridwidth\": 2, \"linecolor\": \"white\", \"showbackground\": true, \"ticks\": \"\", \"zerolinecolor\": \"white\"}, \"yaxis\": {\"backgroundcolor\": \"#E5ECF6\", \"gridcolor\": \"white\", \"gridwidth\": 2, \"linecolor\": \"white\", \"showbackground\": true, \"ticks\": \"\", \"zerolinecolor\": \"white\"}, \"zaxis\": {\"backgroundcolor\": \"#E5ECF6\", \"gridcolor\": \"white\", \"gridwidth\": 2, \"linecolor\": \"white\", \"showbackground\": true, \"ticks\": \"\", \"zerolinecolor\": \"white\"}}, \"shapedefaults\": {\"line\": {\"color\": \"#2a3f5f\"}}, \"ternary\": {\"aaxis\": {\"gridcolor\": \"white\", \"linecolor\": \"white\", \"ticks\": \"\"}, \"baxis\": {\"gridcolor\": \"white\", \"linecolor\": \"white\", \"ticks\": \"\"}, \"bgcolor\": \"#E5ECF6\", \"caxis\": {\"gridcolor\": \"white\", \"linecolor\": \"white\", \"ticks\": \"\"}}, \"title\": {\"x\": 0.05}, \"xaxis\": {\"automargin\": true, \"gridcolor\": \"white\", \"linecolor\": \"white\", \"ticks\": \"\", \"title\": {\"standoff\": 15}, \"zerolinecolor\": \"white\", \"zerolinewidth\": 2}, \"yaxis\": {\"automargin\": true, \"gridcolor\": \"white\", \"linecolor\": \"white\", \"ticks\": \"\", \"title\": {\"standoff\": 15}, \"zerolinecolor\": \"white\", \"zerolinewidth\": 2}}}, \"width\": 500, \"xaxis\": {\"anchor\": \"y\", \"domain\": [0.0, 1.0], \"title\": {\"text\": \"data\"}}, \"yaxis\": {\"anchor\": \"x\", \"domain\": [0.0, 1.0], \"range\": [-3, 3], \"title\": {\"text\": \"linear\"}}},\n",
              "                        {\"responsive\": true}\n",
              "                    ).then(function(){\n",
              "                            \n",
              "var gd = document.getElementById('aa877602-5c8e-4ed0-a16c-d4e25f841305');\n",
              "var x = new MutationObserver(function (mutations, observer) {{\n",
              "        var display = window.getComputedStyle(gd).display;\n",
              "        if (!display || display === 'none') {{\n",
              "            console.log([gd, 'removed!']);\n",
              "            Plotly.purge(gd);\n",
              "            observer.disconnect();\n",
              "        }}\n",
              "}});\n",
              "\n",
              "// Listen for the removal of the full notebook cells\n",
              "var notebookContainer = gd.closest('#notebook-container');\n",
              "if (notebookContainer) {{\n",
              "    x.observe(notebookContainer, {childList: true});\n",
              "}}\n",
              "\n",
              "// Listen for the clearing of the current output cell\n",
              "var outputEl = gd.closest('.output');\n",
              "if (outputEl) {{\n",
              "    x.observe(outputEl, {childList: true});\n",
              "}}\n",
              "\n",
              "                        })\n",
              "                };\n",
              "                \n",
              "            </script>\n",
              "        </div>\n",
              "</body>\n",
              "</html>"
            ]
          },
          "metadata": {
            "tags": []
          }
        }
      ]
    },
    {
      "cell_type": "code",
      "metadata": {
        "id": "xGsRlPQde7Qc",
        "colab": {
          "base_uri": "https://localhost:8080/",
          "height": 204
        },
        "outputId": "d889e9a5-a25a-41a7-ac2f-7b7ae5e2ad92"
      },
      "source": [
        "from tensorflow.keras.activations import sigmoid\n",
        "\n",
        "data = pd.DataFrame({'data': random_data, 'sigmoid': sigmoid(random_data)})\n",
        "data.head()"
      ],
      "execution_count": null,
      "outputs": [
        {
          "output_type": "execute_result",
          "data": {
            "text/html": [
              "<div>\n",
              "<style scoped>\n",
              "    .dataframe tbody tr th:only-of-type {\n",
              "        vertical-align: middle;\n",
              "    }\n",
              "\n",
              "    .dataframe tbody tr th {\n",
              "        vertical-align: top;\n",
              "    }\n",
              "\n",
              "    .dataframe thead th {\n",
              "        text-align: right;\n",
              "    }\n",
              "</style>\n",
              "<table border=\"1\" class=\"dataframe\">\n",
              "  <thead>\n",
              "    <tr style=\"text-align: right;\">\n",
              "      <th></th>\n",
              "      <th>data</th>\n",
              "      <th>sigmoid</th>\n",
              "    </tr>\n",
              "  </thead>\n",
              "  <tbody>\n",
              "    <tr>\n",
              "      <th>0</th>\n",
              "      <td>-3.000000</td>\n",
              "      <td>0.047426</td>\n",
              "    </tr>\n",
              "    <tr>\n",
              "      <th>1</th>\n",
              "      <td>-2.979933</td>\n",
              "      <td>0.048341</td>\n",
              "    </tr>\n",
              "    <tr>\n",
              "      <th>2</th>\n",
              "      <td>-2.959866</td>\n",
              "      <td>0.049272</td>\n",
              "    </tr>\n",
              "    <tr>\n",
              "      <th>3</th>\n",
              "      <td>-2.939799</td>\n",
              "      <td>0.050221</td>\n",
              "    </tr>\n",
              "    <tr>\n",
              "      <th>4</th>\n",
              "      <td>-2.919732</td>\n",
              "      <td>0.051187</td>\n",
              "    </tr>\n",
              "  </tbody>\n",
              "</table>\n",
              "</div>"
            ],
            "text/plain": [
              "       data   sigmoid\n",
              "0 -3.000000  0.047426\n",
              "1 -2.979933  0.048341\n",
              "2 -2.959866  0.049272\n",
              "3 -2.939799  0.050221\n",
              "4 -2.919732  0.051187"
            ]
          },
          "metadata": {
            "tags": []
          },
          "execution_count": 9
        }
      ]
    },
    {
      "cell_type": "code",
      "metadata": {
        "id": "DbWCwhXifvXx",
        "colab": {
          "base_uri": "https://localhost:8080/",
          "height": 417
        },
        "outputId": "80ac5d6d-9051-42d3-c99c-2da01be95bd7"
      },
      "source": [
        "px.line(data, x='data', y='sigmoid', width=500, height=400, range_y=[-0.5, 1.5])"
      ],
      "execution_count": null,
      "outputs": [
        {
          "output_type": "display_data",
          "data": {
            "text/html": [
              "<html>\n",
              "<head><meta charset=\"utf-8\" /></head>\n",
              "<body>\n",
              "    <div>\n",
              "            <script src=\"https://cdnjs.cloudflare.com/ajax/libs/mathjax/2.7.5/MathJax.js?config=TeX-AMS-MML_SVG\"></script><script type=\"text/javascript\">if (window.MathJax) {MathJax.Hub.Config({SVG: {font: \"STIX-Web\"}});}</script>\n",
              "                <script type=\"text/javascript\">window.PlotlyConfig = {MathJaxConfig: 'local'};</script>\n",
              "        <script src=\"https://cdn.plot.ly/plotly-latest.min.js\"></script>    \n",
              "            <div id=\"62ccf530-0efa-479b-bb29-112f99992dcb\" class=\"plotly-graph-div\" style=\"height:400px; width:500px;\"></div>\n",
              "            <script type=\"text/javascript\">\n",
              "                \n",
              "                    window.PLOTLYENV=window.PLOTLYENV || {};\n",
              "                    \n",
              "                if (document.getElementById(\"62ccf530-0efa-479b-bb29-112f99992dcb\")) {\n",
              "                    Plotly.newPlot(\n",
              "                        '62ccf530-0efa-479b-bb29-112f99992dcb',\n",
              "                        [{\"hoverlabel\": {\"namelength\": 0}, \"hovertemplate\": \"data=%{x}<br>sigmoid=%{y}\", \"legendgroup\": \"\", \"line\": {\"color\": \"#636efa\", \"dash\": \"solid\"}, \"mode\": \"lines\", \"name\": \"\", \"showlegend\": false, \"type\": \"scatter\", \"x\": [-3.0, -2.979933110367893, -2.959866220735786, -2.939799331103679, -2.919732441471572, -2.899665551839465, -2.879598662207358, -2.859531772575251, -2.839464882943144, -2.819397993311037, -2.79933110367893, -2.779264214046823, -2.759197324414716, -2.739130434782609, -2.719063545150502, -2.6989966555183944, -2.678929765886288, -2.6588628762541804, -2.638795986622074, -2.6187290969899664, -2.5986622073578594, -2.5785953177257523, -2.5585284280936453, -2.5384615384615383, -2.5183946488294313, -2.4983277591973243, -2.4782608695652173, -2.4581939799331103, -2.4381270903010033, -2.4180602006688963, -2.3979933110367893, -2.3779264214046822, -2.3578595317725752, -2.3377926421404682, -2.317725752508361, -2.297658862876254, -2.277591973244147, -2.25752508361204, -2.237458193979933, -2.217391304347826, -2.197324414715719, -2.177257525083612, -2.157190635451505, -2.137123745819398, -2.1170568561872907, -2.096989966555184, -2.0769230769230766, -2.05685618729097, -2.0367892976588626, -2.016722408026756, -1.9966555183946488, -1.9765886287625418, -1.9565217391304348, -1.9364548494983278, -1.9163879598662208, -1.8963210702341138, -1.8762541806020065, -1.8561872909698995, -1.8361204013377925, -1.8160535117056855, -1.7959866220735785, -1.7759197324414715, -1.7558528428093645, -1.7357859531772575, -1.7157190635451505, -1.6956521739130435, -1.6755852842809364, -1.6555183946488294, -1.6354515050167224, -1.6153846153846154, -1.5953177257525084, -1.5752508361204014, -1.5551839464882944, -1.5351170568561872, -1.5150501672240801, -1.4949832775919731, -1.4749163879598661, -1.4548494983277591, -1.434782608695652, -1.414715719063545, -1.394648829431438, -1.374581939799331, -1.354515050167224, -1.334448160535117, -1.31438127090301, -1.294314381270903, -1.274247491638796, -1.254180602006689, -1.2341137123745818, -1.2140468227424748, -1.1939799331103678, -1.1739130434782608, -1.1538461538461537, -1.1337792642140467, -1.1137123745819397, -1.0936454849498327, -1.0735785953177257, -1.0535117056856187, -1.0334448160535117, -1.0133779264214047, -0.9933110367892977, -0.9732441471571907, -0.9531772575250836, -0.9331103678929766, -0.9130434782608696, -0.8929765886287626, -0.8729096989966556, -0.8528428093645486, -0.8327759197324416, -0.8127090301003346, -0.7926421404682276, -0.7725752508361206, -0.7525083612040131, -0.7324414715719061, -0.7123745819397991, -0.6923076923076921, -0.6722408026755851, -0.652173913043478, -0.632107023411371, -0.612040133779264, -0.591973244147157, -0.57190635451505, -0.551839464882943, -0.531772575250836, -0.511705685618729, -0.49163879598662197, -0.47157190635451496, -0.45150501672240795, -0.43143812709030094, -0.41137123745819393, -0.3913043478260869, -0.3712374581939799, -0.3511705685618729, -0.3311036789297659, -0.3110367892976589, -0.29096989966555187, -0.27090301003344486, -0.25083612040133785, -0.23076923076923084, -0.21070234113712383, -0.19063545150501682, -0.1705685618729098, -0.1505016722408028, -0.1304347826086958, -0.11036789297658878, -0.09030100334448132, -0.07023411371237431, -0.0501672240802673, -0.030100334448160293, -0.010033444816053283, 0.010033444816053727, 0.030100334448160737, 0.05016722408026775, 0.07023411371237476, 0.09030100334448177, 0.11036789297658878, 0.1304347826086958, 0.1505016722408028, 0.1705685618729098, 0.19063545150501682, 0.21070234113712383, 0.23076923076923084, 0.25083612040133785, 0.27090301003344486, 0.29096989966555187, 0.3110367892976589, 0.3311036789297659, 0.3511705685618729, 0.3712374581939799, 0.3913043478260869, 0.41137123745819393, 0.43143812709030094, 0.45150501672240795, 0.47157190635451496, 0.49163879598662197, 0.511705685618729, 0.5317725752508364, 0.5518394648829434, 0.5719063545150505, 0.5919732441471575, 0.6120401337792645, 0.6321070234113715, 0.6521739130434785, 0.6722408026755855, 0.6923076923076925, 0.7123745819397995, 0.7324414715719065, 0.7525083612040135, 0.7725752508361206, 0.7926421404682276, 0.8127090301003346, 0.8327759197324416, 0.8528428093645486, 0.8729096989966556, 0.8929765886287626, 0.9130434782608696, 0.9331103678929766, 0.9531772575250836, 0.9732441471571907, 0.9933110367892977, 1.0133779264214047, 1.0334448160535121, 1.0535117056856187, 1.0735785953177261, 1.0936454849498327, 1.1137123745819402, 1.1337792642140467, 1.1538461538461542, 1.1739130434782608, 1.1939799331103682, 1.2140468227424748, 1.2341137123745822, 1.2541806020066888, 1.2742474916387962, 1.2943143812709028, 1.3143812709030103, 1.3344481605351168, 1.3545150501672243, 1.3745819397993309, 1.3946488294314383, 1.4147157190635449, 1.4347826086956523, 1.454849498327759, 1.4749163879598663, 1.4949832775919738, 1.5150501672240804, 1.5351170568561878, 1.5551839464882944, 1.5752508361204018, 1.5953177257525084, 1.6153846153846159, 1.6354515050167224, 1.6555183946488299, 1.6755852842809364, 1.695652173913044, 1.7157190635451505, 1.735785953177258, 1.7558528428093645, 1.775919732441472, 1.7959866220735785, 1.816053511705686, 1.8361204013377925, 1.8561872909699, 1.8762541806020065, 1.896321070234114, 1.9163879598662206, 1.936454849498328, 1.9565217391304346, 1.976588628762542, 1.9966555183946486, 2.016722408026756, 2.0367892976588626, 2.05685618729097, 2.0769230769230766, 2.096989966555184, 2.1170568561872907, 2.137123745819398, 2.1571906354515056, 2.177257525083612, 2.1973244147157196, 2.217391304347826, 2.2374581939799336, 2.25752508361204, 2.2775919732441476, 2.297658862876254, 2.3177257525083617, 2.3377926421404682, 2.3578595317725757, 2.3779264214046822, 2.3979933110367897, 2.4180602006688963, 2.4381270903010037, 2.4581939799331103, 2.4782608695652177, 2.4983277591973243, 2.5183946488294318, 2.5384615384615383, 2.558528428093646, 2.5785953177257523, 2.59866220735786, 2.6187290969899664, 2.638795986622074, 2.6588628762541804, 2.678929765886288, 2.6989966555183944, 2.719063545150502, 2.7391304347826084, 2.759197324414716, 2.7792642140468224, 2.79933110367893, 2.8193979933110374, 2.839464882943144, 2.8595317725752514, 2.879598662207358, 2.8996655518394654, 2.919732441471572, 2.9397993311036794, 2.959866220735786, 2.9799331103678934, 3.0], \"xaxis\": \"x\", \"y\": [0.04742587317756678, 0.048340705809681674, 0.04927227253100449, 0.050220843974060264, 0.05118669376913059, 0.05217009852116519, 0.05317133778377138, 0.054190694030171835, 0.05522845262101941, 0.05628490176895615, 0.057360332499801235, 0.0584550386102517, 0.059569316621977564, 0.060703465731992035, 0.06185778775917565, 0.06303258708683229, 0.06422817060115395, 0.06544484762546998, 0.06668292985015553, 0.06794273125807446, 0.06922456804542951, 0.07052875853789457, 0.07185562310190226, 0.07320548405096042, 0.0745786655468728, 0.07597549349573796, 0.07739629543860309, 0.07884140043664953, 0.08031113895078916, 0.08180584271555184, 0.08332584460714686, 0.08487147850558378, 0.08644307915074051, 0.08804098199227042, 0.08966552303324322, 0.09131703866741864, 0.0929958655100569, 0.09470234022217401, 0.09643679932815588, 0.09819957902665112, 0.09999101499466823, 0.10181144218481032, 0.10366119461558736, 0.10554060515475419, 0.10745000529563077, 0.10938972492636984, 0.11136009209214777, 0.11336143275026259, 0.11539407051813642, 0.11745832641422792, 0.11955451859187528, 0.12168296206610013, 0.12384396843341768, 0.1260378455847111, 0.1282648974112431, 0.1305254235038923, 0.13281971884571703, 0.1351480734979668, 0.13751077227967676, 0.13990809444099878, 0.14234031333043995, 0.14480769605619867, 0.14731050314180635, 0.14984898817630302, 0.15242339745919412, 0.1550339696404574, 0.1576809353558881, 0.160364516858093, 0.16308492764346447, 0.16584237207548816, 0.16863704500475898, 0.1714691313861033, 0.1743388058932271, 0.17724623253133148, 0.18019156424816118, 0.1831749425439719, 0.18619649708092617, 0.18925634529244867, 0.19235459199309404, 0.19549132898950097, 0.19866663469302864, 0.20188057373469068, 0.2051331965830219, 0.20842453916553333, 0.2117546224944275, 0.21512345229726554, 0.21853101865329141, 0.22197729563613694, 0.2254622409636431, 0.2289857956555469, 0.23254788369979437, 0.2361484117282508, 0.23978726870258613, 0.24346432561112227, 0.24717943517743174, 0.25093243158148215, 0.2547231301941202, 0.2585513273256891, 0.26241679998956935, 0.2663193056814292, 0.270258582174959, 0.27423434733486024, 0.2782462989478413, 0.282294114572361, 0.2863774514078418, 0.2904959461840557, 0.2946492150713616, 0.2988368536124499, 0.3030584366762204, 0.3073135184343916, 0.3116016323614029, 0.31592229125814075, 0.32027498729997705, 0.3246591921095709, 0.3290743568548415, 0.3335199123724729, 0.3379952693172676, 0.3424998183376125, 0.3470329302772734, 0.3515939564036772, 0.3561822286627892, 0.36079705996063294, 0.36543774447144606, 0.3701035579724016, 0.37479375820476785, 0.379507585261317, 0.3842442619997291, 0.38900299448167935, 0.39378297243723015, 0.3985833697540888, 0.40340334499122904, 0.40824204191631036, 0.41309859006627186, 0.417972105330411, 0.4228616905552035, 0.42776643617005883, 0.4326854208331506, 0.4376177120964073, 0.4425623670886927, 0.44751843321615914, 0.4524849488787065, 0.4574609442014324, 0.4624454417799226, 0.46743745743818327, 0.4724360009979878, 0.4774400770583734, 0.48244868578399414, 0.48746082370101385, 0.49247548449919676, 0.49749165983883814, 0.502508340161162, 0.5075245155008034, 0.5125391762989863, 0.5175513142160061, 0.5225599229416268, 0.5275639990020122, 0.5325625425618168, 0.5375545582200775, 0.5425390557985675, 0.5475150511212935, 0.5524815667838409, 0.5574376329113074, 0.5623822879035927, 0.5673145791668494, 0.5722335638299412, 0.5771383094447965, 0.5820278946695889, 0.5869014099337281, 0.5917579580836896, 0.596596655008771, 0.6014166302459112, 0.6062170275627699, 0.6109970055183207, 0.6157557380002708, 0.620492414738683, 0.6252062417952321, 0.6298964420275986, 0.634562255528554, 0.6392029400393672, 0.643817771337211, 0.6484060435963229, 0.6529670697227268, 0.6575001816623877, 0.6620047306827325, 0.6664800876275272, 0.6709256431451586, 0.6753408078904292, 0.6797250127000231, 0.6840777087418592, 0.6883983676385971, 0.6926864815656084, 0.6969415633237797, 0.7011631463875501, 0.7053507849286385, 0.7095040538159443, 0.7136225485921582, 0.717705885427639, 0.7217537010521586, 0.7257656526651398, 0.729741417825041, 0.7336806943185707, 0.7375832000104308, 0.7414486726743109, 0.7452768698058798, 0.7490675684185178, 0.7528205648225684, 0.7565356743888777, 0.760212731297414, 0.7638515882717491, 0.7674521163002057, 0.7710142043444532, 0.7745377590363569, 0.7780227043638631, 0.7814689813467086, 0.7848765477027345, 0.7882453775055726, 0.7915754608344666, 0.7948668034169782, 0.7981194262653092, 0.8013333653069714, 0.8045086710104989, 0.807645408006906, 0.8107436547075513, 0.8138035029190739, 0.8168250574560282, 0.8198084357518388, 0.8227537674686686, 0.825661194106773, 0.8285308686138968, 0.8313629549952409, 0.8341576279245119, 0.8369150723565355, 0.8396354831419071, 0.8423190646441119, 0.8449660303595427, 0.8475766025408059, 0.850151011823697, 0.8526894968581937, 0.8551923039438013, 0.8576596866695602, 0.8600919055590013, 0.8624892277203232, 0.8648519265020334, 0.867180281154283, 0.8694745764961077, 0.8717351025887569, 0.8739621544152889, 0.8761560315665824, 0.8783170379338998, 0.8804454814081246, 0.882541673585772, 0.8846059294818635, 0.8866385672497373, 0.8886399079078522, 0.8906102750736302, 0.8925499947043692, 0.894459394845246, 0.8963388053844128, 0.8981885578151897, 0.9000089850053319, 0.9018004209733488, 0.9035632006718441, 0.905297659777826, 0.9070041344899431, 0.9086829613325813, 0.9103344769667568, 0.9119590180077296, 0.9135569208492595, 0.9151285214944161, 0.9166741553928532, 0.9181941572844481, 0.9196888610492109, 0.9211585995633504, 0.922603704561397, 0.924024506504262, 0.9254213344531272, 0.9267945159490396, 0.9281443768980977, 0.9294712414621054, 0.9307754319545706, 0.9320572687419255, 0.9333170701498446, 0.9345551523745301, 0.9357718293988462, 0.9369674129131678, 0.9381422122408243, 0.939296534268008, 0.9404306833780225, 0.9415449613897483, 0.9426396675001988, 0.9437150982310439, 0.9447715473789806, 0.9458093059698282, 0.9468286622162286, 0.9478299014788348, 0.9488133062308695, 0.9497791560259397, 0.9507277274689955, 0.9516592941903183, 0.9525741268224334], \"yaxis\": \"y\"}],\n",
              "                        {\"height\": 400, \"legend\": {\"tracegroupgap\": 0}, \"margin\": {\"t\": 60}, \"template\": {\"data\": {\"bar\": [{\"error_x\": {\"color\": \"#2a3f5f\"}, \"error_y\": {\"color\": \"#2a3f5f\"}, \"marker\": {\"line\": {\"color\": \"#E5ECF6\", \"width\": 0.5}}, \"type\": \"bar\"}], \"barpolar\": [{\"marker\": {\"line\": {\"color\": \"#E5ECF6\", \"width\": 0.5}}, \"type\": \"barpolar\"}], \"carpet\": [{\"aaxis\": {\"endlinecolor\": \"#2a3f5f\", \"gridcolor\": \"white\", \"linecolor\": \"white\", \"minorgridcolor\": \"white\", \"startlinecolor\": \"#2a3f5f\"}, \"baxis\": {\"endlinecolor\": \"#2a3f5f\", \"gridcolor\": \"white\", \"linecolor\": \"white\", \"minorgridcolor\": \"white\", \"startlinecolor\": \"#2a3f5f\"}, \"type\": \"carpet\"}], \"choropleth\": [{\"colorbar\": {\"outlinewidth\": 0, \"ticks\": \"\"}, \"type\": \"choropleth\"}], \"contour\": [{\"colorbar\": {\"outlinewidth\": 0, \"ticks\": \"\"}, \"colorscale\": [[0.0, \"#0d0887\"], [0.1111111111111111, \"#46039f\"], [0.2222222222222222, \"#7201a8\"], [0.3333333333333333, \"#9c179e\"], [0.4444444444444444, \"#bd3786\"], [0.5555555555555556, \"#d8576b\"], [0.6666666666666666, \"#ed7953\"], [0.7777777777777778, \"#fb9f3a\"], [0.8888888888888888, \"#fdca26\"], [1.0, \"#f0f921\"]], \"type\": \"contour\"}], \"contourcarpet\": [{\"colorbar\": {\"outlinewidth\": 0, \"ticks\": \"\"}, \"type\": \"contourcarpet\"}], \"heatmap\": [{\"colorbar\": {\"outlinewidth\": 0, \"ticks\": \"\"}, \"colorscale\": [[0.0, \"#0d0887\"], [0.1111111111111111, \"#46039f\"], [0.2222222222222222, \"#7201a8\"], [0.3333333333333333, \"#9c179e\"], [0.4444444444444444, \"#bd3786\"], [0.5555555555555556, \"#d8576b\"], [0.6666666666666666, \"#ed7953\"], [0.7777777777777778, \"#fb9f3a\"], [0.8888888888888888, \"#fdca26\"], [1.0, \"#f0f921\"]], \"type\": \"heatmap\"}], \"heatmapgl\": [{\"colorbar\": {\"outlinewidth\": 0, \"ticks\": \"\"}, \"colorscale\": [[0.0, \"#0d0887\"], [0.1111111111111111, \"#46039f\"], [0.2222222222222222, \"#7201a8\"], [0.3333333333333333, \"#9c179e\"], [0.4444444444444444, \"#bd3786\"], [0.5555555555555556, \"#d8576b\"], [0.6666666666666666, \"#ed7953\"], [0.7777777777777778, \"#fb9f3a\"], [0.8888888888888888, \"#fdca26\"], [1.0, \"#f0f921\"]], \"type\": \"heatmapgl\"}], \"histogram\": [{\"marker\": {\"colorbar\": {\"outlinewidth\": 0, \"ticks\": \"\"}}, \"type\": \"histogram\"}], \"histogram2d\": [{\"colorbar\": {\"outlinewidth\": 0, \"ticks\": \"\"}, \"colorscale\": [[0.0, \"#0d0887\"], [0.1111111111111111, \"#46039f\"], [0.2222222222222222, \"#7201a8\"], [0.3333333333333333, \"#9c179e\"], [0.4444444444444444, \"#bd3786\"], [0.5555555555555556, \"#d8576b\"], [0.6666666666666666, \"#ed7953\"], [0.7777777777777778, \"#fb9f3a\"], [0.8888888888888888, \"#fdca26\"], [1.0, \"#f0f921\"]], \"type\": \"histogram2d\"}], \"histogram2dcontour\": [{\"colorbar\": {\"outlinewidth\": 0, \"ticks\": \"\"}, \"colorscale\": [[0.0, \"#0d0887\"], [0.1111111111111111, \"#46039f\"], [0.2222222222222222, \"#7201a8\"], [0.3333333333333333, \"#9c179e\"], [0.4444444444444444, \"#bd3786\"], [0.5555555555555556, \"#d8576b\"], [0.6666666666666666, \"#ed7953\"], [0.7777777777777778, \"#fb9f3a\"], [0.8888888888888888, \"#fdca26\"], [1.0, \"#f0f921\"]], \"type\": \"histogram2dcontour\"}], \"mesh3d\": [{\"colorbar\": {\"outlinewidth\": 0, \"ticks\": \"\"}, \"type\": \"mesh3d\"}], \"parcoords\": [{\"line\": {\"colorbar\": {\"outlinewidth\": 0, \"ticks\": \"\"}}, \"type\": \"parcoords\"}], \"pie\": [{\"automargin\": true, \"type\": \"pie\"}], \"scatter\": [{\"marker\": {\"colorbar\": {\"outlinewidth\": 0, \"ticks\": \"\"}}, \"type\": \"scatter\"}], \"scatter3d\": [{\"line\": {\"colorbar\": {\"outlinewidth\": 0, \"ticks\": \"\"}}, \"marker\": {\"colorbar\": {\"outlinewidth\": 0, \"ticks\": \"\"}}, \"type\": \"scatter3d\"}], \"scattercarpet\": [{\"marker\": {\"colorbar\": {\"outlinewidth\": 0, \"ticks\": \"\"}}, \"type\": \"scattercarpet\"}], \"scattergeo\": [{\"marker\": {\"colorbar\": {\"outlinewidth\": 0, \"ticks\": \"\"}}, \"type\": \"scattergeo\"}], \"scattergl\": [{\"marker\": {\"colorbar\": {\"outlinewidth\": 0, \"ticks\": \"\"}}, \"type\": \"scattergl\"}], \"scattermapbox\": [{\"marker\": {\"colorbar\": {\"outlinewidth\": 0, \"ticks\": \"\"}}, \"type\": \"scattermapbox\"}], \"scatterpolar\": [{\"marker\": {\"colorbar\": {\"outlinewidth\": 0, \"ticks\": \"\"}}, \"type\": \"scatterpolar\"}], \"scatterpolargl\": [{\"marker\": {\"colorbar\": {\"outlinewidth\": 0, \"ticks\": \"\"}}, \"type\": \"scatterpolargl\"}], \"scatterternary\": [{\"marker\": {\"colorbar\": {\"outlinewidth\": 0, \"ticks\": \"\"}}, \"type\": \"scatterternary\"}], \"surface\": [{\"colorbar\": {\"outlinewidth\": 0, \"ticks\": \"\"}, \"colorscale\": [[0.0, \"#0d0887\"], [0.1111111111111111, \"#46039f\"], [0.2222222222222222, \"#7201a8\"], [0.3333333333333333, \"#9c179e\"], [0.4444444444444444, \"#bd3786\"], [0.5555555555555556, \"#d8576b\"], [0.6666666666666666, \"#ed7953\"], [0.7777777777777778, \"#fb9f3a\"], [0.8888888888888888, \"#fdca26\"], [1.0, \"#f0f921\"]], \"type\": \"surface\"}], \"table\": [{\"cells\": {\"fill\": {\"color\": \"#EBF0F8\"}, \"line\": {\"color\": \"white\"}}, \"header\": {\"fill\": {\"color\": \"#C8D4E3\"}, \"line\": {\"color\": \"white\"}}, \"type\": \"table\"}]}, \"layout\": {\"annotationdefaults\": {\"arrowcolor\": \"#2a3f5f\", \"arrowhead\": 0, \"arrowwidth\": 1}, \"coloraxis\": {\"colorbar\": {\"outlinewidth\": 0, \"ticks\": \"\"}}, \"colorscale\": {\"diverging\": [[0, \"#8e0152\"], [0.1, \"#c51b7d\"], [0.2, \"#de77ae\"], [0.3, \"#f1b6da\"], [0.4, \"#fde0ef\"], [0.5, \"#f7f7f7\"], [0.6, \"#e6f5d0\"], [0.7, \"#b8e186\"], [0.8, \"#7fbc41\"], [0.9, \"#4d9221\"], [1, \"#276419\"]], \"sequential\": [[0.0, \"#0d0887\"], [0.1111111111111111, \"#46039f\"], [0.2222222222222222, \"#7201a8\"], [0.3333333333333333, \"#9c179e\"], [0.4444444444444444, \"#bd3786\"], [0.5555555555555556, \"#d8576b\"], [0.6666666666666666, \"#ed7953\"], [0.7777777777777778, \"#fb9f3a\"], [0.8888888888888888, \"#fdca26\"], [1.0, \"#f0f921\"]], \"sequentialminus\": [[0.0, \"#0d0887\"], [0.1111111111111111, \"#46039f\"], [0.2222222222222222, \"#7201a8\"], [0.3333333333333333, \"#9c179e\"], [0.4444444444444444, \"#bd3786\"], [0.5555555555555556, \"#d8576b\"], [0.6666666666666666, \"#ed7953\"], [0.7777777777777778, \"#fb9f3a\"], [0.8888888888888888, \"#fdca26\"], [1.0, \"#f0f921\"]]}, \"colorway\": [\"#636efa\", \"#EF553B\", \"#00cc96\", \"#ab63fa\", \"#FFA15A\", \"#19d3f3\", \"#FF6692\", \"#B6E880\", \"#FF97FF\", \"#FECB52\"], \"font\": {\"color\": \"#2a3f5f\"}, \"geo\": {\"bgcolor\": \"white\", \"lakecolor\": \"white\", \"landcolor\": \"#E5ECF6\", \"showlakes\": true, \"showland\": true, \"subunitcolor\": \"white\"}, \"hoverlabel\": {\"align\": \"left\"}, \"hovermode\": \"closest\", \"mapbox\": {\"style\": \"light\"}, \"paper_bgcolor\": \"white\", \"plot_bgcolor\": \"#E5ECF6\", \"polar\": {\"angularaxis\": {\"gridcolor\": \"white\", \"linecolor\": \"white\", \"ticks\": \"\"}, \"bgcolor\": \"#E5ECF6\", \"radialaxis\": {\"gridcolor\": \"white\", \"linecolor\": \"white\", \"ticks\": \"\"}}, \"scene\": {\"xaxis\": {\"backgroundcolor\": \"#E5ECF6\", \"gridcolor\": \"white\", \"gridwidth\": 2, \"linecolor\": \"white\", \"showbackground\": true, \"ticks\": \"\", \"zerolinecolor\": \"white\"}, \"yaxis\": {\"backgroundcolor\": \"#E5ECF6\", \"gridcolor\": \"white\", \"gridwidth\": 2, \"linecolor\": \"white\", \"showbackground\": true, \"ticks\": \"\", \"zerolinecolor\": \"white\"}, \"zaxis\": {\"backgroundcolor\": \"#E5ECF6\", \"gridcolor\": \"white\", \"gridwidth\": 2, \"linecolor\": \"white\", \"showbackground\": true, \"ticks\": \"\", \"zerolinecolor\": \"white\"}}, \"shapedefaults\": {\"line\": {\"color\": \"#2a3f5f\"}}, \"ternary\": {\"aaxis\": {\"gridcolor\": \"white\", \"linecolor\": \"white\", \"ticks\": \"\"}, \"baxis\": {\"gridcolor\": \"white\", \"linecolor\": \"white\", \"ticks\": \"\"}, \"bgcolor\": \"#E5ECF6\", \"caxis\": {\"gridcolor\": \"white\", \"linecolor\": \"white\", \"ticks\": \"\"}}, \"title\": {\"x\": 0.05}, \"xaxis\": {\"automargin\": true, \"gridcolor\": \"white\", \"linecolor\": \"white\", \"ticks\": \"\", \"title\": {\"standoff\": 15}, \"zerolinecolor\": \"white\", \"zerolinewidth\": 2}, \"yaxis\": {\"automargin\": true, \"gridcolor\": \"white\", \"linecolor\": \"white\", \"ticks\": \"\", \"title\": {\"standoff\": 15}, \"zerolinecolor\": \"white\", \"zerolinewidth\": 2}}}, \"width\": 500, \"xaxis\": {\"anchor\": \"y\", \"domain\": [0.0, 1.0], \"title\": {\"text\": \"data\"}}, \"yaxis\": {\"anchor\": \"x\", \"domain\": [0.0, 1.0], \"range\": [-0.5, 1.5], \"title\": {\"text\": \"sigmoid\"}}},\n",
              "                        {\"responsive\": true}\n",
              "                    ).then(function(){\n",
              "                            \n",
              "var gd = document.getElementById('62ccf530-0efa-479b-bb29-112f99992dcb');\n",
              "var x = new MutationObserver(function (mutations, observer) {{\n",
              "        var display = window.getComputedStyle(gd).display;\n",
              "        if (!display || display === 'none') {{\n",
              "            console.log([gd, 'removed!']);\n",
              "            Plotly.purge(gd);\n",
              "            observer.disconnect();\n",
              "        }}\n",
              "}});\n",
              "\n",
              "// Listen for the removal of the full notebook cells\n",
              "var notebookContainer = gd.closest('#notebook-container');\n",
              "if (notebookContainer) {{\n",
              "    x.observe(notebookContainer, {childList: true});\n",
              "}}\n",
              "\n",
              "// Listen for the clearing of the current output cell\n",
              "var outputEl = gd.closest('.output');\n",
              "if (outputEl) {{\n",
              "    x.observe(outputEl, {childList: true});\n",
              "}}\n",
              "\n",
              "                        })\n",
              "                };\n",
              "                \n",
              "            </script>\n",
              "        </div>\n",
              "</body>\n",
              "</html>"
            ]
          },
          "metadata": {
            "tags": []
          }
        }
      ]
    },
    {
      "cell_type": "code",
      "metadata": {
        "id": "bX8_Bg2OfyLi",
        "colab": {
          "base_uri": "https://localhost:8080/",
          "height": 204
        },
        "outputId": "6c5ab6f2-3fbf-4570-d8b1-9b914c656d45"
      },
      "source": [
        "from tensorflow.keras.activations import relu #funkcja relu zeruje wartości ujemne\n",
        "#funkcja relu pozwala poprawić działanie sieci neuronowej i pozwala pracować z problemami nieliniowymi\n",
        "\n",
        "data = pd.DataFrame({'data': random_data, 'relu': relu(random_data)})\n",
        "data.head()"
      ],
      "execution_count": null,
      "outputs": [
        {
          "output_type": "execute_result",
          "data": {
            "text/html": [
              "<div>\n",
              "<style scoped>\n",
              "    .dataframe tbody tr th:only-of-type {\n",
              "        vertical-align: middle;\n",
              "    }\n",
              "\n",
              "    .dataframe tbody tr th {\n",
              "        vertical-align: top;\n",
              "    }\n",
              "\n",
              "    .dataframe thead th {\n",
              "        text-align: right;\n",
              "    }\n",
              "</style>\n",
              "<table border=\"1\" class=\"dataframe\">\n",
              "  <thead>\n",
              "    <tr style=\"text-align: right;\">\n",
              "      <th></th>\n",
              "      <th>data</th>\n",
              "      <th>relu</th>\n",
              "    </tr>\n",
              "  </thead>\n",
              "  <tbody>\n",
              "    <tr>\n",
              "      <th>0</th>\n",
              "      <td>-3.000000</td>\n",
              "      <td>0.0</td>\n",
              "    </tr>\n",
              "    <tr>\n",
              "      <th>1</th>\n",
              "      <td>-2.979933</td>\n",
              "      <td>0.0</td>\n",
              "    </tr>\n",
              "    <tr>\n",
              "      <th>2</th>\n",
              "      <td>-2.959866</td>\n",
              "      <td>0.0</td>\n",
              "    </tr>\n",
              "    <tr>\n",
              "      <th>3</th>\n",
              "      <td>-2.939799</td>\n",
              "      <td>0.0</td>\n",
              "    </tr>\n",
              "    <tr>\n",
              "      <th>4</th>\n",
              "      <td>-2.919732</td>\n",
              "      <td>0.0</td>\n",
              "    </tr>\n",
              "  </tbody>\n",
              "</table>\n",
              "</div>"
            ],
            "text/plain": [
              "       data  relu\n",
              "0 -3.000000   0.0\n",
              "1 -2.979933   0.0\n",
              "2 -2.959866   0.0\n",
              "3 -2.939799   0.0\n",
              "4 -2.919732   0.0"
            ]
          },
          "metadata": {
            "tags": []
          },
          "execution_count": 11
        }
      ]
    },
    {
      "cell_type": "code",
      "metadata": {
        "id": "vXV-1MECgWyz",
        "colab": {
          "base_uri": "https://localhost:8080/",
          "height": 417
        },
        "outputId": "cc8428b6-25f1-46af-ae11-7be6f305a4dc"
      },
      "source": [
        "px.line(data, x='data', y='relu', width=500, height=400, range_y=[-0.5, 1.5])"
      ],
      "execution_count": null,
      "outputs": [
        {
          "output_type": "display_data",
          "data": {
            "text/html": [
              "<html>\n",
              "<head><meta charset=\"utf-8\" /></head>\n",
              "<body>\n",
              "    <div>\n",
              "            <script src=\"https://cdnjs.cloudflare.com/ajax/libs/mathjax/2.7.5/MathJax.js?config=TeX-AMS-MML_SVG\"></script><script type=\"text/javascript\">if (window.MathJax) {MathJax.Hub.Config({SVG: {font: \"STIX-Web\"}});}</script>\n",
              "                <script type=\"text/javascript\">window.PlotlyConfig = {MathJaxConfig: 'local'};</script>\n",
              "        <script src=\"https://cdn.plot.ly/plotly-latest.min.js\"></script>    \n",
              "            <div id=\"e2fba03e-b377-435e-a6b9-e2e785318621\" class=\"plotly-graph-div\" style=\"height:400px; width:500px;\"></div>\n",
              "            <script type=\"text/javascript\">\n",
              "                \n",
              "                    window.PLOTLYENV=window.PLOTLYENV || {};\n",
              "                    \n",
              "                if (document.getElementById(\"e2fba03e-b377-435e-a6b9-e2e785318621\")) {\n",
              "                    Plotly.newPlot(\n",
              "                        'e2fba03e-b377-435e-a6b9-e2e785318621',\n",
              "                        [{\"hoverlabel\": {\"namelength\": 0}, \"hovertemplate\": \"data=%{x}<br>relu=%{y}\", \"legendgroup\": \"\", \"line\": {\"color\": \"#636efa\", \"dash\": \"solid\"}, \"mode\": \"lines\", \"name\": \"\", \"showlegend\": false, \"type\": \"scatter\", \"x\": [-3.0, -2.979933110367893, -2.959866220735786, -2.939799331103679, -2.919732441471572, -2.899665551839465, -2.879598662207358, -2.859531772575251, -2.839464882943144, -2.819397993311037, -2.79933110367893, -2.779264214046823, -2.759197324414716, -2.739130434782609, -2.719063545150502, -2.6989966555183944, -2.678929765886288, -2.6588628762541804, -2.638795986622074, -2.6187290969899664, -2.5986622073578594, -2.5785953177257523, -2.5585284280936453, -2.5384615384615383, -2.5183946488294313, -2.4983277591973243, -2.4782608695652173, -2.4581939799331103, -2.4381270903010033, -2.4180602006688963, -2.3979933110367893, -2.3779264214046822, -2.3578595317725752, -2.3377926421404682, -2.317725752508361, -2.297658862876254, -2.277591973244147, -2.25752508361204, -2.237458193979933, -2.217391304347826, -2.197324414715719, -2.177257525083612, -2.157190635451505, -2.137123745819398, -2.1170568561872907, -2.096989966555184, -2.0769230769230766, -2.05685618729097, -2.0367892976588626, -2.016722408026756, -1.9966555183946488, -1.9765886287625418, -1.9565217391304348, -1.9364548494983278, -1.9163879598662208, -1.8963210702341138, -1.8762541806020065, -1.8561872909698995, -1.8361204013377925, -1.8160535117056855, -1.7959866220735785, -1.7759197324414715, -1.7558528428093645, -1.7357859531772575, -1.7157190635451505, -1.6956521739130435, -1.6755852842809364, -1.6555183946488294, -1.6354515050167224, -1.6153846153846154, -1.5953177257525084, -1.5752508361204014, -1.5551839464882944, -1.5351170568561872, -1.5150501672240801, -1.4949832775919731, -1.4749163879598661, -1.4548494983277591, -1.434782608695652, -1.414715719063545, -1.394648829431438, -1.374581939799331, -1.354515050167224, -1.334448160535117, -1.31438127090301, -1.294314381270903, -1.274247491638796, -1.254180602006689, -1.2341137123745818, -1.2140468227424748, -1.1939799331103678, -1.1739130434782608, -1.1538461538461537, -1.1337792642140467, -1.1137123745819397, -1.0936454849498327, -1.0735785953177257, -1.0535117056856187, -1.0334448160535117, -1.0133779264214047, -0.9933110367892977, -0.9732441471571907, -0.9531772575250836, -0.9331103678929766, -0.9130434782608696, -0.8929765886287626, -0.8729096989966556, -0.8528428093645486, -0.8327759197324416, -0.8127090301003346, -0.7926421404682276, -0.7725752508361206, -0.7525083612040131, -0.7324414715719061, -0.7123745819397991, -0.6923076923076921, -0.6722408026755851, -0.652173913043478, -0.632107023411371, -0.612040133779264, -0.591973244147157, -0.57190635451505, -0.551839464882943, -0.531772575250836, -0.511705685618729, -0.49163879598662197, -0.47157190635451496, -0.45150501672240795, -0.43143812709030094, -0.41137123745819393, -0.3913043478260869, -0.3712374581939799, -0.3511705685618729, -0.3311036789297659, -0.3110367892976589, -0.29096989966555187, -0.27090301003344486, -0.25083612040133785, -0.23076923076923084, -0.21070234113712383, -0.19063545150501682, -0.1705685618729098, -0.1505016722408028, -0.1304347826086958, -0.11036789297658878, -0.09030100334448132, -0.07023411371237431, -0.0501672240802673, -0.030100334448160293, -0.010033444816053283, 0.010033444816053727, 0.030100334448160737, 0.05016722408026775, 0.07023411371237476, 0.09030100334448177, 0.11036789297658878, 0.1304347826086958, 0.1505016722408028, 0.1705685618729098, 0.19063545150501682, 0.21070234113712383, 0.23076923076923084, 0.25083612040133785, 0.27090301003344486, 0.29096989966555187, 0.3110367892976589, 0.3311036789297659, 0.3511705685618729, 0.3712374581939799, 0.3913043478260869, 0.41137123745819393, 0.43143812709030094, 0.45150501672240795, 0.47157190635451496, 0.49163879598662197, 0.511705685618729, 0.5317725752508364, 0.5518394648829434, 0.5719063545150505, 0.5919732441471575, 0.6120401337792645, 0.6321070234113715, 0.6521739130434785, 0.6722408026755855, 0.6923076923076925, 0.7123745819397995, 0.7324414715719065, 0.7525083612040135, 0.7725752508361206, 0.7926421404682276, 0.8127090301003346, 0.8327759197324416, 0.8528428093645486, 0.8729096989966556, 0.8929765886287626, 0.9130434782608696, 0.9331103678929766, 0.9531772575250836, 0.9732441471571907, 0.9933110367892977, 1.0133779264214047, 1.0334448160535121, 1.0535117056856187, 1.0735785953177261, 1.0936454849498327, 1.1137123745819402, 1.1337792642140467, 1.1538461538461542, 1.1739130434782608, 1.1939799331103682, 1.2140468227424748, 1.2341137123745822, 1.2541806020066888, 1.2742474916387962, 1.2943143812709028, 1.3143812709030103, 1.3344481605351168, 1.3545150501672243, 1.3745819397993309, 1.3946488294314383, 1.4147157190635449, 1.4347826086956523, 1.454849498327759, 1.4749163879598663, 1.4949832775919738, 1.5150501672240804, 1.5351170568561878, 1.5551839464882944, 1.5752508361204018, 1.5953177257525084, 1.6153846153846159, 1.6354515050167224, 1.6555183946488299, 1.6755852842809364, 1.695652173913044, 1.7157190635451505, 1.735785953177258, 1.7558528428093645, 1.775919732441472, 1.7959866220735785, 1.816053511705686, 1.8361204013377925, 1.8561872909699, 1.8762541806020065, 1.896321070234114, 1.9163879598662206, 1.936454849498328, 1.9565217391304346, 1.976588628762542, 1.9966555183946486, 2.016722408026756, 2.0367892976588626, 2.05685618729097, 2.0769230769230766, 2.096989966555184, 2.1170568561872907, 2.137123745819398, 2.1571906354515056, 2.177257525083612, 2.1973244147157196, 2.217391304347826, 2.2374581939799336, 2.25752508361204, 2.2775919732441476, 2.297658862876254, 2.3177257525083617, 2.3377926421404682, 2.3578595317725757, 2.3779264214046822, 2.3979933110367897, 2.4180602006688963, 2.4381270903010037, 2.4581939799331103, 2.4782608695652177, 2.4983277591973243, 2.5183946488294318, 2.5384615384615383, 2.558528428093646, 2.5785953177257523, 2.59866220735786, 2.6187290969899664, 2.638795986622074, 2.6588628762541804, 2.678929765886288, 2.6989966555183944, 2.719063545150502, 2.7391304347826084, 2.759197324414716, 2.7792642140468224, 2.79933110367893, 2.8193979933110374, 2.839464882943144, 2.8595317725752514, 2.879598662207358, 2.8996655518394654, 2.919732441471572, 2.9397993311036794, 2.959866220735786, 2.9799331103678934, 3.0], \"xaxis\": \"x\", \"y\": [0.0, 0.0, 0.0, 0.0, 0.0, 0.0, 0.0, 0.0, 0.0, 0.0, 0.0, 0.0, 0.0, 0.0, 0.0, 0.0, 0.0, 0.0, 0.0, 0.0, 0.0, 0.0, 0.0, 0.0, 0.0, 0.0, 0.0, 0.0, 0.0, 0.0, 0.0, 0.0, 0.0, 0.0, 0.0, 0.0, 0.0, 0.0, 0.0, 0.0, 0.0, 0.0, 0.0, 0.0, 0.0, 0.0, 0.0, 0.0, 0.0, 0.0, 0.0, 0.0, 0.0, 0.0, 0.0, 0.0, 0.0, 0.0, 0.0, 0.0, 0.0, 0.0, 0.0, 0.0, 0.0, 0.0, 0.0, 0.0, 0.0, 0.0, 0.0, 0.0, 0.0, 0.0, 0.0, 0.0, 0.0, 0.0, 0.0, 0.0, 0.0, 0.0, 0.0, 0.0, 0.0, 0.0, 0.0, 0.0, 0.0, 0.0, 0.0, 0.0, 0.0, 0.0, 0.0, 0.0, 0.0, 0.0, 0.0, 0.0, 0.0, 0.0, 0.0, 0.0, 0.0, 0.0, 0.0, 0.0, 0.0, 0.0, 0.0, 0.0, 0.0, 0.0, 0.0, 0.0, 0.0, 0.0, 0.0, 0.0, 0.0, 0.0, 0.0, 0.0, 0.0, 0.0, 0.0, 0.0, 0.0, 0.0, 0.0, 0.0, 0.0, 0.0, 0.0, 0.0, 0.0, 0.0, 0.0, 0.0, 0.0, 0.0, 0.0, 0.0, 0.0, 0.0, 0.0, 0.0, 0.0, 0.0, 0.010033444816053727, 0.030100334448160737, 0.05016722408026775, 0.07023411371237476, 0.09030100334448177, 0.11036789297658878, 0.1304347826086958, 0.1505016722408028, 0.1705685618729098, 0.19063545150501682, 0.21070234113712383, 0.23076923076923084, 0.25083612040133785, 0.27090301003344486, 0.29096989966555187, 0.3110367892976589, 0.3311036789297659, 0.3511705685618729, 0.3712374581939799, 0.3913043478260869, 0.41137123745819393, 0.43143812709030094, 0.45150501672240795, 0.47157190635451496, 0.49163879598662197, 0.511705685618729, 0.5317725752508364, 0.5518394648829434, 0.5719063545150505, 0.5919732441471575, 0.6120401337792645, 0.6321070234113715, 0.6521739130434785, 0.6722408026755855, 0.6923076923076925, 0.7123745819397995, 0.7324414715719065, 0.7525083612040135, 0.7725752508361206, 0.7926421404682276, 0.8127090301003346, 0.8327759197324416, 0.8528428093645486, 0.8729096989966556, 0.8929765886287626, 0.9130434782608696, 0.9331103678929766, 0.9531772575250836, 0.9732441471571907, 0.9933110367892977, 1.0133779264214047, 1.0334448160535121, 1.0535117056856187, 1.0735785953177261, 1.0936454849498327, 1.1137123745819402, 1.1337792642140467, 1.1538461538461542, 1.1739130434782608, 1.1939799331103682, 1.2140468227424748, 1.2341137123745822, 1.2541806020066888, 1.2742474916387962, 1.2943143812709028, 1.3143812709030103, 1.3344481605351168, 1.3545150501672243, 1.3745819397993309, 1.3946488294314383, 1.4147157190635449, 1.4347826086956523, 1.454849498327759, 1.4749163879598663, 1.4949832775919738, 1.5150501672240804, 1.5351170568561878, 1.5551839464882944, 1.5752508361204018, 1.5953177257525084, 1.6153846153846159, 1.6354515050167224, 1.6555183946488299, 1.6755852842809364, 1.695652173913044, 1.7157190635451505, 1.735785953177258, 1.7558528428093645, 1.775919732441472, 1.7959866220735785, 1.816053511705686, 1.8361204013377925, 1.8561872909699, 1.8762541806020065, 1.896321070234114, 1.9163879598662206, 1.936454849498328, 1.9565217391304346, 1.976588628762542, 1.9966555183946486, 2.016722408026756, 2.0367892976588626, 2.05685618729097, 2.0769230769230766, 2.096989966555184, 2.1170568561872907, 2.137123745819398, 2.1571906354515056, 2.177257525083612, 2.1973244147157196, 2.217391304347826, 2.2374581939799336, 2.25752508361204, 2.2775919732441476, 2.297658862876254, 2.3177257525083617, 2.3377926421404682, 2.3578595317725757, 2.3779264214046822, 2.3979933110367897, 2.4180602006688963, 2.4381270903010037, 2.4581939799331103, 2.4782608695652177, 2.4983277591973243, 2.5183946488294318, 2.5384615384615383, 2.558528428093646, 2.5785953177257523, 2.59866220735786, 2.6187290969899664, 2.638795986622074, 2.6588628762541804, 2.678929765886288, 2.6989966555183944, 2.719063545150502, 2.7391304347826084, 2.759197324414716, 2.7792642140468224, 2.79933110367893, 2.8193979933110374, 2.839464882943144, 2.8595317725752514, 2.879598662207358, 2.8996655518394654, 2.919732441471572, 2.9397993311036794, 2.959866220735786, 2.9799331103678934, 3.0], \"yaxis\": \"y\"}],\n",
              "                        {\"height\": 400, \"legend\": {\"tracegroupgap\": 0}, \"margin\": {\"t\": 60}, \"template\": {\"data\": {\"bar\": [{\"error_x\": {\"color\": \"#2a3f5f\"}, \"error_y\": {\"color\": \"#2a3f5f\"}, \"marker\": {\"line\": {\"color\": \"#E5ECF6\", \"width\": 0.5}}, \"type\": \"bar\"}], \"barpolar\": [{\"marker\": {\"line\": {\"color\": \"#E5ECF6\", \"width\": 0.5}}, \"type\": \"barpolar\"}], \"carpet\": [{\"aaxis\": {\"endlinecolor\": \"#2a3f5f\", \"gridcolor\": \"white\", \"linecolor\": \"white\", \"minorgridcolor\": \"white\", \"startlinecolor\": \"#2a3f5f\"}, \"baxis\": {\"endlinecolor\": \"#2a3f5f\", \"gridcolor\": \"white\", \"linecolor\": \"white\", \"minorgridcolor\": \"white\", \"startlinecolor\": \"#2a3f5f\"}, \"type\": \"carpet\"}], \"choropleth\": [{\"colorbar\": {\"outlinewidth\": 0, \"ticks\": \"\"}, \"type\": \"choropleth\"}], \"contour\": [{\"colorbar\": {\"outlinewidth\": 0, \"ticks\": \"\"}, \"colorscale\": [[0.0, \"#0d0887\"], [0.1111111111111111, \"#46039f\"], [0.2222222222222222, \"#7201a8\"], [0.3333333333333333, \"#9c179e\"], [0.4444444444444444, \"#bd3786\"], [0.5555555555555556, \"#d8576b\"], [0.6666666666666666, \"#ed7953\"], [0.7777777777777778, \"#fb9f3a\"], [0.8888888888888888, \"#fdca26\"], [1.0, \"#f0f921\"]], \"type\": \"contour\"}], \"contourcarpet\": [{\"colorbar\": {\"outlinewidth\": 0, \"ticks\": \"\"}, \"type\": \"contourcarpet\"}], \"heatmap\": [{\"colorbar\": {\"outlinewidth\": 0, \"ticks\": \"\"}, \"colorscale\": [[0.0, \"#0d0887\"], [0.1111111111111111, \"#46039f\"], [0.2222222222222222, \"#7201a8\"], [0.3333333333333333, \"#9c179e\"], [0.4444444444444444, \"#bd3786\"], [0.5555555555555556, \"#d8576b\"], [0.6666666666666666, \"#ed7953\"], [0.7777777777777778, \"#fb9f3a\"], [0.8888888888888888, \"#fdca26\"], [1.0, \"#f0f921\"]], \"type\": \"heatmap\"}], \"heatmapgl\": [{\"colorbar\": {\"outlinewidth\": 0, \"ticks\": \"\"}, \"colorscale\": [[0.0, \"#0d0887\"], [0.1111111111111111, \"#46039f\"], [0.2222222222222222, \"#7201a8\"], [0.3333333333333333, \"#9c179e\"], [0.4444444444444444, \"#bd3786\"], [0.5555555555555556, \"#d8576b\"], [0.6666666666666666, \"#ed7953\"], [0.7777777777777778, \"#fb9f3a\"], [0.8888888888888888, \"#fdca26\"], [1.0, \"#f0f921\"]], \"type\": \"heatmapgl\"}], \"histogram\": [{\"marker\": {\"colorbar\": {\"outlinewidth\": 0, \"ticks\": \"\"}}, \"type\": \"histogram\"}], \"histogram2d\": [{\"colorbar\": {\"outlinewidth\": 0, \"ticks\": \"\"}, \"colorscale\": [[0.0, \"#0d0887\"], [0.1111111111111111, \"#46039f\"], [0.2222222222222222, \"#7201a8\"], [0.3333333333333333, \"#9c179e\"], [0.4444444444444444, \"#bd3786\"], [0.5555555555555556, \"#d8576b\"], [0.6666666666666666, \"#ed7953\"], [0.7777777777777778, \"#fb9f3a\"], [0.8888888888888888, \"#fdca26\"], [1.0, \"#f0f921\"]], \"type\": \"histogram2d\"}], \"histogram2dcontour\": [{\"colorbar\": {\"outlinewidth\": 0, \"ticks\": \"\"}, \"colorscale\": [[0.0, \"#0d0887\"], [0.1111111111111111, \"#46039f\"], [0.2222222222222222, \"#7201a8\"], [0.3333333333333333, \"#9c179e\"], [0.4444444444444444, \"#bd3786\"], [0.5555555555555556, \"#d8576b\"], [0.6666666666666666, \"#ed7953\"], [0.7777777777777778, \"#fb9f3a\"], [0.8888888888888888, \"#fdca26\"], [1.0, \"#f0f921\"]], \"type\": \"histogram2dcontour\"}], \"mesh3d\": [{\"colorbar\": {\"outlinewidth\": 0, \"ticks\": \"\"}, \"type\": \"mesh3d\"}], \"parcoords\": [{\"line\": {\"colorbar\": {\"outlinewidth\": 0, \"ticks\": \"\"}}, \"type\": \"parcoords\"}], \"pie\": [{\"automargin\": true, \"type\": \"pie\"}], \"scatter\": [{\"marker\": {\"colorbar\": {\"outlinewidth\": 0, \"ticks\": \"\"}}, \"type\": \"scatter\"}], \"scatter3d\": [{\"line\": {\"colorbar\": {\"outlinewidth\": 0, \"ticks\": \"\"}}, \"marker\": {\"colorbar\": {\"outlinewidth\": 0, \"ticks\": \"\"}}, \"type\": \"scatter3d\"}], \"scattercarpet\": [{\"marker\": {\"colorbar\": {\"outlinewidth\": 0, \"ticks\": \"\"}}, \"type\": \"scattercarpet\"}], \"scattergeo\": [{\"marker\": {\"colorbar\": {\"outlinewidth\": 0, \"ticks\": \"\"}}, \"type\": \"scattergeo\"}], \"scattergl\": [{\"marker\": {\"colorbar\": {\"outlinewidth\": 0, \"ticks\": \"\"}}, \"type\": \"scattergl\"}], \"scattermapbox\": [{\"marker\": {\"colorbar\": {\"outlinewidth\": 0, \"ticks\": \"\"}}, \"type\": \"scattermapbox\"}], \"scatterpolar\": [{\"marker\": {\"colorbar\": {\"outlinewidth\": 0, \"ticks\": \"\"}}, \"type\": \"scatterpolar\"}], \"scatterpolargl\": [{\"marker\": {\"colorbar\": {\"outlinewidth\": 0, \"ticks\": \"\"}}, \"type\": \"scatterpolargl\"}], \"scatterternary\": [{\"marker\": {\"colorbar\": {\"outlinewidth\": 0, \"ticks\": \"\"}}, \"type\": \"scatterternary\"}], \"surface\": [{\"colorbar\": {\"outlinewidth\": 0, \"ticks\": \"\"}, \"colorscale\": [[0.0, \"#0d0887\"], [0.1111111111111111, \"#46039f\"], [0.2222222222222222, \"#7201a8\"], [0.3333333333333333, \"#9c179e\"], [0.4444444444444444, \"#bd3786\"], [0.5555555555555556, \"#d8576b\"], [0.6666666666666666, \"#ed7953\"], [0.7777777777777778, \"#fb9f3a\"], [0.8888888888888888, \"#fdca26\"], [1.0, \"#f0f921\"]], \"type\": \"surface\"}], \"table\": [{\"cells\": {\"fill\": {\"color\": \"#EBF0F8\"}, \"line\": {\"color\": \"white\"}}, \"header\": {\"fill\": {\"color\": \"#C8D4E3\"}, \"line\": {\"color\": \"white\"}}, \"type\": \"table\"}]}, \"layout\": {\"annotationdefaults\": {\"arrowcolor\": \"#2a3f5f\", \"arrowhead\": 0, \"arrowwidth\": 1}, \"coloraxis\": {\"colorbar\": {\"outlinewidth\": 0, \"ticks\": \"\"}}, \"colorscale\": {\"diverging\": [[0, \"#8e0152\"], [0.1, \"#c51b7d\"], [0.2, \"#de77ae\"], [0.3, \"#f1b6da\"], [0.4, \"#fde0ef\"], [0.5, \"#f7f7f7\"], [0.6, \"#e6f5d0\"], [0.7, \"#b8e186\"], [0.8, \"#7fbc41\"], [0.9, \"#4d9221\"], [1, \"#276419\"]], \"sequential\": [[0.0, \"#0d0887\"], [0.1111111111111111, \"#46039f\"], [0.2222222222222222, \"#7201a8\"], [0.3333333333333333, \"#9c179e\"], [0.4444444444444444, \"#bd3786\"], [0.5555555555555556, \"#d8576b\"], [0.6666666666666666, \"#ed7953\"], [0.7777777777777778, \"#fb9f3a\"], [0.8888888888888888, \"#fdca26\"], [1.0, \"#f0f921\"]], \"sequentialminus\": [[0.0, \"#0d0887\"], [0.1111111111111111, \"#46039f\"], [0.2222222222222222, \"#7201a8\"], [0.3333333333333333, \"#9c179e\"], [0.4444444444444444, \"#bd3786\"], [0.5555555555555556, \"#d8576b\"], [0.6666666666666666, \"#ed7953\"], [0.7777777777777778, \"#fb9f3a\"], [0.8888888888888888, \"#fdca26\"], [1.0, \"#f0f921\"]]}, \"colorway\": [\"#636efa\", \"#EF553B\", \"#00cc96\", \"#ab63fa\", \"#FFA15A\", \"#19d3f3\", \"#FF6692\", \"#B6E880\", \"#FF97FF\", \"#FECB52\"], \"font\": {\"color\": \"#2a3f5f\"}, \"geo\": {\"bgcolor\": \"white\", \"lakecolor\": \"white\", \"landcolor\": \"#E5ECF6\", \"showlakes\": true, \"showland\": true, \"subunitcolor\": \"white\"}, \"hoverlabel\": {\"align\": \"left\"}, \"hovermode\": \"closest\", \"mapbox\": {\"style\": \"light\"}, \"paper_bgcolor\": \"white\", \"plot_bgcolor\": \"#E5ECF6\", \"polar\": {\"angularaxis\": {\"gridcolor\": \"white\", \"linecolor\": \"white\", \"ticks\": \"\"}, \"bgcolor\": \"#E5ECF6\", \"radialaxis\": {\"gridcolor\": \"white\", \"linecolor\": \"white\", \"ticks\": \"\"}}, \"scene\": {\"xaxis\": {\"backgroundcolor\": \"#E5ECF6\", \"gridcolor\": \"white\", \"gridwidth\": 2, \"linecolor\": \"white\", \"showbackground\": true, \"ticks\": \"\", \"zerolinecolor\": \"white\"}, \"yaxis\": {\"backgroundcolor\": \"#E5ECF6\", \"gridcolor\": \"white\", \"gridwidth\": 2, \"linecolor\": \"white\", \"showbackground\": true, \"ticks\": \"\", \"zerolinecolor\": \"white\"}, \"zaxis\": {\"backgroundcolor\": \"#E5ECF6\", \"gridcolor\": \"white\", \"gridwidth\": 2, \"linecolor\": \"white\", \"showbackground\": true, \"ticks\": \"\", \"zerolinecolor\": \"white\"}}, \"shapedefaults\": {\"line\": {\"color\": \"#2a3f5f\"}}, \"ternary\": {\"aaxis\": {\"gridcolor\": \"white\", \"linecolor\": \"white\", \"ticks\": \"\"}, \"baxis\": {\"gridcolor\": \"white\", \"linecolor\": \"white\", \"ticks\": \"\"}, \"bgcolor\": \"#E5ECF6\", \"caxis\": {\"gridcolor\": \"white\", \"linecolor\": \"white\", \"ticks\": \"\"}}, \"title\": {\"x\": 0.05}, \"xaxis\": {\"automargin\": true, \"gridcolor\": \"white\", \"linecolor\": \"white\", \"ticks\": \"\", \"title\": {\"standoff\": 15}, \"zerolinecolor\": \"white\", \"zerolinewidth\": 2}, \"yaxis\": {\"automargin\": true, \"gridcolor\": \"white\", \"linecolor\": \"white\", \"ticks\": \"\", \"title\": {\"standoff\": 15}, \"zerolinecolor\": \"white\", \"zerolinewidth\": 2}}}, \"width\": 500, \"xaxis\": {\"anchor\": \"y\", \"domain\": [0.0, 1.0], \"title\": {\"text\": \"data\"}}, \"yaxis\": {\"anchor\": \"x\", \"domain\": [0.0, 1.0], \"range\": [-0.5, 1.5], \"title\": {\"text\": \"relu\"}}},\n",
              "                        {\"responsive\": true}\n",
              "                    ).then(function(){\n",
              "                            \n",
              "var gd = document.getElementById('e2fba03e-b377-435e-a6b9-e2e785318621');\n",
              "var x = new MutationObserver(function (mutations, observer) {{\n",
              "        var display = window.getComputedStyle(gd).display;\n",
              "        if (!display || display === 'none') {{\n",
              "            console.log([gd, 'removed!']);\n",
              "            Plotly.purge(gd);\n",
              "            observer.disconnect();\n",
              "        }}\n",
              "}});\n",
              "\n",
              "// Listen for the removal of the full notebook cells\n",
              "var notebookContainer = gd.closest('#notebook-container');\n",
              "if (notebookContainer) {{\n",
              "    x.observe(notebookContainer, {childList: true});\n",
              "}}\n",
              "\n",
              "// Listen for the clearing of the current output cell\n",
              "var outputEl = gd.closest('.output');\n",
              "if (outputEl) {{\n",
              "    x.observe(outputEl, {childList: true});\n",
              "}}\n",
              "\n",
              "                        })\n",
              "                };\n",
              "                \n",
              "            </script>\n",
              "        </div>\n",
              "</body>\n",
              "</html>"
            ]
          },
          "metadata": {
            "tags": []
          }
        }
      ]
    },
    {
      "cell_type": "code",
      "metadata": {
        "id": "5AF9VX1OgZNg",
        "colab": {
          "base_uri": "https://localhost:8080/",
          "height": 204
        },
        "outputId": "3f19d911-7e64-41bf-fc21-90b185586cbe"
      },
      "source": [
        "from tensorflow.keras.activations import tanh #funkcja tangensa hiperbolicznego, stosowana jako zamiennik do funkcji sigmoid lub relu, w przypadku, gdy nie radzą sobie z problemem\n",
        "\n",
        "data = pd.DataFrame({'data': random_data, 'tanh': tanh(random_data)})\n",
        "data.head()"
      ],
      "execution_count": null,
      "outputs": [
        {
          "output_type": "execute_result",
          "data": {
            "text/html": [
              "<div>\n",
              "<style scoped>\n",
              "    .dataframe tbody tr th:only-of-type {\n",
              "        vertical-align: middle;\n",
              "    }\n",
              "\n",
              "    .dataframe tbody tr th {\n",
              "        vertical-align: top;\n",
              "    }\n",
              "\n",
              "    .dataframe thead th {\n",
              "        text-align: right;\n",
              "    }\n",
              "</style>\n",
              "<table border=\"1\" class=\"dataframe\">\n",
              "  <thead>\n",
              "    <tr style=\"text-align: right;\">\n",
              "      <th></th>\n",
              "      <th>data</th>\n",
              "      <th>tanh</th>\n",
              "    </tr>\n",
              "  </thead>\n",
              "  <tbody>\n",
              "    <tr>\n",
              "      <th>0</th>\n",
              "      <td>-3.000000</td>\n",
              "      <td>-0.995055</td>\n",
              "    </tr>\n",
              "    <tr>\n",
              "      <th>1</th>\n",
              "      <td>-2.979933</td>\n",
              "      <td>-0.994853</td>\n",
              "    </tr>\n",
              "    <tr>\n",
              "      <th>2</th>\n",
              "      <td>-2.959866</td>\n",
              "      <td>-0.994643</td>\n",
              "    </tr>\n",
              "    <tr>\n",
              "      <th>3</th>\n",
              "      <td>-2.939799</td>\n",
              "      <td>-0.994424</td>\n",
              "    </tr>\n",
              "    <tr>\n",
              "      <th>4</th>\n",
              "      <td>-2.919732</td>\n",
              "      <td>-0.994196</td>\n",
              "    </tr>\n",
              "  </tbody>\n",
              "</table>\n",
              "</div>"
            ],
            "text/plain": [
              "       data      tanh\n",
              "0 -3.000000 -0.995055\n",
              "1 -2.979933 -0.994853\n",
              "2 -2.959866 -0.994643\n",
              "3 -2.939799 -0.994424\n",
              "4 -2.919732 -0.994196"
            ]
          },
          "metadata": {
            "tags": []
          },
          "execution_count": 13
        }
      ]
    },
    {
      "cell_type": "code",
      "metadata": {
        "id": "60dxCfJpghZR",
        "colab": {
          "base_uri": "https://localhost:8080/",
          "height": 417
        },
        "outputId": "cdae22a4-4396-4886-c7fd-68fa89a84aaf"
      },
      "source": [
        "px.line(data, x='data', y='tanh', width=500, height=400, range_y=[-1.5, 1.5])"
      ],
      "execution_count": null,
      "outputs": [
        {
          "output_type": "display_data",
          "data": {
            "text/html": [
              "<html>\n",
              "<head><meta charset=\"utf-8\" /></head>\n",
              "<body>\n",
              "    <div>\n",
              "            <script src=\"https://cdnjs.cloudflare.com/ajax/libs/mathjax/2.7.5/MathJax.js?config=TeX-AMS-MML_SVG\"></script><script type=\"text/javascript\">if (window.MathJax) {MathJax.Hub.Config({SVG: {font: \"STIX-Web\"}});}</script>\n",
              "                <script type=\"text/javascript\">window.PlotlyConfig = {MathJaxConfig: 'local'};</script>\n",
              "        <script src=\"https://cdn.plot.ly/plotly-latest.min.js\"></script>    \n",
              "            <div id=\"60614eaf-7927-4369-8606-8dd3bcc83a5b\" class=\"plotly-graph-div\" style=\"height:400px; width:500px;\"></div>\n",
              "            <script type=\"text/javascript\">\n",
              "                \n",
              "                    window.PLOTLYENV=window.PLOTLYENV || {};\n",
              "                    \n",
              "                if (document.getElementById(\"60614eaf-7927-4369-8606-8dd3bcc83a5b\")) {\n",
              "                    Plotly.newPlot(\n",
              "                        '60614eaf-7927-4369-8606-8dd3bcc83a5b',\n",
              "                        [{\"hoverlabel\": {\"namelength\": 0}, \"hovertemplate\": \"data=%{x}<br>tanh=%{y}\", \"legendgroup\": \"\", \"line\": {\"color\": \"#636efa\", \"dash\": \"solid\"}, \"mode\": \"lines\", \"name\": \"\", \"showlegend\": false, \"type\": \"scatter\", \"x\": [-3.0, -2.979933110367893, -2.959866220735786, -2.939799331103679, -2.919732441471572, -2.899665551839465, -2.879598662207358, -2.859531772575251, -2.839464882943144, -2.819397993311037, -2.79933110367893, -2.779264214046823, -2.759197324414716, -2.739130434782609, -2.719063545150502, -2.6989966555183944, -2.678929765886288, -2.6588628762541804, -2.638795986622074, -2.6187290969899664, -2.5986622073578594, -2.5785953177257523, -2.5585284280936453, -2.5384615384615383, -2.5183946488294313, -2.4983277591973243, -2.4782608695652173, -2.4581939799331103, -2.4381270903010033, -2.4180602006688963, -2.3979933110367893, -2.3779264214046822, -2.3578595317725752, -2.3377926421404682, -2.317725752508361, -2.297658862876254, -2.277591973244147, -2.25752508361204, -2.237458193979933, -2.217391304347826, -2.197324414715719, -2.177257525083612, -2.157190635451505, -2.137123745819398, -2.1170568561872907, -2.096989966555184, -2.0769230769230766, -2.05685618729097, -2.0367892976588626, -2.016722408026756, -1.9966555183946488, -1.9765886287625418, -1.9565217391304348, -1.9364548494983278, -1.9163879598662208, -1.8963210702341138, -1.8762541806020065, -1.8561872909698995, -1.8361204013377925, -1.8160535117056855, -1.7959866220735785, -1.7759197324414715, -1.7558528428093645, -1.7357859531772575, -1.7157190635451505, -1.6956521739130435, -1.6755852842809364, -1.6555183946488294, -1.6354515050167224, -1.6153846153846154, -1.5953177257525084, -1.5752508361204014, -1.5551839464882944, -1.5351170568561872, -1.5150501672240801, -1.4949832775919731, -1.4749163879598661, -1.4548494983277591, -1.434782608695652, -1.414715719063545, -1.394648829431438, -1.374581939799331, -1.354515050167224, -1.334448160535117, -1.31438127090301, -1.294314381270903, -1.274247491638796, -1.254180602006689, -1.2341137123745818, -1.2140468227424748, -1.1939799331103678, -1.1739130434782608, -1.1538461538461537, -1.1337792642140467, -1.1137123745819397, -1.0936454849498327, -1.0735785953177257, -1.0535117056856187, -1.0334448160535117, -1.0133779264214047, -0.9933110367892977, -0.9732441471571907, -0.9531772575250836, -0.9331103678929766, -0.9130434782608696, -0.8929765886287626, -0.8729096989966556, -0.8528428093645486, -0.8327759197324416, -0.8127090301003346, -0.7926421404682276, -0.7725752508361206, -0.7525083612040131, -0.7324414715719061, -0.7123745819397991, -0.6923076923076921, -0.6722408026755851, -0.652173913043478, -0.632107023411371, -0.612040133779264, -0.591973244147157, -0.57190635451505, -0.551839464882943, -0.531772575250836, -0.511705685618729, -0.49163879598662197, -0.47157190635451496, -0.45150501672240795, -0.43143812709030094, -0.41137123745819393, -0.3913043478260869, -0.3712374581939799, -0.3511705685618729, -0.3311036789297659, -0.3110367892976589, -0.29096989966555187, -0.27090301003344486, -0.25083612040133785, -0.23076923076923084, -0.21070234113712383, -0.19063545150501682, -0.1705685618729098, -0.1505016722408028, -0.1304347826086958, -0.11036789297658878, -0.09030100334448132, -0.07023411371237431, -0.0501672240802673, -0.030100334448160293, -0.010033444816053283, 0.010033444816053727, 0.030100334448160737, 0.05016722408026775, 0.07023411371237476, 0.09030100334448177, 0.11036789297658878, 0.1304347826086958, 0.1505016722408028, 0.1705685618729098, 0.19063545150501682, 0.21070234113712383, 0.23076923076923084, 0.25083612040133785, 0.27090301003344486, 0.29096989966555187, 0.3110367892976589, 0.3311036789297659, 0.3511705685618729, 0.3712374581939799, 0.3913043478260869, 0.41137123745819393, 0.43143812709030094, 0.45150501672240795, 0.47157190635451496, 0.49163879598662197, 0.511705685618729, 0.5317725752508364, 0.5518394648829434, 0.5719063545150505, 0.5919732441471575, 0.6120401337792645, 0.6321070234113715, 0.6521739130434785, 0.6722408026755855, 0.6923076923076925, 0.7123745819397995, 0.7324414715719065, 0.7525083612040135, 0.7725752508361206, 0.7926421404682276, 0.8127090301003346, 0.8327759197324416, 0.8528428093645486, 0.8729096989966556, 0.8929765886287626, 0.9130434782608696, 0.9331103678929766, 0.9531772575250836, 0.9732441471571907, 0.9933110367892977, 1.0133779264214047, 1.0334448160535121, 1.0535117056856187, 1.0735785953177261, 1.0936454849498327, 1.1137123745819402, 1.1337792642140467, 1.1538461538461542, 1.1739130434782608, 1.1939799331103682, 1.2140468227424748, 1.2341137123745822, 1.2541806020066888, 1.2742474916387962, 1.2943143812709028, 1.3143812709030103, 1.3344481605351168, 1.3545150501672243, 1.3745819397993309, 1.3946488294314383, 1.4147157190635449, 1.4347826086956523, 1.454849498327759, 1.4749163879598663, 1.4949832775919738, 1.5150501672240804, 1.5351170568561878, 1.5551839464882944, 1.5752508361204018, 1.5953177257525084, 1.6153846153846159, 1.6354515050167224, 1.6555183946488299, 1.6755852842809364, 1.695652173913044, 1.7157190635451505, 1.735785953177258, 1.7558528428093645, 1.775919732441472, 1.7959866220735785, 1.816053511705686, 1.8361204013377925, 1.8561872909699, 1.8762541806020065, 1.896321070234114, 1.9163879598662206, 1.936454849498328, 1.9565217391304346, 1.976588628762542, 1.9966555183946486, 2.016722408026756, 2.0367892976588626, 2.05685618729097, 2.0769230769230766, 2.096989966555184, 2.1170568561872907, 2.137123745819398, 2.1571906354515056, 2.177257525083612, 2.1973244147157196, 2.217391304347826, 2.2374581939799336, 2.25752508361204, 2.2775919732441476, 2.297658862876254, 2.3177257525083617, 2.3377926421404682, 2.3578595317725757, 2.3779264214046822, 2.3979933110367897, 2.4180602006688963, 2.4381270903010037, 2.4581939799331103, 2.4782608695652177, 2.4983277591973243, 2.5183946488294318, 2.5384615384615383, 2.558528428093646, 2.5785953177257523, 2.59866220735786, 2.6187290969899664, 2.638795986622074, 2.6588628762541804, 2.678929765886288, 2.6989966555183944, 2.719063545150502, 2.7391304347826084, 2.759197324414716, 2.7792642140468224, 2.79933110367893, 2.8193979933110374, 2.839464882943144, 2.8595317725752514, 2.879598662207358, 2.8996655518394654, 2.919732441471572, 2.9397993311036794, 2.959866220735786, 2.9799331103678934, 3.0], \"xaxis\": \"x\", \"y\": [-0.9950547536867305, -0.9948527669172019, -0.9946425522267051, -0.994423776297535, -0.9941960924629225, -0.9939591401852469, -0.993712544514928, -0.9934559155293734, -0.9931888477513459, -0.9929109195461022, -0.9926216924966457, -0.9923207107564234, -0.992007500378792, -0.9916815686225645, -0.9913424032329462, -0.9909894716971636, -0.9906222204740811, -0.9902400741971044, -0.9898424348496637, -0.9894286809125766, -0.9889981664825909, -0.9885502203614155, -0.9880841451145616, -0.9875992160993223, -0.9870946804612433, -0.9865697560984518, -0.9860236305932417, -0.9854554601103395, -0.9848643682613105, -0.9842494449346114, -0.9836097450908345, -0.9829442875227499, -0.9822520535798103, -0.9815319858568546, -0.9807829868468221, -0.9800039175573794, -0.9791935960914603, -0.9783507961918256, -0.9774742457498723, -0.9765626252790548, -0.9756145663534286, -0.9746286500119874, -0.9736034051296419, -0.9725373067558863, -0.9714287744224057, -0.970276170421113, -0.9690777980543531, -0.9678318998592871, -0.9665366558087639, -0.9651901814913084, -0.9637905262731981, -0.9623356714459788, -0.9608235283631639, -0.9592519365702975, -0.9576186619330226, -0.9559213947682872, -0.9541577479843528, -0.9523252552358308, -0.950421369100568, -0.9484434592858475, -0.9463888108720336, -0.9442546226025116, -0.9420380052295202, -0.93973597992627, -0.937345476776567, -0.9348633333540388, -0.9322862934039639, -0.9296110056416541, -0.9268340226823264, -0.9239518001184096, -0.9209606957612899, -0.9178569690655645, -0.9146367807549807, -0.91129619267035, -0.9078311678608592, -0.9042375709413338, -0.9005111687391469, -0.8966476312555784, -0.8926425329675369, -0.8884913544966132, -0.8841894846734503, -0.8797322230263696, -0.8751147827240607, -0.8703322940029194, -0.8653798081102724, -0.8602523017952435, -0.8549446823793725, -0.8494517934392571, -0.8437684211334437, -0.8378893012054976, -0.8318091266946153, -0.8255225563842759, -0.8190242240182181, -0.8123087483114577, -0.8053707437820843, -0.7982048324271617, -0.7908056562631862, -0.7831678907481722, -0.7752862590985365, -0.7671555475094944, -0.7587706212826381, -0.7501264418587388, -0.7412180847475635, -0.7320407583396266, -0.7225898235773113, -0.7128608144546854, -0.7028494593066384, -0.6925517028386885, -0.6819637288390039, -0.6710819835038989, -0.6599031992973586, -0.6484244192541062, -0.636643021624451, -0.6245567447477276, -0.6121637120297193, -0.5994624568881576, -0.586451947519378, -0.5731316113286531, -0.5595013588567878, -0.5455616070264638, -0.5313133015237221, -0.5167579381231105, -0.5018975827595883, -0.4867348901464721, -0.47127312073673044, -0.45551615582497623, -0.43946851058973274, -0.42313534488011584, -0.4065224715581034, -0.3896363622171569, -0.372484150110168, -0.3550736301345537, -0.3374132557397956, -0.3195121326427289, -0.3013800092583366, -0.28302726377850707, -0.2644648878579551, -0.2457044668950239, -0.22675815692505183, -0.2076386581750479, -0.18835918536017857, -0.16893343483458756, -0.14937554874089864, -0.1297000763339206, -0.1099219326840967, -0.09005635499465306, -0.0701188567927362, -0.050125180278640734, -0.03009124713814669, -0.01003310814059756, 0.010033108140598004, 0.030091247138147134, 0.05012518027864118, 0.07011885679273665, 0.09005635499465349, 0.1099219326840967, 0.1297000763339206, 0.14937554874089864, 0.16893343483458756, 0.18835918536017857, 0.2076386581750479, 0.22675815692505183, 0.2457044668950239, 0.2644648878579551, 0.28302726377850707, 0.3013800092583366, 0.3195121326427289, 0.3374132557397956, 0.3550736301345537, 0.372484150110168, 0.3896363622171569, 0.4065224715581034, 0.42313534488011584, 0.43946851058973274, 0.45551615582497623, 0.47127312073673044, 0.48673489014647253, 0.5018975827595886, 0.5167579381231109, 0.5313133015237225, 0.5455616070264643, 0.5595013588567881, 0.5731316113286534, 0.5864519475193785, 0.5994624568881579, 0.6121637120297196, 0.6245567447477279, 0.6366430216244513, 0.6484244192541062, 0.6599031992973586, 0.6710819835038989, 0.6819637288390039, 0.6925517028386885, 0.7028494593066384, 0.7128608144546854, 0.7225898235773113, 0.7320407583396266, 0.7412180847475635, 0.7501264418587388, 0.7587706212826381, 0.7671555475094944, 0.7752862590985367, 0.7831678907481722, 0.7908056562631864, 0.7982048324271617, 0.8053707437820844, 0.8123087483114577, 0.8190242240182182, 0.8255225563842759, 0.8318091266946155, 0.8378893012054976, 0.8437684211334439, 0.849451793439257, 0.8549446823793726, 0.8602523017952435, 0.8653798081102724, 0.8703322940029194, 0.8751147827240607, 0.8797322230263696, 0.8841894846734503, 0.8884913544966131, 0.8926425329675369, 0.8966476312555783, 0.9005111687391469, 0.904237570941334, 0.9078311678608592, 0.9112961926703501, 0.9146367807549807, 0.9178569690655645, 0.9209606957612899, 0.9239518001184097, 0.9268340226823264, 0.9296110056416542, 0.9322862934039639, 0.9348633333540389, 0.937345476776567, 0.93973597992627, 0.9420380052295202, 0.9442546226025116, 0.9463888108720336, 0.9484434592858476, 0.950421369100568, 0.9523252552358308, 0.9541577479843528, 0.9559213947682872, 0.9576186619330226, 0.9592519365702975, 0.9608235283631639, 0.9623356714459789, 0.9637905262731981, 0.9651901814913084, 0.9665366558087639, 0.9678318998592871, 0.9690777980543531, 0.970276170421113, 0.9714287744224057, 0.9725373067558863, 0.9736034051296419, 0.9746286500119874, 0.9756145663534287, 0.9765626252790548, 0.9774742457498723, 0.9783507961918256, 0.9791935960914604, 0.9800039175573794, 0.9807829868468221, 0.9815319858568546, 0.9822520535798103, 0.9829442875227499, 0.9836097450908345, 0.9842494449346114, 0.9848643682613105, 0.9854554601103395, 0.9860236305932417, 0.9865697560984518, 0.9870946804612433, 0.9875992160993223, 0.9880841451145616, 0.9885502203614155, 0.9889981664825909, 0.9894286809125766, 0.9898424348496637, 0.9902400741971044, 0.9906222204740811, 0.9909894716971636, 0.9913424032329462, 0.9916815686225644, 0.992007500378792, 0.9923207107564234, 0.9926216924966457, 0.9929109195461022, 0.9931888477513459, 0.9934559155293734, 0.993712544514928, 0.9939591401852469, 0.9941960924629225, 0.994423776297535, 0.9946425522267051, 0.9948527669172019, 0.9950547536867305], \"yaxis\": \"y\"}],\n",
              "                        {\"height\": 400, \"legend\": {\"tracegroupgap\": 0}, \"margin\": {\"t\": 60}, \"template\": {\"data\": {\"bar\": [{\"error_x\": {\"color\": \"#2a3f5f\"}, \"error_y\": {\"color\": \"#2a3f5f\"}, \"marker\": {\"line\": {\"color\": \"#E5ECF6\", \"width\": 0.5}}, \"type\": \"bar\"}], \"barpolar\": [{\"marker\": {\"line\": {\"color\": \"#E5ECF6\", \"width\": 0.5}}, \"type\": \"barpolar\"}], \"carpet\": [{\"aaxis\": {\"endlinecolor\": \"#2a3f5f\", \"gridcolor\": \"white\", \"linecolor\": \"white\", \"minorgridcolor\": \"white\", \"startlinecolor\": \"#2a3f5f\"}, \"baxis\": {\"endlinecolor\": \"#2a3f5f\", \"gridcolor\": \"white\", \"linecolor\": \"white\", \"minorgridcolor\": \"white\", \"startlinecolor\": \"#2a3f5f\"}, \"type\": \"carpet\"}], \"choropleth\": [{\"colorbar\": {\"outlinewidth\": 0, \"ticks\": \"\"}, \"type\": \"choropleth\"}], \"contour\": [{\"colorbar\": {\"outlinewidth\": 0, \"ticks\": \"\"}, \"colorscale\": [[0.0, \"#0d0887\"], [0.1111111111111111, \"#46039f\"], [0.2222222222222222, \"#7201a8\"], [0.3333333333333333, \"#9c179e\"], [0.4444444444444444, \"#bd3786\"], [0.5555555555555556, \"#d8576b\"], [0.6666666666666666, \"#ed7953\"], [0.7777777777777778, \"#fb9f3a\"], [0.8888888888888888, \"#fdca26\"], [1.0, \"#f0f921\"]], \"type\": \"contour\"}], \"contourcarpet\": [{\"colorbar\": {\"outlinewidth\": 0, \"ticks\": \"\"}, \"type\": \"contourcarpet\"}], \"heatmap\": [{\"colorbar\": {\"outlinewidth\": 0, \"ticks\": \"\"}, \"colorscale\": [[0.0, \"#0d0887\"], [0.1111111111111111, \"#46039f\"], [0.2222222222222222, \"#7201a8\"], [0.3333333333333333, \"#9c179e\"], [0.4444444444444444, \"#bd3786\"], [0.5555555555555556, \"#d8576b\"], [0.6666666666666666, \"#ed7953\"], [0.7777777777777778, \"#fb9f3a\"], [0.8888888888888888, \"#fdca26\"], [1.0, \"#f0f921\"]], \"type\": \"heatmap\"}], \"heatmapgl\": [{\"colorbar\": {\"outlinewidth\": 0, \"ticks\": \"\"}, \"colorscale\": [[0.0, \"#0d0887\"], [0.1111111111111111, \"#46039f\"], [0.2222222222222222, \"#7201a8\"], [0.3333333333333333, \"#9c179e\"], [0.4444444444444444, \"#bd3786\"], [0.5555555555555556, \"#d8576b\"], [0.6666666666666666, \"#ed7953\"], [0.7777777777777778, \"#fb9f3a\"], [0.8888888888888888, \"#fdca26\"], [1.0, \"#f0f921\"]], \"type\": \"heatmapgl\"}], \"histogram\": [{\"marker\": {\"colorbar\": {\"outlinewidth\": 0, \"ticks\": \"\"}}, \"type\": \"histogram\"}], \"histogram2d\": [{\"colorbar\": {\"outlinewidth\": 0, \"ticks\": \"\"}, \"colorscale\": [[0.0, \"#0d0887\"], [0.1111111111111111, \"#46039f\"], [0.2222222222222222, \"#7201a8\"], [0.3333333333333333, \"#9c179e\"], [0.4444444444444444, \"#bd3786\"], [0.5555555555555556, \"#d8576b\"], [0.6666666666666666, \"#ed7953\"], [0.7777777777777778, \"#fb9f3a\"], [0.8888888888888888, \"#fdca26\"], [1.0, \"#f0f921\"]], \"type\": \"histogram2d\"}], \"histogram2dcontour\": [{\"colorbar\": {\"outlinewidth\": 0, \"ticks\": \"\"}, \"colorscale\": [[0.0, \"#0d0887\"], [0.1111111111111111, \"#46039f\"], [0.2222222222222222, \"#7201a8\"], [0.3333333333333333, \"#9c179e\"], [0.4444444444444444, \"#bd3786\"], [0.5555555555555556, \"#d8576b\"], [0.6666666666666666, \"#ed7953\"], [0.7777777777777778, \"#fb9f3a\"], [0.8888888888888888, \"#fdca26\"], [1.0, \"#f0f921\"]], \"type\": \"histogram2dcontour\"}], \"mesh3d\": [{\"colorbar\": {\"outlinewidth\": 0, \"ticks\": \"\"}, \"type\": \"mesh3d\"}], \"parcoords\": [{\"line\": {\"colorbar\": {\"outlinewidth\": 0, \"ticks\": \"\"}}, \"type\": \"parcoords\"}], \"pie\": [{\"automargin\": true, \"type\": \"pie\"}], \"scatter\": [{\"marker\": {\"colorbar\": {\"outlinewidth\": 0, \"ticks\": \"\"}}, \"type\": \"scatter\"}], \"scatter3d\": [{\"line\": {\"colorbar\": {\"outlinewidth\": 0, \"ticks\": \"\"}}, \"marker\": {\"colorbar\": {\"outlinewidth\": 0, \"ticks\": \"\"}}, \"type\": \"scatter3d\"}], \"scattercarpet\": [{\"marker\": {\"colorbar\": {\"outlinewidth\": 0, \"ticks\": \"\"}}, \"type\": \"scattercarpet\"}], \"scattergeo\": [{\"marker\": {\"colorbar\": {\"outlinewidth\": 0, \"ticks\": \"\"}}, \"type\": \"scattergeo\"}], \"scattergl\": [{\"marker\": {\"colorbar\": {\"outlinewidth\": 0, \"ticks\": \"\"}}, \"type\": \"scattergl\"}], \"scattermapbox\": [{\"marker\": {\"colorbar\": {\"outlinewidth\": 0, \"ticks\": \"\"}}, \"type\": \"scattermapbox\"}], \"scatterpolar\": [{\"marker\": {\"colorbar\": {\"outlinewidth\": 0, \"ticks\": \"\"}}, \"type\": \"scatterpolar\"}], \"scatterpolargl\": [{\"marker\": {\"colorbar\": {\"outlinewidth\": 0, \"ticks\": \"\"}}, \"type\": \"scatterpolargl\"}], \"scatterternary\": [{\"marker\": {\"colorbar\": {\"outlinewidth\": 0, \"ticks\": \"\"}}, \"type\": \"scatterternary\"}], \"surface\": [{\"colorbar\": {\"outlinewidth\": 0, \"ticks\": \"\"}, \"colorscale\": [[0.0, \"#0d0887\"], [0.1111111111111111, \"#46039f\"], [0.2222222222222222, \"#7201a8\"], [0.3333333333333333, \"#9c179e\"], [0.4444444444444444, \"#bd3786\"], [0.5555555555555556, \"#d8576b\"], [0.6666666666666666, \"#ed7953\"], [0.7777777777777778, \"#fb9f3a\"], [0.8888888888888888, \"#fdca26\"], [1.0, \"#f0f921\"]], \"type\": \"surface\"}], \"table\": [{\"cells\": {\"fill\": {\"color\": \"#EBF0F8\"}, \"line\": {\"color\": \"white\"}}, \"header\": {\"fill\": {\"color\": \"#C8D4E3\"}, \"line\": {\"color\": \"white\"}}, \"type\": \"table\"}]}, \"layout\": {\"annotationdefaults\": {\"arrowcolor\": \"#2a3f5f\", \"arrowhead\": 0, \"arrowwidth\": 1}, \"coloraxis\": {\"colorbar\": {\"outlinewidth\": 0, \"ticks\": \"\"}}, \"colorscale\": {\"diverging\": [[0, \"#8e0152\"], [0.1, \"#c51b7d\"], [0.2, \"#de77ae\"], [0.3, \"#f1b6da\"], [0.4, \"#fde0ef\"], [0.5, \"#f7f7f7\"], [0.6, \"#e6f5d0\"], [0.7, \"#b8e186\"], [0.8, \"#7fbc41\"], [0.9, \"#4d9221\"], [1, \"#276419\"]], \"sequential\": [[0.0, \"#0d0887\"], [0.1111111111111111, \"#46039f\"], [0.2222222222222222, \"#7201a8\"], [0.3333333333333333, \"#9c179e\"], [0.4444444444444444, \"#bd3786\"], [0.5555555555555556, \"#d8576b\"], [0.6666666666666666, \"#ed7953\"], [0.7777777777777778, \"#fb9f3a\"], [0.8888888888888888, \"#fdca26\"], [1.0, \"#f0f921\"]], \"sequentialminus\": [[0.0, \"#0d0887\"], [0.1111111111111111, \"#46039f\"], [0.2222222222222222, \"#7201a8\"], [0.3333333333333333, \"#9c179e\"], [0.4444444444444444, \"#bd3786\"], [0.5555555555555556, \"#d8576b\"], [0.6666666666666666, \"#ed7953\"], [0.7777777777777778, \"#fb9f3a\"], [0.8888888888888888, \"#fdca26\"], [1.0, \"#f0f921\"]]}, \"colorway\": [\"#636efa\", \"#EF553B\", \"#00cc96\", \"#ab63fa\", \"#FFA15A\", \"#19d3f3\", \"#FF6692\", \"#B6E880\", \"#FF97FF\", \"#FECB52\"], \"font\": {\"color\": \"#2a3f5f\"}, \"geo\": {\"bgcolor\": \"white\", \"lakecolor\": \"white\", \"landcolor\": \"#E5ECF6\", \"showlakes\": true, \"showland\": true, \"subunitcolor\": \"white\"}, \"hoverlabel\": {\"align\": \"left\"}, \"hovermode\": \"closest\", \"mapbox\": {\"style\": \"light\"}, \"paper_bgcolor\": \"white\", \"plot_bgcolor\": \"#E5ECF6\", \"polar\": {\"angularaxis\": {\"gridcolor\": \"white\", \"linecolor\": \"white\", \"ticks\": \"\"}, \"bgcolor\": \"#E5ECF6\", \"radialaxis\": {\"gridcolor\": \"white\", \"linecolor\": \"white\", \"ticks\": \"\"}}, \"scene\": {\"xaxis\": {\"backgroundcolor\": \"#E5ECF6\", \"gridcolor\": \"white\", \"gridwidth\": 2, \"linecolor\": \"white\", \"showbackground\": true, \"ticks\": \"\", \"zerolinecolor\": \"white\"}, \"yaxis\": {\"backgroundcolor\": \"#E5ECF6\", \"gridcolor\": \"white\", \"gridwidth\": 2, \"linecolor\": \"white\", \"showbackground\": true, \"ticks\": \"\", \"zerolinecolor\": \"white\"}, \"zaxis\": {\"backgroundcolor\": \"#E5ECF6\", \"gridcolor\": \"white\", \"gridwidth\": 2, \"linecolor\": \"white\", \"showbackground\": true, \"ticks\": \"\", \"zerolinecolor\": \"white\"}}, \"shapedefaults\": {\"line\": {\"color\": \"#2a3f5f\"}}, \"ternary\": {\"aaxis\": {\"gridcolor\": \"white\", \"linecolor\": \"white\", \"ticks\": \"\"}, \"baxis\": {\"gridcolor\": \"white\", \"linecolor\": \"white\", \"ticks\": \"\"}, \"bgcolor\": \"#E5ECF6\", \"caxis\": {\"gridcolor\": \"white\", \"linecolor\": \"white\", \"ticks\": \"\"}}, \"title\": {\"x\": 0.05}, \"xaxis\": {\"automargin\": true, \"gridcolor\": \"white\", \"linecolor\": \"white\", \"ticks\": \"\", \"title\": {\"standoff\": 15}, \"zerolinecolor\": \"white\", \"zerolinewidth\": 2}, \"yaxis\": {\"automargin\": true, \"gridcolor\": \"white\", \"linecolor\": \"white\", \"ticks\": \"\", \"title\": {\"standoff\": 15}, \"zerolinecolor\": \"white\", \"zerolinewidth\": 2}}}, \"width\": 500, \"xaxis\": {\"anchor\": \"y\", \"domain\": [0.0, 1.0], \"title\": {\"text\": \"data\"}}, \"yaxis\": {\"anchor\": \"x\", \"domain\": [0.0, 1.0], \"range\": [-1.5, 1.5], \"title\": {\"text\": \"tanh\"}}},\n",
              "                        {\"responsive\": true}\n",
              "                    ).then(function(){\n",
              "                            \n",
              "var gd = document.getElementById('60614eaf-7927-4369-8606-8dd3bcc83a5b');\n",
              "var x = new MutationObserver(function (mutations, observer) {{\n",
              "        var display = window.getComputedStyle(gd).display;\n",
              "        if (!display || display === 'none') {{\n",
              "            console.log([gd, 'removed!']);\n",
              "            Plotly.purge(gd);\n",
              "            observer.disconnect();\n",
              "        }}\n",
              "}});\n",
              "\n",
              "// Listen for the removal of the full notebook cells\n",
              "var notebookContainer = gd.closest('#notebook-container');\n",
              "if (notebookContainer) {{\n",
              "    x.observe(notebookContainer, {childList: true});\n",
              "}}\n",
              "\n",
              "// Listen for the clearing of the current output cell\n",
              "var outputEl = gd.closest('.output');\n",
              "if (outputEl) {{\n",
              "    x.observe(outputEl, {childList: true});\n",
              "}}\n",
              "\n",
              "                        })\n",
              "                };\n",
              "                \n",
              "            </script>\n",
              "        </div>\n",
              "</body>\n",
              "</html>"
            ]
          },
          "metadata": {
            "tags": []
          }
        }
      ]
    },
    {
      "cell_type": "code",
      "metadata": {
        "id": "hUCtW1HMgjkV",
        "colab": {
          "base_uri": "https://localhost:8080/"
        },
        "outputId": "ddfdea19-f2eb-4e26-b25a-45d85d3f8c8b"
      },
      "source": [
        "model = Sequential()\n",
        "model.add(Dense(units=8, activation='relu', input_shape=(10,)))\n",
        "model.add(Dense(units=1, activation='sigmoid'))\n",
        "model.summary()"
      ],
      "execution_count": null,
      "outputs": [
        {
          "output_type": "stream",
          "text": [
            "Model: \"sequential_1\"\n",
            "_________________________________________________________________\n",
            "Layer (type)                 Output Shape              Param #   \n",
            "=================================================================\n",
            "dense_2 (Dense)              (None, 8)                 88        \n",
            "_________________________________________________________________\n",
            "dense_3 (Dense)              (None, 1)                 9         \n",
            "=================================================================\n",
            "Total params: 97\n",
            "Trainable params: 97\n",
            "Non-trainable params: 0\n",
            "_________________________________________________________________\n"
          ],
          "name": "stdout"
        }
      ]
    },
    {
      "cell_type": "markdown",
      "metadata": {
        "id": "NNWU1zbwimbx"
      },
      "source": [
        "### <a name='a2'></a>Kompilacja modelu\n",
        "Przed rozpoczęciem trenowania sieci należy odpowiednio skonfigurować proces uczenia. W tym kroku określamy:\n",
        "* rodzaj optymalizatora ([Keras - Optymalizatory](https://keras.io/optimizers/)) - minimalizuje funkcję straty\n",
        "* funkcję straty ([Keras - Funkcje Straty](https://keras.io/losses/))\n",
        "* metryki, które będziemy obserwować podczas trenowania sieci ([Keras - Metryki](https://keras.io/metrics/)) - najczęście stosowana metryka to accuracy"
      ]
    },
    {
      "cell_type": "code",
      "metadata": {
        "id": "oBRtQd7diI0e"
      },
      "source": [
        "# klasyfikacja binarna\n",
        "model.compile(optimizer='rmsprop',\n",
        "              loss='binary_crossentropy',\n",
        "              metrics=['accuracy'])\n",
        "\n",
        "# klasyfikacja wieloklasowa\n",
        "model.compile(optimizer='rmsprop',\n",
        "              loss='categorical_crossentropy',\n",
        "              metrics=['accuracy'])\n",
        "\n",
        "# regresja\n",
        "model.compile(optimizer='rmsprop',\n",
        "              loss='mse')"
      ],
      "execution_count": null,
      "outputs": []
    },
    {
      "cell_type": "markdown",
      "metadata": {
        "id": "TqsJw4K-knNP"
      },
      "source": [
        "### <a name='a3'></a>Trenowanie modelu\n",
        "Za dane wejściowe do modelu należy przekazać Numpy arrays:\n",
        "* **epochs** - krotność przejścia danych przez sieć w procesie uczenia\n",
        "* **batch_size** - rozmiar wsadu po którym następuje aktualizacja wag, domyślna wartość=32\n",
        "* **validation_split** - część danych treningowych, które zostaną wykorzystane jako zbiór walidacyjny; ustalony opcjonalnie, ale warto go dodać, bo widzimy jak nasz model działa na danych, których nie widział; domyślnie to wartość 0.2 oznacza, że będziemy mieć 20% danych przeznaczonych na zbiór walidacyjny\n",
        "* **validation_data** - (x_val, y_val) - dane wykorzystane do walidacji modelu"
      ]
    },
    {
      "cell_type": "code",
      "metadata": {
        "id": "HBn1AzzGkS2h"
      },
      "source": [
        "# model.fit(data, labels, epochs=10, batch_size=32)\n",
        "# model.fit(data, labels, epochs=10, batch_size=32, validation_split=0.2)\n",
        "# model.fit(data, labels, epochs=10, batch_size=32, validation_data=(x_val, y_val))"
      ],
      "execution_count": null,
      "outputs": []
    },
    {
      "cell_type": "markdown",
      "metadata": {
        "id": "8fmOZzNywvx6"
      },
      "source": [
        "### <a name='a4'></a> Przykład - klasyfikacja binarna"
      ]
    },
    {
      "cell_type": "code",
      "metadata": {
        "id": "gELP58XdwKSj",
        "colab": {
          "base_uri": "https://localhost:8080/"
        },
        "outputId": "06df69dd-d18a-4402-d288-8120d31925c1"
      },
      "source": [
        "data = np.random.randn(10000, 150) #10000 próbek i 150 danych niezależnych\n",
        "labels = np.random.randint(2, size=(10000, 1))\n",
        "\n",
        "print(data.shape)\n",
        "print(labels.shape)"
      ],
      "execution_count": null,
      "outputs": [
        {
          "output_type": "stream",
          "text": [
            "(10000, 150)\n",
            "(10000, 1)\n"
          ],
          "name": "stdout"
        }
      ]
    },
    {
      "cell_type": "code",
      "metadata": {
        "id": "B_ItRZ5EwcdR"
      },
      "source": [
        "data[:3]"
      ],
      "execution_count": null,
      "outputs": []
    },
    {
      "cell_type": "code",
      "metadata": {
        "id": "2AKkBXaZwmNq",
        "colab": {
          "base_uri": "https://localhost:8080/"
        },
        "outputId": "199cf725-cddf-4353-8b57-79b1ccc2a346"
      },
      "source": [
        "labels[:10]"
      ],
      "execution_count": null,
      "outputs": [
        {
          "output_type": "execute_result",
          "data": {
            "text/plain": [
              "array([[0],\n",
              "       [0],\n",
              "       [1],\n",
              "       [1],\n",
              "       [0],\n",
              "       [0],\n",
              "       [1],\n",
              "       [0],\n",
              "       [0],\n",
              "       [0]])"
            ]
          },
          "metadata": {
            "tags": []
          },
          "execution_count": 20
        }
      ]
    },
    {
      "cell_type": "code",
      "metadata": {
        "id": "3YmwwLjZwpvE",
        "colab": {
          "base_uri": "https://localhost:8080/"
        },
        "outputId": "4dc57c43-77de-43fa-a443-23bceed79737"
      },
      "source": [
        "model = Sequential() #budujemy instancję modelu\n",
        "model.add(Dense(units=32, activation='relu', input_shape=(150,))) #wrzucamy 1 warstwę z 32 neuronami\n",
        "model.add(Dense(1, activation='sigmoid')) #w ostatniej warstwie mamy 1 neuron; funkcja sigmoid zwróci nam prawdopodobieństwa klas\n",
        "\n",
        "model.compile(optimizer='rmsprop',    #kompilacja modelu\n",
        "              loss='binary_crossentropy',\n",
        "              metrics=['accuracy'])\n",
        "\n",
        "model.fit(data, labels, epochs=20) #dane przejdą 20 razy przez sieć"
      ],
      "execution_count": null,
      "outputs": [
        {
          "output_type": "stream",
          "text": [
            "Epoch 1/20\n",
            "313/313 [==============================] - 1s 1ms/step - loss: 0.7596 - accuracy: 0.4973\n",
            "Epoch 2/20\n",
            "313/313 [==============================] - 0s 1ms/step - loss: 0.6958 - accuracy: 0.5429\n",
            "Epoch 3/20\n",
            "313/313 [==============================] - 0s 1ms/step - loss: 0.6756 - accuracy: 0.5769\n",
            "Epoch 4/20\n",
            "313/313 [==============================] - 0s 1ms/step - loss: 0.6599 - accuracy: 0.6050\n",
            "Epoch 5/20\n",
            "313/313 [==============================] - 0s 1ms/step - loss: 0.6456 - accuracy: 0.6282\n",
            "Epoch 6/20\n",
            "313/313 [==============================] - 0s 1ms/step - loss: 0.6312 - accuracy: 0.6501\n",
            "Epoch 7/20\n",
            "313/313 [==============================] - 0s 1ms/step - loss: 0.6166 - accuracy: 0.6668\n",
            "Epoch 8/20\n",
            "313/313 [==============================] - 0s 1ms/step - loss: 0.6017 - accuracy: 0.6780\n",
            "Epoch 9/20\n",
            "313/313 [==============================] - 0s 1ms/step - loss: 0.5876 - accuracy: 0.6936\n",
            "Epoch 10/20\n",
            "313/313 [==============================] - 0s 1ms/step - loss: 0.5726 - accuracy: 0.7078\n",
            "Epoch 11/20\n",
            "313/313 [==============================] - 0s 1ms/step - loss: 0.5608 - accuracy: 0.7141\n",
            "Epoch 12/20\n",
            "313/313 [==============================] - 0s 1ms/step - loss: 0.5474 - accuracy: 0.7279\n",
            "Epoch 13/20\n",
            "313/313 [==============================] - 0s 1ms/step - loss: 0.5359 - accuracy: 0.7404\n",
            "Epoch 14/20\n",
            "313/313 [==============================] - 0s 1ms/step - loss: 0.5252 - accuracy: 0.7459\n",
            "Epoch 15/20\n",
            "313/313 [==============================] - 0s 1ms/step - loss: 0.5152 - accuracy: 0.7481\n",
            "Epoch 16/20\n",
            "313/313 [==============================] - 0s 1ms/step - loss: 0.5052 - accuracy: 0.7586\n",
            "Epoch 17/20\n",
            "313/313 [==============================] - 0s 1ms/step - loss: 0.4971 - accuracy: 0.7645\n",
            "Epoch 18/20\n",
            "313/313 [==============================] - 0s 1ms/step - loss: 0.4888 - accuracy: 0.7744\n",
            "Epoch 19/20\n",
            "313/313 [==============================] - 0s 1ms/step - loss: 0.4803 - accuracy: 0.7778\n",
            "Epoch 20/20\n",
            "313/313 [==============================] - 0s 1ms/step - loss: 0.4727 - accuracy: 0.7806\n"
          ],
          "name": "stdout"
        },
        {
          "output_type": "execute_result",
          "data": {
            "text/plain": [
              "<tensorflow.python.keras.callbacks.History at 0x7f4dbc73c150>"
            ]
          },
          "metadata": {
            "tags": []
          },
          "execution_count": 21
        }
      ]
    },
    {
      "cell_type": "code",
      "metadata": {
        "id": "5X_mtwLfy2d9",
        "colab": {
          "base_uri": "https://localhost:8080/"
        },
        "outputId": "65188f9c-e8e0-4eb7-b708-28fd03e538c8"
      },
      "source": [
        "model = Sequential()\n",
        "model.add(Dense(units=32, activation='relu', input_shape=(150,)))\n",
        "model.add(Dense(1, activation='sigmoid'))\n",
        "\n",
        "model.compile(optimizer='rmsprop',\n",
        "              loss='binary_crossentropy',\n",
        "              metrics=['accuracy'])\n",
        "\n",
        "model.fit(data, labels, epochs=20, batch_size=64) #dodajemy parametr batch_size, czyli liczba wsadów, czyli aktualizujemy wagi co 64 próbki, wcześniej był to domyślnie 32"
      ],
      "execution_count": null,
      "outputs": [
        {
          "output_type": "stream",
          "text": [
            "Epoch 1/20\n",
            "157/157 [==============================] - 1s 1ms/step - loss: 0.7598 - accuracy: 0.5086\n",
            "Epoch 2/20\n",
            "157/157 [==============================] - 0s 1ms/step - loss: 0.7008 - accuracy: 0.5403\n",
            "Epoch 3/20\n",
            "157/157 [==============================] - 0s 1ms/step - loss: 0.6813 - accuracy: 0.5659\n",
            "Epoch 4/20\n",
            "157/157 [==============================] - 0s 1ms/step - loss: 0.6682 - accuracy: 0.5881\n",
            "Epoch 5/20\n",
            "157/157 [==============================] - 0s 1ms/step - loss: 0.6561 - accuracy: 0.6059\n",
            "Epoch 6/20\n",
            "157/157 [==============================] - 0s 1ms/step - loss: 0.6455 - accuracy: 0.6246\n",
            "Epoch 7/20\n",
            "157/157 [==============================] - 0s 1ms/step - loss: 0.6346 - accuracy: 0.6455\n",
            "Epoch 8/20\n",
            "157/157 [==============================] - 0s 1ms/step - loss: 0.6235 - accuracy: 0.6555\n",
            "Epoch 9/20\n",
            "157/157 [==============================] - 0s 1ms/step - loss: 0.6134 - accuracy: 0.6683\n",
            "Epoch 10/20\n",
            "157/157 [==============================] - 0s 1ms/step - loss: 0.6036 - accuracy: 0.6852\n",
            "Epoch 11/20\n",
            "157/157 [==============================] - 0s 1ms/step - loss: 0.5926 - accuracy: 0.6921\n",
            "Epoch 12/20\n",
            "157/157 [==============================] - 0s 1ms/step - loss: 0.5833 - accuracy: 0.7008\n",
            "Epoch 13/20\n",
            "157/157 [==============================] - 0s 1ms/step - loss: 0.5738 - accuracy: 0.7111\n",
            "Epoch 14/20\n",
            "157/157 [==============================] - 0s 1ms/step - loss: 0.5650 - accuracy: 0.7165\n",
            "Epoch 15/20\n",
            "157/157 [==============================] - 0s 1ms/step - loss: 0.5562 - accuracy: 0.7183\n",
            "Epoch 16/20\n",
            "157/157 [==============================] - 0s 1ms/step - loss: 0.5479 - accuracy: 0.7271\n",
            "Epoch 17/20\n",
            "157/157 [==============================] - 0s 1ms/step - loss: 0.5395 - accuracy: 0.7341\n",
            "Epoch 18/20\n",
            "157/157 [==============================] - 0s 2ms/step - loss: 0.5314 - accuracy: 0.7393\n",
            "Epoch 19/20\n",
            "157/157 [==============================] - 0s 1ms/step - loss: 0.5240 - accuracy: 0.7444\n",
            "Epoch 20/20\n",
            "157/157 [==============================] - 0s 1ms/step - loss: 0.5170 - accuracy: 0.7485\n"
          ],
          "name": "stdout"
        },
        {
          "output_type": "execute_result",
          "data": {
            "text/plain": [
              "<tensorflow.python.keras.callbacks.History at 0x7f4dbbe0f9d0>"
            ]
          },
          "metadata": {
            "tags": []
          },
          "execution_count": 22
        }
      ]
    },
    {
      "cell_type": "code",
      "metadata": {
        "id": "xj5leE1dxK0-",
        "colab": {
          "base_uri": "https://localhost:8080/"
        },
        "outputId": "85514519-2ef7-4307-f4d9-357a3e040952"
      },
      "source": [
        "model = Sequential()\n",
        "model.add(Dense(units=32, activation='relu', input_shape=(150,)))\n",
        "model.add(Dense(1, activation='sigmoid'))\n",
        "\n",
        "model.compile(optimizer='rmsprop',\n",
        "              loss='binary_crossentropy',\n",
        "              metrics=['accuracy'])\n",
        "\n",
        "model.fit(data, labels, epochs=20, batch_size=32, validation_split=0.2) #dodajemy parametr validation_split\n",
        "#z poniższego wygenerowania widać, że accuracy na zbiorze treningowym się poprawia, ale na zbiorze walidacyjnym pogarsza"
      ],
      "execution_count": null,
      "outputs": [
        {
          "output_type": "stream",
          "text": [
            "Epoch 1/20\n",
            "250/250 [==============================] - 1s 2ms/step - loss: 0.7519 - accuracy: 0.5064 - val_loss: 0.7249 - val_accuracy: 0.5045\n",
            "Epoch 2/20\n",
            "250/250 [==============================] - 0s 2ms/step - loss: 0.6937 - accuracy: 0.5534 - val_loss: 0.7227 - val_accuracy: 0.4875\n",
            "Epoch 3/20\n",
            "250/250 [==============================] - 0s 2ms/step - loss: 0.6740 - accuracy: 0.5806 - val_loss: 0.7246 - val_accuracy: 0.4920\n",
            "Epoch 4/20\n",
            "250/250 [==============================] - 0s 2ms/step - loss: 0.6579 - accuracy: 0.6086 - val_loss: 0.7294 - val_accuracy: 0.5025\n",
            "Epoch 5/20\n",
            "250/250 [==============================] - 0s 2ms/step - loss: 0.6432 - accuracy: 0.6355 - val_loss: 0.7342 - val_accuracy: 0.4975\n",
            "Epoch 6/20\n",
            "250/250 [==============================] - 0s 2ms/step - loss: 0.6281 - accuracy: 0.6549 - val_loss: 0.7433 - val_accuracy: 0.4945\n",
            "Epoch 7/20\n",
            "250/250 [==============================] - 0s 2ms/step - loss: 0.6131 - accuracy: 0.6750 - val_loss: 0.7507 - val_accuracy: 0.4865\n",
            "Epoch 8/20\n",
            "250/250 [==============================] - 0s 2ms/step - loss: 0.5977 - accuracy: 0.6933 - val_loss: 0.7633 - val_accuracy: 0.4870\n",
            "Epoch 9/20\n",
            "250/250 [==============================] - 0s 2ms/step - loss: 0.5830 - accuracy: 0.7061 - val_loss: 0.7682 - val_accuracy: 0.4925\n",
            "Epoch 10/20\n",
            "250/250 [==============================] - 0s 2ms/step - loss: 0.5674 - accuracy: 0.7181 - val_loss: 0.7853 - val_accuracy: 0.4930\n",
            "Epoch 11/20\n",
            "250/250 [==============================] - 0s 2ms/step - loss: 0.5521 - accuracy: 0.7330 - val_loss: 0.8035 - val_accuracy: 0.4890\n",
            "Epoch 12/20\n",
            "250/250 [==============================] - 0s 2ms/step - loss: 0.5391 - accuracy: 0.7402 - val_loss: 0.8146 - val_accuracy: 0.4890\n",
            "Epoch 13/20\n",
            "250/250 [==============================] - 0s 2ms/step - loss: 0.5252 - accuracy: 0.7500 - val_loss: 0.8315 - val_accuracy: 0.4875\n",
            "Epoch 14/20\n",
            "250/250 [==============================] - 0s 2ms/step - loss: 0.5119 - accuracy: 0.7610 - val_loss: 0.8510 - val_accuracy: 0.4845\n",
            "Epoch 15/20\n",
            "250/250 [==============================] - 0s 2ms/step - loss: 0.4989 - accuracy: 0.7696 - val_loss: 0.8684 - val_accuracy: 0.4970\n",
            "Epoch 16/20\n",
            "250/250 [==============================] - 0s 2ms/step - loss: 0.4860 - accuracy: 0.7797 - val_loss: 0.8946 - val_accuracy: 0.4815\n",
            "Epoch 17/20\n",
            "250/250 [==============================] - 0s 2ms/step - loss: 0.4739 - accuracy: 0.7865 - val_loss: 0.9058 - val_accuracy: 0.4845\n",
            "Epoch 18/20\n",
            "250/250 [==============================] - 0s 2ms/step - loss: 0.4642 - accuracy: 0.7939 - val_loss: 0.9273 - val_accuracy: 0.4840\n",
            "Epoch 19/20\n",
            "250/250 [==============================] - 0s 2ms/step - loss: 0.4514 - accuracy: 0.7960 - val_loss: 0.9523 - val_accuracy: 0.4770\n",
            "Epoch 20/20\n",
            "250/250 [==============================] - 0s 2ms/step - loss: 0.4413 - accuracy: 0.8059 - val_loss: 0.9645 - val_accuracy: 0.4835\n"
          ],
          "name": "stdout"
        },
        {
          "output_type": "execute_result",
          "data": {
            "text/plain": [
              "<tensorflow.python.keras.callbacks.History at 0x7f4dbca41190>"
            ]
          },
          "metadata": {
            "tags": []
          },
          "execution_count": 23
        }
      ]
    },
    {
      "cell_type": "code",
      "metadata": {
        "id": "suJlatlYzQOD",
        "colab": {
          "base_uri": "https://localhost:8080/"
        },
        "outputId": "285fff8a-23a9-4c55-c027-b39f460dbb9c"
      },
      "source": [
        "model = Sequential()\n",
        "model.add(Dense(units=32, activation='relu', input_shape=(150,)))\n",
        "model.add(Dense(1, activation='sigmoid'))\n",
        "\n",
        "model.compile(optimizer='rmsprop',\n",
        "              loss='binary_crossentropy',\n",
        "              metrics=['accuracy'])\n",
        "\n",
        "history = model.fit(data, labels, epochs=20, batch_size=32, validation_split=0.2, verbose=0) #dodanie parametru verbose-pozwala na wyświetlenie finalnego tekstu\n",
        "history "
      ],
      "execution_count": null,
      "outputs": [
        {
          "output_type": "execute_result",
          "data": {
            "text/plain": [
              "<tensorflow.python.keras.callbacks.History at 0x7f4dbbeb07d0>"
            ]
          },
          "metadata": {
            "tags": []
          },
          "execution_count": 25
        }
      ]
    },
    {
      "cell_type": "code",
      "metadata": {
        "id": "InFcS0sgzkf6",
        "colab": {
          "base_uri": "https://localhost:8080/"
        },
        "outputId": "a01d1a40-627d-49d8-8164-e96d8a157612"
      },
      "source": [
        "metrics = history.history\n",
        "metrics.keys()"
      ],
      "execution_count": null,
      "outputs": [
        {
          "output_type": "execute_result",
          "data": {
            "text/plain": [
              "dict_keys(['loss', 'accuracy', 'val_loss', 'val_accuracy'])"
            ]
          },
          "metadata": {
            "tags": []
          },
          "execution_count": 26
        }
      ]
    },
    {
      "cell_type": "code",
      "metadata": {
        "id": "d9bUtGmXzzoY",
        "colab": {
          "base_uri": "https://localhost:8080/"
        },
        "outputId": "7d52f5ea-8e90-4c34-d5e0-f4eb3feb0e01"
      },
      "source": [
        "model = Sequential()\n",
        "model.add(Dense(units=32, activation='relu', input_shape=(150,)))\n",
        "model.add(Dense(1, activation='sigmoid'))\n",
        "\n",
        "model.compile(optimizer='rmsprop',\n",
        "              loss='binary_crossentropy',\n",
        "              metrics=['accuracy'])\n",
        "\n",
        "history = model.fit(data, labels, epochs=20, batch_size=32, validation_split=0.2, verbose=1) #użycie parametru verbose=1"
      ],
      "execution_count": null,
      "outputs": [
        {
          "output_type": "stream",
          "text": [
            "Epoch 1/20\n",
            "250/250 [==============================] - 1s 2ms/step - loss: 0.7385 - accuracy: 0.5036 - val_loss: 0.7269 - val_accuracy: 0.4925\n",
            "Epoch 2/20\n",
            "250/250 [==============================] - 0s 2ms/step - loss: 0.6939 - accuracy: 0.5501 - val_loss: 0.7227 - val_accuracy: 0.4865\n",
            "Epoch 3/20\n",
            "250/250 [==============================] - 0s 2ms/step - loss: 0.6766 - accuracy: 0.5781 - val_loss: 0.7239 - val_accuracy: 0.4895\n",
            "Epoch 4/20\n",
            "250/250 [==============================] - 0s 2ms/step - loss: 0.6624 - accuracy: 0.5991 - val_loss: 0.7281 - val_accuracy: 0.4875\n",
            "Epoch 5/20\n",
            "250/250 [==============================] - 0s 2ms/step - loss: 0.6492 - accuracy: 0.6216 - val_loss: 0.7311 - val_accuracy: 0.4860\n",
            "Epoch 6/20\n",
            "250/250 [==============================] - 0s 2ms/step - loss: 0.6356 - accuracy: 0.6440 - val_loss: 0.7391 - val_accuracy: 0.4820\n",
            "Epoch 7/20\n",
            "250/250 [==============================] - 0s 2ms/step - loss: 0.6209 - accuracy: 0.6647 - val_loss: 0.7470 - val_accuracy: 0.4830\n",
            "Epoch 8/20\n",
            "250/250 [==============================] - 0s 1ms/step - loss: 0.6056 - accuracy: 0.6833 - val_loss: 0.7585 - val_accuracy: 0.4835\n",
            "Epoch 9/20\n",
            "250/250 [==============================] - 0s 2ms/step - loss: 0.5894 - accuracy: 0.6985 - val_loss: 0.7668 - val_accuracy: 0.4915\n",
            "Epoch 10/20\n",
            "250/250 [==============================] - 0s 2ms/step - loss: 0.5734 - accuracy: 0.7161 - val_loss: 0.7797 - val_accuracy: 0.4910\n",
            "Epoch 11/20\n",
            "250/250 [==============================] - 0s 2ms/step - loss: 0.5576 - accuracy: 0.7260 - val_loss: 0.7968 - val_accuracy: 0.4845\n",
            "Epoch 12/20\n",
            "250/250 [==============================] - 0s 2ms/step - loss: 0.5427 - accuracy: 0.7380 - val_loss: 0.8057 - val_accuracy: 0.5000\n",
            "Epoch 13/20\n",
            "250/250 [==============================] - 0s 2ms/step - loss: 0.5270 - accuracy: 0.7552 - val_loss: 0.8253 - val_accuracy: 0.4965\n",
            "Epoch 14/20\n",
            "250/250 [==============================] - 0s 2ms/step - loss: 0.5135 - accuracy: 0.7623 - val_loss: 0.8429 - val_accuracy: 0.5030\n",
            "Epoch 15/20\n",
            "250/250 [==============================] - 0s 2ms/step - loss: 0.5000 - accuracy: 0.7753 - val_loss: 0.8637 - val_accuracy: 0.5005\n",
            "Epoch 16/20\n",
            "250/250 [==============================] - 0s 2ms/step - loss: 0.4866 - accuracy: 0.7785 - val_loss: 0.8807 - val_accuracy: 0.4935\n",
            "Epoch 17/20\n",
            "250/250 [==============================] - 0s 2ms/step - loss: 0.4745 - accuracy: 0.7887 - val_loss: 0.8914 - val_accuracy: 0.5035\n",
            "Epoch 18/20\n",
            "250/250 [==============================] - 0s 2ms/step - loss: 0.4633 - accuracy: 0.7943 - val_loss: 0.9094 - val_accuracy: 0.5030\n",
            "Epoch 19/20\n",
            "250/250 [==============================] - 0s 2ms/step - loss: 0.4510 - accuracy: 0.7993 - val_loss: 0.9298 - val_accuracy: 0.5055\n",
            "Epoch 20/20\n",
            "250/250 [==============================] - 0s 2ms/step - loss: 0.4422 - accuracy: 0.8086 - val_loss: 0.9543 - val_accuracy: 0.4975\n"
          ],
          "name": "stdout"
        }
      ]
    },
    {
      "cell_type": "code",
      "metadata": {
        "id": "b1xtUueg0Tr9"
      },
      "source": [
        "test_data = np.random.randn(5, 150)\n",
        "test_labels = np.random.randint(2, size=(5, 1))"
      ],
      "execution_count": null,
      "outputs": []
    },
    {
      "cell_type": "code",
      "metadata": {
        "id": "MIODWVx90nDf",
        "colab": {
          "base_uri": "https://localhost:8080/"
        },
        "outputId": "777bc204-0b24-4806-eae8-61d1de6b6bf0"
      },
      "source": [
        "model.predict(test_data) #funkcja predict pokazuje nam prawdopodobieństwo danej klasy i w zależności, czy prawdopod. jest bliżej 1, czy 0, to przypisujemy tę klasę"
      ],
      "execution_count": null,
      "outputs": [
        {
          "output_type": "execute_result",
          "data": {
            "text/plain": [
              "array([[0.78603625],\n",
              "       [0.38159966],\n",
              "       [0.8606045 ],\n",
              "       [0.24683797],\n",
              "       [0.10432845]], dtype=float32)"
            ]
          },
          "metadata": {
            "tags": []
          },
          "execution_count": 29
        }
      ]
    },
    {
      "cell_type": "code",
      "metadata": {
        "id": "Pkv50Web0usG",
        "colab": {
          "base_uri": "https://localhost:8080/"
        },
        "outputId": "b28378c1-10c4-460a-a9da-adba71a12d01"
      },
      "source": [
        "model.predict_proba(test_data) #identyczna funkcja do powyższej"
      ],
      "execution_count": null,
      "outputs": [
        {
          "output_type": "stream",
          "text": [
            "/usr/local/lib/python3.7/dist-packages/tensorflow/python/keras/engine/sequential.py:430: UserWarning:\n",
            "\n",
            "`model.predict_proba()` is deprecated and will be removed after 2021-01-01. Please use `model.predict()` instead.\n",
            "\n"
          ],
          "name": "stderr"
        },
        {
          "output_type": "execute_result",
          "data": {
            "text/plain": [
              "array([[0.78603625],\n",
              "       [0.38159966],\n",
              "       [0.8606045 ],\n",
              "       [0.24683797],\n",
              "       [0.10432845]], dtype=float32)"
            ]
          },
          "metadata": {
            "tags": []
          },
          "execution_count": 30
        }
      ]
    },
    {
      "cell_type": "code",
      "metadata": {
        "id": "c142k6Ev14k5",
        "colab": {
          "base_uri": "https://localhost:8080/"
        },
        "outputId": "b4de9429-3e2d-4792-cf5c-423de4eb88a4"
      },
      "source": [
        "model.predict_classes(test_data) #zwraca konkretne klasy"
      ],
      "execution_count": null,
      "outputs": [
        {
          "output_type": "stream",
          "text": [
            "/usr/local/lib/python3.7/dist-packages/tensorflow/python/keras/engine/sequential.py:455: UserWarning:\n",
            "\n",
            "`model.predict_classes()` is deprecated and will be removed after 2021-01-01. Please use instead:* `np.argmax(model.predict(x), axis=-1)`,   if your model does multi-class classification   (e.g. if it uses a `softmax` last-layer activation).* `(model.predict(x) > 0.5).astype(\"int32\")`,   if your model does binary classification   (e.g. if it uses a `sigmoid` last-layer activation).\n",
            "\n"
          ],
          "name": "stderr"
        },
        {
          "output_type": "execute_result",
          "data": {
            "text/plain": [
              "array([[1],\n",
              "       [0],\n",
              "       [1],\n",
              "       [0],\n",
              "       [0]], dtype=int32)"
            ]
          },
          "metadata": {
            "tags": []
          },
          "execution_count": 31
        }
      ]
    },
    {
      "cell_type": "markdown",
      "metadata": {
        "id": "AZymszuI28k-"
      },
      "source": [
        "### <a name='a5'></a> Przykład - klasyfikacja wieloklasowa"
      ]
    },
    {
      "cell_type": "code",
      "metadata": {
        "id": "tWIc_gVG2-_L"
      },
      "source": [
        "data = np.random.random((10000, 150))\n",
        "labels = np.random.randint(10, size=(10000, 1))"
      ],
      "execution_count": null,
      "outputs": []
    },
    {
      "cell_type": "code",
      "metadata": {
        "id": "fnKrv8Mk3HSs",
        "colab": {
          "base_uri": "https://localhost:8080/"
        },
        "outputId": "2360dac5-2759-4536-c740-2b433a66a487"
      },
      "source": [
        "print(data.shape)\n",
        "print(labels.shape)"
      ],
      "execution_count": null,
      "outputs": [
        {
          "output_type": "stream",
          "text": [
            "(10000, 150)\n",
            "(10000, 1)\n"
          ],
          "name": "stdout"
        }
      ]
    },
    {
      "cell_type": "code",
      "metadata": {
        "id": "q92xaMuj5Ncx",
        "colab": {
          "base_uri": "https://localhost:8080/"
        },
        "outputId": "37b7f632-e0fc-420c-d32f-9566c8b24d7f"
      },
      "source": [
        "labels[:10]"
      ],
      "execution_count": null,
      "outputs": [
        {
          "output_type": "execute_result",
          "data": {
            "text/plain": [
              "array([[7],\n",
              "       [9],\n",
              "       [5],\n",
              "       [8],\n",
              "       [0],\n",
              "       [7],\n",
              "       [7],\n",
              "       [0],\n",
              "       [8],\n",
              "       [1]])"
            ]
          },
          "metadata": {
            "tags": []
          },
          "execution_count": 34
        }
      ]
    },
    {
      "cell_type": "code",
      "metadata": {
        "id": "llauNV3D3OFK",
        "colab": {
          "base_uri": "https://localhost:8080/"
        },
        "outputId": "9506cdf9-fd23-4eb1-bbe9-2823b74f650e"
      },
      "source": [
        "from tensorflow.keras.utils import to_categorical #funkcja, która konwertuje klasy do tablicy numpy; wartość 1 będzie pojawiać się na miejscu w zależności od powyższej klasy labels\n",
        "labels = to_categorical(labels, num_classes=10)\n",
        "labels"
      ],
      "execution_count": null,
      "outputs": [
        {
          "output_type": "execute_result",
          "data": {
            "text/plain": [
              "array([[0., 0., 0., ..., 1., 0., 0.],\n",
              "       [0., 0., 0., ..., 0., 0., 1.],\n",
              "       [0., 0., 0., ..., 0., 0., 0.],\n",
              "       ...,\n",
              "       [0., 0., 0., ..., 0., 0., 0.],\n",
              "       [0., 1., 0., ..., 0., 0., 0.],\n",
              "       [0., 1., 0., ..., 0., 0., 0.]], dtype=float32)"
            ]
          },
          "metadata": {
            "tags": []
          },
          "execution_count": 35
        }
      ]
    },
    {
      "cell_type": "code",
      "metadata": {
        "id": "vORrZXRz7HUp",
        "colab": {
          "base_uri": "https://localhost:8080/"
        },
        "outputId": "e8c52e2b-08ce-4f1d-fed7-d4ae83139112"
      },
      "source": [
        "labels[1]"
      ],
      "execution_count": null,
      "outputs": [
        {
          "output_type": "execute_result",
          "data": {
            "text/plain": [
              "array([0., 0., 0., 0., 0., 0., 0., 0., 0., 1.], dtype=float32)"
            ]
          },
          "metadata": {
            "tags": []
          },
          "execution_count": 36
        }
      ]
    },
    {
      "cell_type": "code",
      "metadata": {
        "id": "k03Mdkup5yZ1",
        "colab": {
          "base_uri": "https://localhost:8080/"
        },
        "outputId": "48ba4341-52dd-4944-ab3b-b7f34036015f"
      },
      "source": [
        "model = Sequential()\n",
        "model.add(Dense(units=32, activation='relu', input_shape=(150,)))\n",
        "model.add(Dense(units=10, activation='softmax')) #dodajemy tyle neuronów, ile mamy klas\n",
        "\n",
        "model.compile(optimizer='rmsprop',\n",
        "              loss='categorical_crossentropy',\n",
        "              metrics=['accuracy'])\n",
        "\n",
        "model.fit(data, labels, batch_size=32, epochs=30, validation_split=0.2)"
      ],
      "execution_count": null,
      "outputs": [
        {
          "output_type": "stream",
          "text": [
            "Epoch 1/30\n",
            "250/250 [==============================] - 1s 2ms/step - loss: 2.3178 - accuracy: 0.1021 - val_loss: 2.3028 - val_accuracy: 0.1115\n",
            "Epoch 2/30\n",
            "250/250 [==============================] - 0s 2ms/step - loss: 2.3038 - accuracy: 0.1131 - val_loss: 2.3025 - val_accuracy: 0.1085\n",
            "Epoch 3/30\n",
            "250/250 [==============================] - 0s 2ms/step - loss: 2.3014 - accuracy: 0.1139 - val_loss: 2.3050 - val_accuracy: 0.1070\n",
            "Epoch 4/30\n",
            "250/250 [==============================] - 0s 2ms/step - loss: 2.2999 - accuracy: 0.1154 - val_loss: 2.3074 - val_accuracy: 0.1020\n",
            "Epoch 5/30\n",
            "250/250 [==============================] - 0s 2ms/step - loss: 2.2980 - accuracy: 0.1160 - val_loss: 2.3072 - val_accuracy: 0.1085\n",
            "Epoch 6/30\n",
            "250/250 [==============================] - 0s 2ms/step - loss: 2.2964 - accuracy: 0.1192 - val_loss: 2.3124 - val_accuracy: 0.1145\n",
            "Epoch 7/30\n",
            "250/250 [==============================] - 0s 2ms/step - loss: 2.2947 - accuracy: 0.1186 - val_loss: 2.3110 - val_accuracy: 0.1190\n",
            "Epoch 8/30\n",
            "250/250 [==============================] - 0s 2ms/step - loss: 2.2921 - accuracy: 0.1256 - val_loss: 2.3118 - val_accuracy: 0.1030\n",
            "Epoch 9/30\n",
            "250/250 [==============================] - 0s 1ms/step - loss: 2.2902 - accuracy: 0.1233 - val_loss: 2.3126 - val_accuracy: 0.1185\n",
            "Epoch 10/30\n",
            "250/250 [==============================] - 0s 2ms/step - loss: 2.2875 - accuracy: 0.1270 - val_loss: 2.3088 - val_accuracy: 0.1070\n",
            "Epoch 11/30\n",
            "250/250 [==============================] - 0s 2ms/step - loss: 2.2847 - accuracy: 0.1281 - val_loss: 2.3119 - val_accuracy: 0.1135\n",
            "Epoch 12/30\n",
            "250/250 [==============================] - 0s 2ms/step - loss: 2.2819 - accuracy: 0.1311 - val_loss: 2.3116 - val_accuracy: 0.1135\n",
            "Epoch 13/30\n",
            "250/250 [==============================] - 0s 2ms/step - loss: 2.2785 - accuracy: 0.1304 - val_loss: 2.3135 - val_accuracy: 0.1065\n",
            "Epoch 14/30\n",
            "250/250 [==============================] - 0s 2ms/step - loss: 2.2751 - accuracy: 0.1370 - val_loss: 2.3163 - val_accuracy: 0.1115\n",
            "Epoch 15/30\n",
            "250/250 [==============================] - 0s 2ms/step - loss: 2.2715 - accuracy: 0.1375 - val_loss: 2.3177 - val_accuracy: 0.1050\n",
            "Epoch 16/30\n",
            "250/250 [==============================] - 0s 2ms/step - loss: 2.2686 - accuracy: 0.1375 - val_loss: 2.3328 - val_accuracy: 0.1035\n",
            "Epoch 17/30\n",
            "250/250 [==============================] - 0s 2ms/step - loss: 2.2644 - accuracy: 0.1392 - val_loss: 2.3267 - val_accuracy: 0.1130\n",
            "Epoch 18/30\n",
            "250/250 [==============================] - 0s 2ms/step - loss: 2.2608 - accuracy: 0.1431 - val_loss: 2.3258 - val_accuracy: 0.1005\n",
            "Epoch 19/30\n",
            "250/250 [==============================] - 0s 2ms/step - loss: 2.2578 - accuracy: 0.1459 - val_loss: 2.3277 - val_accuracy: 0.1045\n",
            "Epoch 20/30\n",
            "250/250 [==============================] - 0s 2ms/step - loss: 2.2536 - accuracy: 0.1472 - val_loss: 2.3350 - val_accuracy: 0.1045\n",
            "Epoch 21/30\n",
            "250/250 [==============================] - 0s 1ms/step - loss: 2.2503 - accuracy: 0.1517 - val_loss: 2.3508 - val_accuracy: 0.1015\n",
            "Epoch 22/30\n",
            "250/250 [==============================] - 0s 2ms/step - loss: 2.2468 - accuracy: 0.1484 - val_loss: 2.3458 - val_accuracy: 0.1010\n",
            "Epoch 23/30\n",
            "250/250 [==============================] - 0s 2ms/step - loss: 2.2442 - accuracy: 0.1510 - val_loss: 2.3369 - val_accuracy: 0.1095\n",
            "Epoch 24/30\n",
            "250/250 [==============================] - 0s 2ms/step - loss: 2.2413 - accuracy: 0.1562 - val_loss: 2.3449 - val_accuracy: 0.1095\n",
            "Epoch 25/30\n",
            "250/250 [==============================] - 0s 2ms/step - loss: 2.2382 - accuracy: 0.1544 - val_loss: 2.3394 - val_accuracy: 0.1020\n",
            "Epoch 26/30\n",
            "250/250 [==============================] - 0s 2ms/step - loss: 2.2341 - accuracy: 0.1580 - val_loss: 2.3417 - val_accuracy: 0.0990\n",
            "Epoch 27/30\n",
            "250/250 [==============================] - 0s 2ms/step - loss: 2.2313 - accuracy: 0.1544 - val_loss: 2.3645 - val_accuracy: 0.1020\n",
            "Epoch 28/30\n",
            "250/250 [==============================] - 0s 2ms/step - loss: 2.2280 - accuracy: 0.1628 - val_loss: 2.3636 - val_accuracy: 0.1040\n",
            "Epoch 29/30\n",
            "250/250 [==============================] - 0s 1ms/step - loss: 2.2254 - accuracy: 0.1601 - val_loss: 2.3728 - val_accuracy: 0.0985\n",
            "Epoch 30/30\n",
            "250/250 [==============================] - 0s 2ms/step - loss: 2.2223 - accuracy: 0.1653 - val_loss: 2.3668 - val_accuracy: 0.0990\n"
          ],
          "name": "stdout"
        },
        {
          "output_type": "execute_result",
          "data": {
            "text/plain": [
              "<tensorflow.python.keras.callbacks.History at 0x7f4dbcda4a90>"
            ]
          },
          "metadata": {
            "tags": []
          },
          "execution_count": 37
        }
      ]
    },
    {
      "cell_type": "code",
      "metadata": {
        "id": "apTq9u_O63vu",
        "colab": {
          "base_uri": "https://localhost:8080/"
        },
        "outputId": "8c9f2959-5c64-41b9-b794-7fd19cab54bc"
      },
      "source": [
        "test_data = np.random.random((10, 150))\n",
        "\n",
        "model.predict(test_data) #tam, gdzie prawdopodobieństwo będzie maksymalne, tam będzie nasza etykieta"
      ],
      "execution_count": null,
      "outputs": [
        {
          "output_type": "execute_result",
          "data": {
            "text/plain": [
              "array([[0.06440148, 0.05232339, 0.12625988, 0.12429369, 0.08980099,\n",
              "        0.10967834, 0.13849577, 0.11009382, 0.09001628, 0.09463636],\n",
              "       [0.11406983, 0.10864137, 0.10551243, 0.11036746, 0.09602603,\n",
              "        0.06573106, 0.11372243, 0.09847464, 0.1092097 , 0.07824507],\n",
              "       [0.16929969, 0.1948275 , 0.10558943, 0.11020967, 0.04946987,\n",
              "        0.0525309 , 0.08560979, 0.08562473, 0.07357266, 0.07326572],\n",
              "       [0.12289037, 0.07078976, 0.11899021, 0.05263653, 0.08295916,\n",
              "        0.15647534, 0.08808529, 0.06708514, 0.1357374 , 0.10435077],\n",
              "       [0.1535669 , 0.1412117 , 0.09607241, 0.07167321, 0.09187589,\n",
              "        0.1234692 , 0.08570006, 0.14989997, 0.03326533, 0.05326533],\n",
              "       [0.1046429 , 0.08695292, 0.13640529, 0.11639301, 0.06385175,\n",
              "        0.09680387, 0.10870943, 0.11176197, 0.07263844, 0.10184035],\n",
              "       [0.05852167, 0.10281017, 0.10081221, 0.14451665, 0.10252757,\n",
              "        0.04582871, 0.19748726, 0.08656445, 0.13065286, 0.0302784 ],\n",
              "       [0.07701448, 0.10776655, 0.06642317, 0.15302482, 0.11471773,\n",
              "        0.05834727, 0.13478564, 0.04435637, 0.17010953, 0.07345438],\n",
              "       [0.0940169 , 0.09911251, 0.12764408, 0.14516018, 0.07818139,\n",
              "        0.05477703, 0.1898056 , 0.07636702, 0.11050079, 0.02443453],\n",
              "       [0.10886914, 0.10624894, 0.09778123, 0.10525205, 0.09471098,\n",
              "        0.0906864 , 0.09146574, 0.09730598, 0.09882581, 0.10885366]],\n",
              "      dtype=float32)"
            ]
          },
          "metadata": {
            "tags": []
          },
          "execution_count": 38
        }
      ]
    },
    {
      "cell_type": "code",
      "metadata": {
        "id": "Pd6vGftg8SHk",
        "colab": {
          "base_uri": "https://localhost:8080/"
        },
        "outputId": "70830c14-f1a8-4e7f-f24b-e1d9bb6d4134"
      },
      "source": [
        "model.predict_classes(test_data) "
      ],
      "execution_count": null,
      "outputs": [
        {
          "output_type": "stream",
          "text": [
            "/usr/local/lib/python3.7/dist-packages/tensorflow/python/keras/engine/sequential.py:455: UserWarning:\n",
            "\n",
            "`model.predict_classes()` is deprecated and will be removed after 2021-01-01. Please use instead:* `np.argmax(model.predict(x), axis=-1)`,   if your model does multi-class classification   (e.g. if it uses a `softmax` last-layer activation).* `(model.predict(x) > 0.5).astype(\"int32\")`,   if your model does binary classification   (e.g. if it uses a `sigmoid` last-layer activation).\n",
            "\n"
          ],
          "name": "stderr"
        },
        {
          "output_type": "execute_result",
          "data": {
            "text/plain": [
              "array([6, 0, 1, 5, 0, 2, 6, 8, 6, 0])"
            ]
          },
          "metadata": {
            "tags": []
          },
          "execution_count": 39
        }
      ]
    },
    {
      "cell_type": "markdown",
      "metadata": {
        "id": "FZuyR0UW8fP2"
      },
      "source": [
        "### <a name='a6'></a> Przykład - regresja"
      ]
    },
    {
      "cell_type": "code",
      "metadata": {
        "id": "Uj04-RVU8WNh"
      },
      "source": [
        "data = np.random.random((10000, 150))\n",
        "labels = 50 * np.random.random(10000)"
      ],
      "execution_count": null,
      "outputs": []
    },
    {
      "cell_type": "code",
      "metadata": {
        "id": "G9T_X5kr8qht",
        "colab": {
          "base_uri": "https://localhost:8080/"
        },
        "outputId": "89c6ae18-1e3b-4860-ac4b-57547f10fc6b"
      },
      "source": [
        "labels[:10]"
      ],
      "execution_count": null,
      "outputs": [
        {
          "output_type": "execute_result",
          "data": {
            "text/plain": [
              "array([18.70666695, 19.88601801, 45.7715002 , 44.70766776, 14.43237131,\n",
              "        8.97566539,  5.59726128, 34.41694501, 40.45244519, 26.87133692])"
            ]
          },
          "metadata": {
            "tags": []
          },
          "execution_count": 41
        }
      ]
    },
    {
      "cell_type": "code",
      "metadata": {
        "id": "M3MEGPvy8rqz",
        "colab": {
          "base_uri": "https://localhost:8080/"
        },
        "outputId": "83f0c13e-f48d-4648-f63e-62a21ade0f41"
      },
      "source": [
        "model = Sequential()\n",
        "model.add(Dense(units=32, activation='relu', input_shape=(150,)))\n",
        "model.add(Dense(units=1))\n",
        "\n",
        "model.compile(optimizer='rmsprop',\n",
        "              loss='mse') #funkcja straty średniogo błędu kwadratowego\n",
        "\n",
        "model.fit(data, labels, epochs=30, batch_size=32, validation_split=0.2)"
      ],
      "execution_count": null,
      "outputs": [
        {
          "output_type": "stream",
          "text": [
            "Epoch 1/30\n",
            "250/250 [==============================] - 1s 2ms/step - loss: 263.7690 - val_loss: 208.7705\n",
            "Epoch 2/30\n",
            "250/250 [==============================] - 0s 2ms/step - loss: 213.9843 - val_loss: 208.1279\n",
            "Epoch 3/30\n",
            "250/250 [==============================] - 0s 1ms/step - loss: 213.1751 - val_loss: 208.8020\n",
            "Epoch 4/30\n",
            "250/250 [==============================] - 0s 1ms/step - loss: 213.2284 - val_loss: 208.1775\n",
            "Epoch 5/30\n",
            "250/250 [==============================] - 0s 1ms/step - loss: 212.6748 - val_loss: 208.2425\n",
            "Epoch 6/30\n",
            "250/250 [==============================] - 0s 2ms/step - loss: 212.4041 - val_loss: 208.3155\n",
            "Epoch 7/30\n",
            "250/250 [==============================] - 0s 1ms/step - loss: 212.1641 - val_loss: 208.5758\n",
            "Epoch 8/30\n",
            "250/250 [==============================] - 0s 1ms/step - loss: 211.9721 - val_loss: 208.8905\n",
            "Epoch 9/30\n",
            "250/250 [==============================] - 0s 1ms/step - loss: 211.9179 - val_loss: 208.5942\n",
            "Epoch 10/30\n",
            "250/250 [==============================] - 0s 1ms/step - loss: 211.6381 - val_loss: 208.8983\n",
            "Epoch 11/30\n",
            "250/250 [==============================] - 0s 1ms/step - loss: 211.6371 - val_loss: 208.7967\n",
            "Epoch 12/30\n",
            "250/250 [==============================] - 0s 1ms/step - loss: 211.3156 - val_loss: 209.1157\n",
            "Epoch 13/30\n",
            "250/250 [==============================] - 0s 2ms/step - loss: 211.0685 - val_loss: 209.0437\n",
            "Epoch 14/30\n",
            "250/250 [==============================] - 0s 1ms/step - loss: 210.8648 - val_loss: 214.4817\n",
            "Epoch 15/30\n",
            "250/250 [==============================] - 0s 1ms/step - loss: 210.9575 - val_loss: 209.3981\n",
            "Epoch 16/30\n",
            "250/250 [==============================] - 0s 1ms/step - loss: 210.6287 - val_loss: 212.9765\n",
            "Epoch 17/30\n",
            "250/250 [==============================] - 0s 2ms/step - loss: 210.7570 - val_loss: 210.1570\n",
            "Epoch 18/30\n",
            "250/250 [==============================] - 0s 1ms/step - loss: 210.4296 - val_loss: 215.2691\n",
            "Epoch 19/30\n",
            "250/250 [==============================] - 0s 2ms/step - loss: 210.6685 - val_loss: 209.8226\n",
            "Epoch 20/30\n",
            "250/250 [==============================] - 0s 1ms/step - loss: 210.6710 - val_loss: 210.9062\n",
            "Epoch 21/30\n",
            "250/250 [==============================] - 0s 1ms/step - loss: 210.4234 - val_loss: 210.7555\n",
            "Epoch 22/30\n",
            "250/250 [==============================] - 0s 1ms/step - loss: 210.6471 - val_loss: 210.1113\n",
            "Epoch 23/30\n",
            "250/250 [==============================] - 0s 1ms/step - loss: 210.5098 - val_loss: 210.1226\n",
            "Epoch 24/30\n",
            "250/250 [==============================] - 0s 2ms/step - loss: 210.6475 - val_loss: 210.5971\n",
            "Epoch 25/30\n",
            "250/250 [==============================] - 0s 1ms/step - loss: 210.4571 - val_loss: 210.4543\n",
            "Epoch 26/30\n",
            "250/250 [==============================] - 0s 2ms/step - loss: 210.3989 - val_loss: 211.3717\n",
            "Epoch 27/30\n",
            "250/250 [==============================] - 0s 2ms/step - loss: 210.4368 - val_loss: 210.9184\n",
            "Epoch 28/30\n",
            "250/250 [==============================] - 0s 2ms/step - loss: 210.5783 - val_loss: 210.5731\n",
            "Epoch 29/30\n",
            "250/250 [==============================] - 0s 2ms/step - loss: 210.5443 - val_loss: 210.6475\n",
            "Epoch 30/30\n",
            "250/250 [==============================] - 0s 1ms/step - loss: 210.2298 - val_loss: 211.3971\n"
          ],
          "name": "stdout"
        },
        {
          "output_type": "execute_result",
          "data": {
            "text/plain": [
              "<tensorflow.python.keras.callbacks.History at 0x7f4db3730c50>"
            ]
          },
          "metadata": {
            "tags": []
          },
          "execution_count": 42
        }
      ]
    },
    {
      "cell_type": "code",
      "metadata": {
        "id": "jLUGCiun-ePp",
        "colab": {
          "base_uri": "https://localhost:8080/"
        },
        "outputId": "51e482fc-a260-48e4-8d1d-bdaf854339e9"
      },
      "source": [
        "model = Sequential()\n",
        "model.add(Dense(units=32, activation='relu', input_shape=(150,)))\n",
        "model.add(Dense(units=1))\n",
        "\n",
        "model.compile(optimizer='rmsprop',\n",
        "              loss='mae',\n",
        "              metrics=['mse'])\n",
        "\n",
        "model.fit(data, labels, epochs=10, batch_size=32, validation_split=0.2)"
      ],
      "execution_count": null,
      "outputs": [
        {
          "output_type": "stream",
          "text": [
            "Epoch 1/10\n",
            "250/250 [==============================] - 1s 2ms/step - loss: 13.9038 - mse: 276.5324 - val_loss: 12.5858 - val_mse: 209.3413\n",
            "Epoch 2/10\n",
            "250/250 [==============================] - 0s 2ms/step - loss: 12.6751 - mse: 213.9536 - val_loss: 12.5834 - val_mse: 208.7541\n",
            "Epoch 3/10\n",
            "250/250 [==============================] - 0s 2ms/step - loss: 12.6542 - mse: 213.6176 - val_loss: 12.6372 - val_mse: 213.1251\n",
            "Epoch 4/10\n",
            "250/250 [==============================] - 0s 1ms/step - loss: 12.6605 - mse: 213.6947 - val_loss: 12.5974 - val_mse: 209.0888\n",
            "Epoch 5/10\n",
            "250/250 [==============================] - 0s 1ms/step - loss: 12.6371 - mse: 213.2295 - val_loss: 12.5894 - val_mse: 209.7487\n",
            "Epoch 6/10\n",
            "250/250 [==============================] - 0s 2ms/step - loss: 12.6381 - mse: 212.8197 - val_loss: 12.5930 - val_mse: 209.3206\n",
            "Epoch 7/10\n",
            "250/250 [==============================] - 0s 1ms/step - loss: 12.6139 - mse: 212.8222 - val_loss: 12.6147 - val_mse: 209.7243\n",
            "Epoch 8/10\n",
            "250/250 [==============================] - 0s 2ms/step - loss: 12.5966 - mse: 212.4595 - val_loss: 12.6020 - val_mse: 209.5487\n",
            "Epoch 9/10\n",
            "250/250 [==============================] - 0s 1ms/step - loss: 12.5908 - mse: 212.2599 - val_loss: 12.6025 - val_mse: 209.5408\n",
            "Epoch 10/10\n",
            "250/250 [==============================] - 0s 1ms/step - loss: 12.5798 - mse: 211.8998 - val_loss: 12.6040 - val_mse: 210.1413\n"
          ],
          "name": "stdout"
        },
        {
          "output_type": "execute_result",
          "data": {
            "text/plain": [
              "<tensorflow.python.keras.callbacks.History at 0x7f4db2df5790>"
            ]
          },
          "metadata": {
            "tags": []
          },
          "execution_count": 43
        }
      ]
    },
    {
      "cell_type": "code",
      "metadata": {
        "id": "0T9od2mo9KAF",
        "colab": {
          "base_uri": "https://localhost:8080/"
        },
        "outputId": "0e9e9006-0bd7-4486-a659-87939346104b"
      },
      "source": [
        "test_data = np.random.random((10, 150))\n",
        "\n",
        "model.predict(test_data)"
      ],
      "execution_count": null,
      "outputs": [
        {
          "output_type": "execute_result",
          "data": {
            "text/plain": [
              "array([[25.710756],\n",
              "       [24.376913],\n",
              "       [22.324171],\n",
              "       [24.472927],\n",
              "       [21.625185],\n",
              "       [25.945913],\n",
              "       [27.040735],\n",
              "       [22.436934],\n",
              "       [24.231878],\n",
              "       [25.026926]], dtype=float32)"
            ]
          },
          "metadata": {
            "tags": []
          },
          "execution_count": 44
        }
      ]
    }
  ]
}